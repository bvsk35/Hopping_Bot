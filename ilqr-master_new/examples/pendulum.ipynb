{
 "cells": [
  {
   "cell_type": "markdown",
   "metadata": {},
   "source": [
    "# Inverted Pendulum Problem\n",
    "\n",
    "The state and control vectors $\\textbf{x}$ and $\\textbf{u}$ are defined as follows:\n",
    "\n",
    "$$\n",
    "\\begin{equation*}\n",
    "\\textbf{x} = \\begin{bmatrix}\n",
    "    \\theta & \\dot{\\theta}\n",
    "    \\end{bmatrix}\n",
    "\\end{equation*}\n",
    "$$\n",
    "\n",
    "$$\n",
    "\\begin{equation*}\n",
    "\\textbf{u} = \\begin{bmatrix}\n",
    "    \\tau\n",
    "    \\end{bmatrix}\n",
    "\\end{equation*}\n",
    "$$\n",
    "\n",
    "The goal is to swing the pendulum upright:\n",
    "\n",
    "$$\n",
    "\\begin{equation*}\n",
    "\\textbf{x}_{goal} = \\begin{bmatrix}\n",
    "    0 & 0\n",
    "    \\end{bmatrix}\n",
    "\\end{equation*}\n",
    "$$\n",
    "\n",
    "In order to deal with potential angle wrap-around issues (i.e. $2\\pi = 0$), we\n",
    "augment the state as follows and use that instead:\n",
    "\n",
    "$$\n",
    "\\begin{equation*}\n",
    "\\textbf{x}_{augmented} = \\begin{bmatrix}\n",
    "    \\sin\\theta & \\cos\\theta & \\dot{\\theta}\n",
    "    \\end{bmatrix}\n",
    "\\end{equation*}\n",
    "$$\n",
    "\n",
    "**Note**: The torque is constrained between $-1$ and $1$. This is achieved by\n",
    "instead fitting for unconstrained actions and then applying it to a squashing\n",
    "function $\\tanh(\\textbf{u})$. This is directly embedded into the dynamics model\n",
    "in order to be auto-differentiated. This also means that we need to apply this\n",
    "transformation manually to the output of our iLQR at the end."
   ]
  },
  {
   "cell_type": "code",
   "execution_count": 1,
   "metadata": {},
   "outputs": [],
   "source": [
    "%matplotlib inline"
   ]
  },
  {
   "cell_type": "code",
   "execution_count": 2,
   "metadata": {},
   "outputs": [],
   "source": [
    "from __future__ import print_function"
   ]
  },
  {
   "cell_type": "code",
   "execution_count": 3,
   "metadata": {},
   "outputs": [],
   "source": [
    "import numpy as np\n",
    "import matplotlib.pyplot as plt"
   ]
  },
  {
   "cell_type": "code",
   "execution_count": 4,
   "metadata": {},
   "outputs": [],
   "source": [
    "from ilqr import iLQR\n",
    "from ilqr.cost import QRCost\n",
    "from ilqr.dynamics import constrain\n",
    "from ilqr.examples.pendulum import InvertedPendulumDynamics"
   ]
  },
  {
   "cell_type": "code",
   "execution_count": 5,
   "metadata": {},
   "outputs": [],
   "source": [
    "def on_iteration(iteration_count, xs, us, J_opt, accepted, converged):\n",
    "    J_hist.append(J_opt)\n",
    "    info = \"converged\" if converged else (\"accepted\" if accepted else \"failed\")\n",
    "    final_state = dynamics.reduce_state(xs[-1])\n",
    "    print(\"iteration\", iteration_count, info, J_opt, final_state)"
   ]
  },
  {
   "cell_type": "code",
   "execution_count": 6,
   "metadata": {},
   "outputs": [],
   "source": [
    "dt = 0.01\n",
    "dynamics = InvertedPendulumDynamics(dt)"
   ]
  },
  {
   "cell_type": "code",
   "execution_count": 7,
   "metadata": {},
   "outputs": [],
   "source": [
    "# Note that the augmented state is not all 0.\n",
    "x_goal = dynamics.augment_state(np.array([0.0, 0.0]))\n",
    "\n",
    "Q = np.array([[100.0, 0.0, 0.0], [0.0, 100.0, 0.0], [0.0, 0.0, 1.0]])\n",
    "Q_terminal = 100 * np.eye(dynamics.state_size)\n",
    "R = np.array([[1.0]])\n",
    "cost = QRCost(Q, R, Q_terminal=Q_terminal, x_goal=x_goal)"
   ]
  },
  {
   "cell_type": "code",
   "execution_count": 8,
   "metadata": {},
   "outputs": [],
   "source": [
    "N = 600\n",
    "\n",
    "x0 = dynamics.augment_state(np.array([np.pi, 0.0]))\n",
    "us_init = np.random.uniform(-1, 1, (N, dynamics.action_size))\n",
    "ilqr = iLQR(dynamics, cost, N)"
   ]
  },
  {
   "cell_type": "code",
   "execution_count": 9,
   "metadata": {},
   "outputs": [
    {
     "name": "stdout",
     "output_type": "stream",
     "text": [
      "iteration 0 accepted 240151.7844599118 [-3.09873225  0.141854  ]\n",
      "iteration 1 accepted 239667.06377798377 [-3.08118376  0.20444823]\n",
      "iteration 2 accepted 238278.88516621306 [-3.03562953  0.38970972]\n",
      "iteration 3 accepted 234542.89991770845 [-2.92234921  0.82945039]\n",
      "iteration 4 accepted 225648.93530762324 [-2.69772613  1.68408375]\n",
      "iteration 5 accepted 219556.83980975262 [3.03550375 5.13822886]\n",
      "iteration 6 accepted 217162.9941142595 [2.2498244  4.51666635]\n",
      "iteration 7 accepted 209073.95635217722 [ 0.38021835 -1.24909985]\n",
      "iteration 8 accepted 200634.02110757274 [ 0.38500289 -1.70080514]\n",
      "iteration 9 accepted 193862.5010557455 [ 2.12785807 -6.19103551]\n",
      "iteration 10 accepted 183730.32011027756 [ 2.81376623 -6.98198023]\n",
      "iteration 11 accepted 174268.2777035203 [-2.11610305 -6.09365351]\n",
      "iteration 12 accepted 164615.81101270503 [0.42985285 1.86886767]\n",
      "iteration 13 accepted 163456.37511359144 [0.88123891 2.97970947]\n",
      "iteration 14 accepted 161207.5904546074 [0.42480729 1.22214186]\n",
      "iteration 15 accepted 161142.15729110283 [0.79449424 2.68063203]\n",
      "iteration 16 accepted 159855.1780201856 [0.31801166 1.1296036 ]\n",
      "iteration 17 accepted 159777.11486128482 [0.40016204 1.39458745]\n",
      "iteration 18 accepted 158506.96864042056 [0.1063621  0.37507204]\n",
      "iteration 19 accepted 158141.26838784566 [0.0615726  0.27358508]\n",
      "iteration 20 accepted 157964.7046148674 [0.12199525 0.48050437]\n",
      "iteration 21 accepted 157791.63153768342 [0.06872642 0.30863104]\n",
      "iteration 22 accepted 157656.28617735347 [0.14750818 0.59041537]\n",
      "iteration 23 accepted 157392.98765297973 [0.05754837 0.30166816]\n",
      "iteration 24 accepted 157232.89181676623 [0.15324654 0.63126657]\n",
      "iteration 25 accepted 156992.32597502758 [0.06259606 0.3348974 ]\n",
      "iteration 26 accepted 156821.33440215065 [0.14597397 0.63225437]\n",
      "iteration 27 accepted 156601.83397442644 [0.06357822 0.36211485]\n",
      "iteration 28 accepted 156444.05689995582 [0.15180095 0.67758238]\n",
      "iteration 29 accepted 156246.01797950972 [0.06258303 0.3833359 ]\n",
      "iteration 30 accepted 156075.91547044498 [0.1530462  0.70888877]\n",
      "iteration 31 accepted 155895.35930163763 [0.06334596 0.41066022]\n",
      "iteration 32 accepted 155689.38007967564 [0.14907436 0.72019709]\n",
      "iteration 33 accepted 155581.6143367023 [0.06341983 0.43286498]\n",
      "iteration 34 accepted 155363.56316088827 [0.14550058 0.72655875]\n",
      "iteration 35 accepted 155355.54304740328 [0.06150241 0.44165128]\n",
      "iteration 36 accepted 155146.36975600105 [0.13659161 0.69896325]\n",
      "iteration 37 accepted 154488.34446706553 [0.12715993 0.84690015]\n",
      "iteration 38 accepted 154376.06312742428 [0.09865104 0.74345912]\n",
      "iteration 39 accepted 154236.4786585795 [0.10744967 0.74149544]\n",
      "iteration 40 accepted 154204.80648434244 [0.10409292 0.74848064]\n",
      "iteration 41 accepted 154132.2844910303 [0.09895047 0.68657188]\n",
      "iteration 42 accepted 154114.01474955183 [0.10011849 0.71994554]\n",
      "iteration 43 accepted 154071.5458184675 [0.09720097 0.68617684]\n",
      "iteration 44 accepted 154053.26093539366 [0.08748335 0.64758325]\n",
      "iteration 45 accepted 154023.71608977532 [0.10209398 0.7025418 ]\n",
      "iteration 46 accepted 154014.68804323845 [0.09967274 0.68791946]\n",
      "iteration 47 accepted 154002.2389658909 [0.09681345 0.67500843]\n",
      "iteration 48 accepted 153970.6179604107 [0.094847   0.66869583]\n",
      "iteration 49 accepted 153967.26583334806 [0.09022012 0.64668535]\n",
      "iteration 50 accepted 153962.76794703188 [0.10130204 0.69443051]\n",
      "iteration 51 accepted 153959.74821599713 [0.09406705 0.65825971]\n",
      "iteration 52 accepted 153951.20773671346 [0.1001961  0.68675811]\n",
      "iteration 53 accepted 153947.14013580472 [0.09118515 0.64618329]\n",
      "iteration 54 accepted 153942.33122023562 [0.10093687 0.68774487]\n",
      "iteration 55 accepted 153928.4922383733 [0.10209875 0.6815008 ]\n",
      "iteration 56 accepted 153925.4260343282 [0.09349214 0.64678985]\n",
      "iteration 57 accepted 153920.68429920633 [0.09812452 0.65897414]\n",
      "iteration 58 accepted 153918.18487445381 [0.09386486 0.63813799]\n",
      "iteration 59 accepted 153914.71966694982 [0.09988109 0.65605569]\n",
      "iteration 60 accepted 153911.61695328873 [0.0999125  0.65005403]\n",
      "iteration 61 accepted 153909.67147733117 [0.09244759 0.61988952]\n",
      "iteration 62 accepted 153907.4638783612 [0.09947796 0.64138475]\n",
      "iteration 63 accepted 153905.35758576848 [0.09452256 0.61739213]\n",
      "iteration 64 accepted 153903.32758492694 [0.09976474 0.63343165]\n",
      "iteration 65 accepted 153901.20053309904 [0.09319546 0.60443818]\n",
      "iteration 66 accepted 153898.94273723182 [0.10013095 0.62668364]\n",
      "iteration 67 accepted 153897.42792077054 [0.09373326 0.59766869]\n",
      "iteration 68 accepted 153894.9854593754 [0.10009565 0.6181428 ]\n",
      "iteration 69 accepted 153894.7126761107 [0.09325328 0.58778979]\n",
      "iteration 70 accepted 153891.99040669407 [0.10027561 0.61122585]\n",
      "iteration 71 accepted 153887.4074286621 [0.10053186 0.60431493]\n",
      "iteration 72 accepted 153885.74675005052 [0.09217478 0.57138756]\n",
      "iteration 73 accepted 153882.5737128399 [0.09963142 0.59335511]\n",
      "iteration 74 accepted 153881.04597726848 [0.09441044 0.56900672]\n",
      "iteration 75 accepted 153878.22093103032 [0.09977166 0.58441555]\n",
      "iteration 76 accepted 153876.92399101914 [0.09272072 0.55440249]\n",
      "iteration 77 accepted 153874.3020569845 [0.10020898 0.57842538]\n",
      "iteration 78 accepted 153873.88589020207 [0.09308318 0.54707989]\n",
      "iteration 79 accepted 153871.33854134227 [0.1003497  0.57158773]\n",
      "iteration 80 accepted 153865.8896204175 [0.10029185 0.56296706]\n",
      "iteration 81 accepted 153864.04012136147 [0.09147932 0.52925025]\n",
      "iteration 82 accepted 153859.94114994293 [0.09947083 0.55197661]\n",
      "iteration 83 accepted 153858.01042086948 [0.09411356 0.52771253]\n",
      "iteration 84 accepted 153854.0294634677 [0.09927787 0.54060242]\n",
      "iteration 85 accepted 153851.81174147298 [0.09208901 0.51119623]\n",
      "iteration 86 accepted 153847.74882240416 [0.09964911 0.53273784]\n",
      "iteration 87 accepted 153845.3174798104 [0.09259131 0.50279018]\n",
      "iteration 88 accepted 153840.74209720825 [0.09949225 0.52188855]\n",
      "iteration 89 accepted 153837.7424293643 [0.0914167  0.48869173]\n",
      "iteration 90 accepted 153831.82419178254 [0.09983987 0.51270629]\n",
      "iteration 91 accepted 153827.13612692937 [0.09089983 0.47585311]\n",
      "iteration 92 accepted 153817.93229975973 [0.09998871 0.50138089]\n",
      "iteration 93 accepted 153810.18047011146 [0.08966632 0.45953244]\n",
      "iteration 94 accepted 153800.08838273742 [0.10025185 0.4913823 ]\n",
      "iteration 95 accepted 153790.4902846786 [0.09953405 0.48003766]\n",
      "iteration 96 accepted 153785.38886639712 [0.08664393 0.43299719]\n",
      "iteration 97 accepted 153779.0048073089 [0.09985795 0.47410386]\n",
      "iteration 98 accepted 153772.94535063856 [0.08981131 0.43155789]\n",
      "iteration 99 accepted 153766.97500224013 [0.10008861 0.46364949]\n",
      "iteration 100 accepted 153761.44893999546 [0.08623472 0.40971806]\n",
      "iteration 101 accepted 153756.70793192755 [0.10147489 0.46070887]\n",
      "iteration 102 accepted 153744.7630219066 [0.09993361 0.44384072]\n",
      "iteration 103 accepted 153739.12952132119 [0.08446482 0.38889086]\n",
      "iteration 104 accepted 153730.69051475308 [0.09816027 0.43045113]\n",
      "iteration 105 accepted 153724.59455971784 [0.08859021 0.39058166]\n",
      "iteration 106 accepted 153716.67008815284 [0.09780966 0.41679205]\n",
      "iteration 107 accepted 153709.73204327226 [0.08473769 0.36764368]\n",
      "iteration 108 accepted 153701.57223201744 [0.09854876 0.41014025]\n",
      "iteration 109 accepted 153694.89745209573 [0.08551281 0.35930839]\n",
      "iteration 110 accepted 153686.74440365174 [0.09769314 0.39639425]\n",
      "iteration 111 accepted 153681.57899282273 [0.08354842 0.34302119]\n",
      "iteration 112 accepted 153673.22346394032 [0.09797135 0.38829152]\n",
      "iteration 113 accepted 153670.2314079744 [0.08305946 0.33162919]\n",
      "iteration 114 accepted 153661.06549796677 [0.09780037 0.37831074]\n",
      "iteration 115 accepted 153647.9812266276 [0.0947547  0.35826217]\n",
      "iteration 116 accepted 153639.4239086986 [0.07679995 0.29800255]\n",
      "iteration 117 accepted 153629.5151608485 [0.09894075 0.36889399]\n",
      "iteration 118 accepted 153617.6223903775 [0.08242683 0.30441009]\n",
      "iteration 119 accepted 153616.49260286873 [0.08480032 0.30699647]\n",
      "iteration 120 accepted 153576.92093546788 [0.09354626 0.32710982]\n",
      "iteration 121 accepted 153569.67504524798 [0.07551568 0.26491264]\n",
      "iteration 122 accepted 153553.29309112453 [0.09570999 0.32910334]\n",
      "iteration 123 accepted 153527.90072414136 [0.09334141 0.30934151]\n",
      "iteration 124 accepted 153525.04268933716 [0.07474486 0.25721672]\n",
      "iteration 125 accepted 153511.96244768056 [0.12965627 0.43303356]\n"
     ]
    },
    {
     "name": "stdout",
     "output_type": "stream",
     "text": [
      "iteration 126 accepted 153503.42490875113 [0.07762499 0.24168426]\n",
      "iteration 127 accepted 153495.54874949067 [0.08561019 0.27208444]\n",
      "iteration 128 accepted 153455.7673791016 [0.07830614 0.23805694]\n",
      "iteration 129 accepted 153454.70108103575 [0.07308667 0.23017712]\n",
      "iteration 130 accepted 153435.4073956773 [0.13104756 0.41302057]\n",
      "iteration 131 accepted 153419.92357955748 [0.07447476 0.20970314]\n",
      "iteration 132 accepted 153396.7600133036 [0.07437243 0.2095588 ]\n",
      "iteration 133 accepted 153385.67593427905 [0.0588315  0.16584232]\n",
      "iteration 134 accepted 153355.48169624727 [0.1172064  0.35389031]\n",
      "iteration 135 accepted 153349.85731694152 [0.06705658 0.17326516]\n",
      "iteration 136 accepted 153325.53296422365 [0.09127373 0.25300697]\n",
      "iteration 137 accepted 153260.01859451292 [0.07795915 0.1977065 ]\n",
      "iteration 138 accepted 153258.99411705654 [0.06368058 0.16935375]\n",
      "iteration 139 accepted 153242.14023058477 [0.11936936 0.37107896]\n",
      "iteration 140 accepted 153225.86375838154 [0.11699455 0.30016748]\n",
      "iteration 141 accepted 153209.9947048477 [0.03593711 0.0598732 ]\n",
      "iteration 142 accepted 153184.87193749612 [0.09584226 0.26654272]\n",
      "iteration 143 accepted 153165.3588878509 [0.05698083 0.1267622 ]\n",
      "iteration 144 accepted 153148.79832896 [0.13488311 0.37930409]\n",
      "iteration 145 accepted 153118.4802461149 [0.04007418 0.06559125]\n",
      "iteration 146 accepted 153094.82536530885 [0.1207414 0.3329115]\n",
      "iteration 147 accepted 153000.109402487 [0.08479566 0.18326529]\n",
      "iteration 148 accepted 152991.47639119643 [0.05459149 0.11980332]\n",
      "iteration 149 accepted 152981.56730687452 [0.17471513 0.49226616]\n",
      "iteration 150 accepted 152928.6560108234 [0.05001095 0.06285657]\n",
      "iteration 151 accepted 152879.3817028909 [0.07078681 0.13990934]\n",
      "iteration 152 accepted 152844.29001352898 [0.02850301 0.02856943]\n",
      "iteration 153 accepted 152816.9331276218 [0.15922785 0.44201437]\n",
      "iteration 154 accepted 152765.56280435793 [0.03765507 0.02861941]\n",
      "iteration 155 accepted 152702.04824797486 [0.10419462 0.24660707]\n",
      "iteration 156 accepted 152668.85099704986 [0.02470457 0.00352892]\n",
      "iteration 157 accepted 152561.4975345915 [0.13761587 0.35881493]\n",
      "iteration 158 accepted 152496.06905502983 [0.03129969 0.00706793]\n",
      "iteration 159 accepted 152379.4374013245 [0.10102901 0.22964658]\n",
      "iteration 160 accepted 152332.82261303448 [ 0.02450965 -0.00518043]\n",
      "iteration 161 accepted 152157.55998767997 [0.10875456 0.25637611]\n",
      "iteration 162 accepted 152090.79145874167 [ 2.90682494e-02 -4.20135383e-05]\n",
      "iteration 163 accepted 151906.3251239954 [0.0819718  0.16502613]\n",
      "iteration 164 accepted 151804.92383604514 [ 0.02246962 -0.01157703]\n",
      "iteration 165 accepted 151593.03381781979 [0.09461188 0.20889235]\n",
      "iteration 166 accepted 151476.88493779622 [ 0.01942314 -0.02353265]\n",
      "iteration 167 accepted 151205.96257138776 [0.09090777 0.1950863 ]\n",
      "iteration 168 accepted 151112.30225137796 [ 0.01655286 -0.03136935]\n",
      "iteration 169 accepted 150800.76013075304 [0.07755422 0.15606024]\n",
      "iteration 170 accepted 150622.87143068496 [ 0.01594254 -0.02860097]\n",
      "iteration 171 accepted 150277.3876096481 [0.0756811  0.15231149]\n",
      "iteration 172 accepted 150109.96288033057 [ 0.01414152 -0.03225266]\n",
      "iteration 173 accepted 149850.87781931923 [0.06508483 0.12315118]\n",
      "iteration 174 accepted 149713.7141761407 [ 0.01163544 -0.03285301]\n",
      "iteration 175 accepted 149491.65703899096 [0.06920013 0.13965619]\n",
      "iteration 176 accepted 149349.1866373955 [ 0.0098054  -0.03773394]\n",
      "iteration 177 accepted 149149.97151259036 [0.05976093 0.11310111]\n",
      "iteration 178 accepted 149019.8954751824 [ 0.00771874 -0.03807785]\n",
      "iteration 179 accepted 148840.138509984 [0.05965377 0.11705886]\n",
      "iteration 180 accepted 148718.47451578313 [ 0.00609328 -0.04027695]\n",
      "iteration 181 accepted 148546.32003373053 [0.05328612 0.10092234]\n",
      "iteration 182 accepted 148430.80794214195 [ 0.0048574  -0.03949094]\n",
      "iteration 183 accepted 148275.22095347423 [0.0483599  0.09027351]\n",
      "iteration 184 accepted 148189.96644825363 [ 0.00465201 -0.03665955]\n",
      "iteration 185 accepted 148023.88492757356 [0.04087651 0.07144504]\n",
      "iteration 186 accepted 147925.36164660793 [ 0.00172999 -0.03767429]\n",
      "iteration 187 accepted 147793.1923227041 [0.05546152 0.11853039]\n",
      "iteration 188 accepted 147704.1203884159 [-0.00336584 -0.05241928]\n",
      "iteration 189 accepted 147578.45252585024 [0.05580769 0.12245946]\n",
      "iteration 190 accepted 147501.53906825118 [-0.00581335 -0.05592614]\n",
      "iteration 191 accepted 147370.67184656856 [0.05381447 0.12055248]\n",
      "iteration 192 accepted 147280.85266504312 [-0.00594676 -0.053856  ]\n",
      "iteration 193 accepted 147173.1606578414 [0.05214852 0.1175259 ]\n",
      "iteration 194 accepted 147083.48647016182 [-0.00993415 -0.05913211]\n",
      "iteration 195 accepted 146983.00157720756 [0.06990629 0.172659  ]\n",
      "iteration 196 accepted 146905.06005681967 [-0.01260332 -0.07151236]\n",
      "iteration 197 accepted 146797.61733633647 [0.04356794 0.09923856]\n",
      "iteration 198 accepted 146711.71163862044 [-0.00969102 -0.05148448]\n",
      "iteration 199 accepted 146619.5495173005 [0.07149437 0.18090415]\n"
     ]
    }
   ],
   "source": [
    "J_hist = []\n",
    "xs, us = ilqr.fit(x0, us_init, n_iterations=200, on_iteration=on_iteration)"
   ]
  },
  {
   "cell_type": "code",
   "execution_count": 10,
   "metadata": {},
   "outputs": [],
   "source": [
    "# Reduce the state to something more reasonable.\n",
    "xs = dynamics.reduce_state(xs)\n",
    "\n",
    "# Constrain the actions to see what's actually applied to the system.\n",
    "us = constrain(us, dynamics.min_bounds, dynamics.max_bounds)"
   ]
  },
  {
   "cell_type": "code",
   "execution_count": 11,
   "metadata": {},
   "outputs": [],
   "source": [
    "t = np.arange(N) * dt\n",
    "theta = np.unwrap(xs[:, 0])  # Makes for smoother plots.\n",
    "theta_dot = xs[:, 1]"
   ]
  },
  {
   "cell_type": "code",
   "execution_count": 12,
   "metadata": {},
   "outputs": [
    {
     "data": {
      "image/png": "[encoded data removed]",
      "text/plain": [
       "<Figure size 432x288 with 1 Axes>"
      ]
     },
     "metadata": {},
     "output_type": "display_data"
    }
   ],
   "source": [
    "_ = plt.plot(theta, theta_dot)\n",
    "_ = plt.xlabel(\"theta (rad)\")\n",
    "_ = plt.ylabel(\"theta_dot (rad/s)\")\n",
    "_ = plt.title(\"Phase Plot\")"
   ]
  },
  {
   "cell_type": "code",
   "execution_count": 13,
   "metadata": {},
   "outputs": [
    {
     "data": {
      "image/png": "[encoded data removed]",
      "text/plain": [
       "<Figure size 432x288 with 1 Axes>"
      ]
     },
     "metadata": {},
     "output_type": "display_data"
    }
   ],
   "source": [
    "_ = plt.plot(t, us)\n",
    "_ = plt.xlabel(\"time (s)\")\n",
    "_ = plt.ylabel(\"Force (N)\")\n",
    "_ = plt.title(\"Action path\")"
   ]
  },
  {
   "cell_type": "code",
   "execution_count": 14,
   "metadata": {
    "scrolled": true
   },
   "outputs": [
    {
     "data": {
      "image/png": "[encoded data removed]",
      "text/plain": [
       "<Figure size 432x288 with 1 Axes>"
      ]
     },
     "metadata": {},
     "output_type": "display_data"
    }
   ],
   "source": [
    "_ = plt.plot(J_hist)\n",
    "_ = plt.xlabel(\"Iteration\")\n",
    "_ = plt.ylabel(\"Total cost\")\n",
    "_ = plt.title(\"Total cost-to-go\")"
   ]
  }
 ],
 "metadata": {
  "kernelspec": {
   "display_name": "Python 3",
   "language": "python",
   "name": "python3"
  },
  "language_info": {
   "codemirror_mode": {
    "name": "ipython",
    "version": 3
   },
   "file_extension": ".py",
   "mimetype": "text/x-python",
   "name": "python",
   "nbconvert_exporter": "python",
   "pygments_lexer": "ipython3",
   "version": "3.6.5"
  }
 },
 "nbformat": 4,
 "nbformat_minor": 2
}
