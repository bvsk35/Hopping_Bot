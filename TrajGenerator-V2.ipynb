{
 "cells": [
  {
   "cell_type": "markdown",
   "metadata": {},
   "source": [
    "### Import required libraries"
   ]
  },
  {
   "cell_type": "code",
   "execution_count": 1,
   "metadata": {},
   "outputs": [],
   "source": [
    "import numpy as np\n",
    "import matplotlib.pyplot as plt\n",
    "\n",
    "from CartPole import CartPole\n",
    "# from CartPole_GPS import CartPole_GPS\n",
    "\n",
    "from ilqr.dynamics import constrain\n",
    "from copy import deepcopy\n",
    "\n",
    "from EstimateDynamics import local_estimate\n",
    "from GMM import Estimated_Dynamics_Prior\n",
    "\n",
    "from sklearn.gaussian_process import GaussianProcessRegressor\n",
    "from sklearn.gaussian_process.kernels import DotProduct, WhiteKernel\n",
    "\n",
    "from mujoco_py import load_model_from_path, MjSim, MjViewer\n",
    "import mujoco_py\n",
    "\n",
    "import time"
   ]
  },
  {
   "cell_type": "markdown",
   "metadata": {},
   "source": [
    "### Formulate the iLQR problem"
   ]
  },
  {
   "cell_type": "code",
   "execution_count": 2,
   "metadata": {},
   "outputs": [],
   "source": [
    "'''\n",
    "1 - dt = time step\n",
    "2 - N = Number of control points in the trajectory\n",
    "3 - x0 = Initial state\n",
    "4 - x_goal = Final state\n",
    "5 - Q = State cost\n",
    "6 - R = Control cost\n",
    "7 - Q_terminal = Cost at the final step\n",
    "8 - x_dynamics array stores the information regarding system. \n",
    "    x_dynamics[0] = m = mass of the pendulum bob \n",
    "    x_dynamics[1] = M = mass of the cart \n",
    "    x_dynamics[2] = L = length of the massles|s rod \n",
    "    x_dynamics[3] = g = gravity \n",
    "    x_dynamics[4] = d = damping in the system\n",
    "'''\n",
    "dt = 0.05\n",
    "N = 600  # Number of time steps in trajectory.\n",
    "x_dynamics = np.array([0.1, 1, 1, 9.80665, 0]) # m=1, M=5, L=2, g=9.80665, d=1\n",
    "x0 = np.array([0.0, 0.0, 3.14, 0.0])  # Initial state\n",
    "x_goal = np.array([0.0, 0.0, 0.0, 0.0])\n",
    "# Instantenous state cost.\n",
    "Q = np.eye(5)\n",
    "Q[0, 0] = 1\n",
    "Q[1, 1] = 100\n",
    "Q[2, 2] = 10\n",
    "Q[3, 3] = 10\n",
    "Q[4, 4] = 1\n",
    "# Terminal state cost.\n",
    "Q_terminal = 100  * np.eye(5)\n",
    "# Q_terminal[2, 2] = 100\n",
    "# Q_terminal[3, 3] = 100\n",
    "# Instantaneous control cost.\n",
    "R = np.array([[1.0]])"
   ]
  },
  {
   "cell_type": "markdown",
   "metadata": {},
   "source": [
    "### iLQR on Cart Pole"
   ]
  },
  {
   "cell_type": "code",
   "execution_count": 3,
   "metadata": {
    "scrolled": true
   },
   "outputs": [
    {
     "name": "stdout",
     "output_type": "stream",
     "text": [
      "iteration 0 accepted 24835.97366651363 [0.25506547 0.69316547 0.21188686 1.89271083]\n",
      "iteration 1 accepted 24222.39565819079 [-0.06118675  0.50604331  0.1064983   1.78549707]\n",
      "iteration 2 accepted 23974.201938914302 [ 0.15678272  0.40463987 -0.16324327  1.83332737]\n",
      "iteration 3 failed 23974.201938914288 [ 0.15678272  0.40463987 -0.16324327  1.83332737]\n",
      "iteration 4 failed 23974.201938914288 [ 0.15678272  0.40463987 -0.16324327  1.83332737]\n",
      "iteration 5 failed 23974.201938914288 [ 0.15678272  0.40463987 -0.16324327  1.83332737]\n",
      "iteration 6 failed 23974.201938914288 [ 0.15678272  0.40463987 -0.16324327  1.83332737]\n",
      "iteration 7 failed 23974.201938914288 [ 0.15678272  0.40463987 -0.16324327  1.83332737]\n",
      "iteration 8 failed 23974.201938914288 [ 0.15678272  0.40463987 -0.16324327  1.83332737]\n",
      "iteration 9 failed 23974.201938914288 [ 0.15678272  0.40463987 -0.16324327  1.83332737]\n",
      "iteration 10 failed 23974.201938914288 [ 0.15678272  0.40463987 -0.16324327  1.83332737]\n",
      "iteration 11 accepted 23974.02909426907 [ 0.15665061  0.40464058 -0.16323797  1.83332836]\n",
      "iteration 12 accepted 23973.893023552104 [ 0.15667971  0.40464161 -0.16323034  1.83332977]\n",
      "iteration 13 accepted 23973.871594846718 [ 0.15719692  0.40469793 -0.16327732  1.83339364]\n",
      "iteration 14 accepted 23962.393412733847 [ 0.23751596  0.40670987 -0.16982154  1.85964431]\n",
      "iteration 15 failed 23962.393412733873 [ 0.23751596  0.40670987 -0.16982154  1.85964431]\n",
      "iteration 16 accepted 23934.285996763545 [ 0.24433558  0.41125608 -0.18925438  1.9002647 ]\n",
      "iteration 17 failed 23934.285996763516 [ 0.24433558  0.41125608 -0.18925438  1.9002647 ]\n",
      "iteration 18 failed 23934.285996763516 [ 0.24433558  0.41125608 -0.18925438  1.9002647 ]\n",
      "iteration 19 failed 23934.285996763516 [ 0.24433558  0.41125608 -0.18925438  1.9002647 ]\n",
      "iteration 20 failed 23934.285996763516 [ 0.24433558  0.41125608 -0.18925438  1.9002647 ]\n",
      "iteration 21 accepted 23933.96118707459 [ 0.24297321  0.41125519 -0.18925468  1.90026532]\n",
      "iteration 22 accepted 23927.99529442229 [ 0.18556589  0.39728513 -0.18795342  1.89729979]\n",
      "iteration 23 failed 23927.995294422297 [ 0.18556589  0.39728513 -0.18795342  1.89729979]\n",
      "iteration 24 accepted 23927.48949869926 [ 0.03119915  0.3616538  -0.2201582   1.87963385]\n",
      "iteration 25 accepted 23927.389394037647 [ 0.03472811  0.36223463 -0.22011137  1.87962144]\n",
      "iteration 26 accepted 23926.81468009487 [ 0.02888736  0.36222727 -0.22010945  1.87961055]\n",
      "iteration 27 failed 23926.81468009487 [ 0.02888736  0.36222727 -0.22010945  1.87961055]\n",
      "iteration 28 accepted 23926.189290691367 [-0.00340058  0.36170302 -0.22418052  1.88269483]\n",
      "iteration 29 failed 23926.18929069139 [-0.00340058  0.36170302 -0.22418052  1.88269483]\n",
      "iteration 30 failed 23926.18929069139 [-0.00340058  0.36170302 -0.22418052  1.88269483]\n",
      "iteration 31 failed 23926.18929069139 [-0.00340058  0.36170302 -0.22418052  1.88269483]\n",
      "iteration 32 accepted 23925.663085071923 [-1.81958794e-03  3.62124290e-01 -2.24153631e-01  1.88352807e+00]\n",
      "iteration 33 accepted 23923.557446388862 [ 0.02542625  0.36469403 -0.22380782  1.88562994]\n",
      "iteration 34 failed 23923.557446388877 [ 0.02542625  0.36469403 -0.22380782  1.88562994]\n",
      "iteration 35 accepted 23923.20880048632 [ 0.02435738  0.36451069 -0.22413513  1.88624175]\n",
      "iteration 36 failed 23923.20880048636 [ 0.02435738  0.36451069 -0.22413513  1.88624175]\n",
      "iteration 37 accepted 23922.7950421511 [ 0.02097977  0.36409811 -0.22449549  1.88690336]\n",
      "iteration 38 accepted 23914.87164063484 [-0.03507274  0.35607954 -0.23397463  1.90527789]\n",
      "iteration 39 accepted 23905.91798256126 [-0.03714715  0.35227061 -0.24189123  1.93804996]\n",
      "iteration 40 accepted 23885.452678192985 [-0.0040818   0.35141254 -0.25858889  1.99272219]\n",
      "iteration 41 failed 23885.452678192974 [-0.0040818   0.35141254 -0.25858889  1.99272219]\n",
      "iteration 42 failed 23885.452678192974 [-0.0040818   0.35141254 -0.25858889  1.99272219]\n",
      "iteration 43 accepted 23872.876875312628 [ 0.01224124  0.35318964 -0.27195541  2.04527171]\n",
      "iteration 44 failed 23872.876875312657 [ 0.01224124  0.35318964 -0.27195541  2.04527171]\n",
      "iteration 45 accepted 23871.256195381655 [-0.03760814  0.34343199 -0.28707112  2.11329738]\n",
      "iteration 46 failed 23871.256195381648 [-0.03760814  0.34343199 -0.28707112  2.11329738]\n",
      "iteration 47 failed 23871.256195381648 [-0.03760814  0.34343199 -0.28707112  2.11329738]\n",
      "iteration 48 failed 23871.256195381648 [-0.03760814  0.34343199 -0.28707112  2.11329738]\n",
      "iteration 49 failed 23871.256195381648 [-0.03760814  0.34343199 -0.28707112  2.11329738]\n",
      "iteration 50 accepted 23871.226398062332 [-0.03632084  0.3434314  -0.28707176  2.11329631]\n",
      "iteration 51 accepted 23863.7252113545 [-0.04699977  0.34297778 -0.28724982  2.11367291]\n",
      "iteration 52 accepted 23863.498132474902 [-0.04348171  0.34341765 -0.28730698  2.11383159]\n",
      "iteration 53 failed 23863.498132474902 [-0.04348171  0.34341765 -0.28730698  2.11383159]\n",
      "iteration 54 accepted 23863.203015367177 [-0.04442272  0.34298636 -0.28836219  2.11838587]\n",
      "iteration 55 failed 23863.203015367148 [-0.04442272  0.34298636 -0.28836219  2.11838587]\n",
      "iteration 56 accepted 23863.112601786917 [-0.04815164  0.34155982 -0.2885247   2.11938721]\n",
      "iteration 57 failed 23863.11260178693 [-0.04815164  0.34155982 -0.2885247   2.11938721]\n",
      "iteration 58 failed 23863.11260178693 [-0.04815164  0.34155982 -0.2885247   2.11938721]\n",
      "iteration 59 failed 23863.11260178693 [-0.04815164  0.34155982 -0.2885247   2.11938721]\n",
      "iteration 60 accepted 23863.031243513327 [-0.09263901  0.33636745 -0.2821935   2.11516195]\n",
      "iteration 61 accepted 23862.21648043374 [-0.0876902   0.33652768 -0.28257826  2.11742698]\n",
      "iteration 62 accepted 23859.462295577152 [-0.04289083  0.34875934 -0.27569795  2.09361183]\n",
      "iteration 63 failed 23859.46229557719 [-0.04289083  0.34875934 -0.27569795  2.09361183]\n",
      "iteration 64 accepted 23853.140717887767 [-0.08550412  0.31237535 -0.26568239  2.11286817]\n",
      "iteration 65 failed 23853.14071788777 [-0.08550412  0.31237535 -0.26568239  2.11286817]\n",
      "iteration 66 accepted 23852.73182186576 [-0.08904879  0.311749   -0.26969571  2.11962112]\n",
      "iteration 67 failed 23852.731821865775 [-0.08904879  0.311749   -0.26969571  2.11962112]\n",
      "iteration 68 accepted 23851.263266298272 [-0.08882015  0.30864921 -0.27354662  2.13235268]\n",
      "iteration 69 failed 23851.263266298294 [-0.08882015  0.30864921 -0.27354662  2.13235268]\n",
      "iteration 70 failed 23851.263266298294 [-0.08882015  0.30864921 -0.27354662  2.13235268]\n",
      "iteration 71 failed 23851.263266298294 [-0.08882015  0.30864921 -0.27354662  2.13235268]\n",
      "iteration 72 failed 23851.263266298294 [-0.08882015  0.30864921 -0.27354662  2.13235268]\n",
      "iteration 73 accepted 23851.262728735528 [-0.08879245  0.3086492  -0.27354664  2.13235264]\n",
      "iteration 74 accepted 23851.259137130575 [-0.08871875  0.30864897 -0.27354676  2.13235268]\n",
      "iteration 75 accepted 23850.646925592075 [-0.08288972  0.31005217 -0.27325007  2.13145471]\n",
      "iteration 76 failed 23850.64692559212 [-0.08288972  0.31005217 -0.27325007  2.13145471]\n",
      "iteration 77 accepted 23850.32538483947 [-0.07910331  0.31128    -0.27295529  2.13029366]\n",
      "iteration 78 accepted 23850.055222575673 [-0.0683967   0.31321537 -0.27257365  2.12822047]\n",
      "iteration 79 failed 23850.05522257567 [-0.0683967   0.31321537 -0.27257365  2.12822047]\n",
      "iteration 80 failed 23850.05522257567 [-0.0683967   0.31321537 -0.27257365  2.12822047]\n",
      "iteration 81 failed 23850.05522257567 [-0.0683967   0.31321537 -0.27257365  2.12822047]\n"
     ]
    },
    {
     "name": "stderr",
     "output_type": "stream",
     "text": [
      "/usr/local/lib/python3.6/dist-packages/ilqr-0.1.0-py3.6.egg/ilqr/controller.py:168: UserWarning: exceeded max regularization term\n"
     ]
    }
   ],
   "source": [
    "cartpole_prob = CartPole(dt, N, x_dynamics, x0, x_goal, Q, R, Q_terminal)\n",
    "xs, us, K, k = cartpole_prob.run_IterLinQuadReg()"
   ]
  },
  {
   "cell_type": "code",
   "execution_count": null,
   "metadata": {},
   "outputs": [],
   "source": [
    "# State matrix split into individual states. For plotting and analysing purposes.\n",
    "t = np.arange(N + 1) * dt\n",
    "x = xs[:, 0] # Position\n",
    "x_dot = xs[:, 1] # Velocity\n",
    "theta = np.unwrap(cartpole_prob.deaugment_state(xs)[:, 2])  # Theta, makes for smoother plots.\n",
    "theta_dot = xs[:, 3] # Angular velocity"
   ]
  },
  {
   "cell_type": "markdown",
   "metadata": {},
   "source": [
    "### Simulate the real system and generate the data\n",
    "Cost matrices, initial position and goal position will remain same as the above problem. As it indicates one policy. But still the initial positions and goal positions must be passed explicitly to the function. But you don't need to pass cost matrices (assume penalty on the system is same), this is just used to use to calculate the cost of the trajectory. Correct control action must be passed. Parameter gamma indicates how much of original data you want to keep\n",
    "\n",
    "Variance of the Gaussian noise will be taken as input from a Unif(0, var_range) uniform distribution. Inputs: x_initial, x_goal, u, n_rollouts, pattern='Normal', pattern_rand=False, var_range=10, gamma=0.2, percent=20\n",
    "\n",
    "Pattern controls how the control sequence will be modified after applying white Guassian noise (zero mean).\n",
    "- Normal: based on the correction/mixing parameter gamma generate control (gamma controls how much noise we want).\n",
    "- MissingValue: based on the given percentage, set those many values to zero (it is implicitly it uses \"Normal\" generated control is used). \n",
    "- Shuffle: shuffles the entire \"Normal\" generated control sequence.\n",
    "- TimeDelay: takes the \"Normal\" generated control and shifts it by 1 index i.e. one unit time delay.\n",
    "- Extreme: sets gamma as zeros and generates control based on only noise.\n",
    "\n",
    "If 'pattern_rand' is 'True' then we don't need to send the explicitly, it will chose one randomly for every rollout (default is 'False'). If you want to chose specific pattern then send it explicitly. "
   ]
  },
  {
   "cell_type": "code",
   "execution_count": null,
   "metadata": {},
   "outputs": [],
   "source": [
    "x_rollout, u_rollout, local_policy, cost = cartpole_prob.gen_rollouts(x0, x_goal, us, n_rollouts=10, pattern_rand=True, var_range=10, gamma=0.2, percent=20)"
   ]
  },
  {
   "cell_type": "markdown",
   "metadata": {},
   "source": [
    "### Local system dynamics/model estimate\n",
    "loca_estimate: function takes the states (arranged in a special format, [x(t), u(t), x(t+1)]), no. of gaussian mixtures and no.of states."
   ]
  },
  {
   "cell_type": "code",
   "execution_count": null,
   "metadata": {
    "scrolled": false
   },
   "outputs": [],
   "source": [
    "model = Estimated_Dynamics_Prior(init_sequential=False, eigreg=False, warmstart=True, \n",
    "                 min_samples_per_cluster=20, max_clusters=50, max_samples=20, strength=1.0)\n",
    "model.update_prior(x_rollout, u_rollout)\n",
    "A, B, C = model.fit(x_rollout, u_rollout)"
   ]
  },
  {
   "cell_type": "code",
   "execution_count": null,
   "metadata": {},
   "outputs": [],
   "source": [
    "print(A.shape)\n",
    "print(B.shape)\n",
    "print(C.shape)"
   ]
  },
  {
   "cell_type": "code",
   "execution_count": null,
   "metadata": {},
   "outputs": [],
   "source": [
    "Model = \"mujoco/cartpole.xml\"\n",
    "model_loaded = load_model_from_path(Model)\n",
    "sim = MjSim(model_loaded)"
   ]
  },
  {
   "cell_type": "code",
   "execution_count": null,
   "metadata": {},
   "outputs": [],
   "source": [
    "#viewer = mujoco_py.MjViewer(sim)\n",
    "t = 0\n",
    "sim.data.qpos[0] = 0.0\n",
    "sim.data.qpos[1] = 0.14\n",
    "sim.data.qvel[0] = 0\n",
    "sim.data.qvel[1] = 0\n",
    "final = 0\n",
    "for i in range(2000):\n",
    "    start_time = time.time()\n",
    "    state = np.c_[sim.data.qpos[0],sim.data.qvel[0],np.sin(sim.data.qpos[1]),\n",
    "                  np.cos(sim.data.qpos[1]),sim.data.qvel[1]].T\n",
    "    control = np.dot(k[i,:],(xs[i].reshape(5,1) - state ))  + K[i].T + us[i]\n",
    "    sim.data.ctrl[0] = control\n",
    "    sim.step()\n",
    "    #viewer.render()\n",
    "    #print(control, \"this is the control\")\n",
    "    if (sim.data.qpos[0] == 1.0 and sim.data.qpos[1] == 0):\n",
    "        print('states reached')\n",
    "        break\n",
    "print(sim.get_state())"
   ]
  },
  {
   "cell_type": "code",
   "execution_count": null,
   "metadata": {},
   "outputs": [],
   "source": [
    "import time\n",
    "time.sleep(5)"
   ]
  },
  {
   "cell_type": "code",
   "execution_count": null,
   "metadata": {},
   "outputs": [],
   "source": [
    "from Simulator import Mujoco_sim\n",
    "Model = \"mujoco/cartpole.xml\"\n",
    "cart_pole_simulator = Mujoco_sim(Model,True)\n",
    "cart_pole_simulator.load(xs,us,k,K,x0,initial=False)\n",
    "cart_pole_simulator.runSimulation()"
   ]
  },
  {
   "cell_type": "code",
   "execution_count": null,
   "metadata": {},
   "outputs": [],
   "source": [
    "cart_pole_simulator.runSimulation()"
   ]
  },
  {
   "cell_type": "code",
   "execution_count": null,
   "metadata": {},
   "outputs": [],
   "source": [
    "np.max(xs)"
   ]
  },
  {
   "cell_type": "code",
   "execution_count": null,
   "metadata": {},
   "outputs": [],
   "source": [
    "np.max(us)"
   ]
  },
  {
   "cell_type": "code",
   "execution_count": null,
   "metadata": {},
   "outputs": [],
   "source": [
    "import matplotlib.pyplot as plt\n",
    "# plt.plot(xs[0,:])\n",
    "plt.plot(us)"
   ]
  },
  {
   "cell_type": "code",
   "execution_count": null,
   "metadata": {},
   "outputs": [],
   "source": [
    "import sys \n",
    "np.set_printoptions(threshold=sys.maxsize)"
   ]
  },
  {
   "cell_type": "code",
   "execution_count": null,
   "metadata": {},
   "outputs": [],
   "source": []
  }
 ],
 "metadata": {
  "kernelspec": {
   "display_name": "Python 3",
   "language": "python",
   "name": "python3"
  },
  "language_info": {
   "codemirror_mode": {
    "name": "ipython",
    "version": 3
   },
   "file_extension": ".py",
   "mimetype": "text/x-python",
   "name": "python",
   "nbconvert_exporter": "python",
   "pygments_lexer": "ipython3",
   "version": "3.6.7"
  }
 },
 "nbformat": 4,
 "nbformat_minor": 2
}
