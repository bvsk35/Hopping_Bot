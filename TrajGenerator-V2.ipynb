{
 "cells": [
  {
   "cell_type": "markdown",
   "metadata": {},
   "source": [
    "### Import required libraries"
   ]
  },
  {
   "cell_type": "code",
   "execution_count": 1,
   "metadata": {},
   "outputs": [],
   "source": [
    "import numpy as np\n",
    "import matplotlib.pyplot as plt\n",
    "\n",
    "from CartPole import CartPole\n",
    "from CartPole_GPS import CartPole_GPS\n",
    "\n",
    "from ilqr.dynamics import constrain\n",
    "from copy import deepcopy\n",
    "\n",
    "from EstimateDynamics import local_estimate\n",
    "from GMM import Estimated_Dynamics_Prior\n",
    "\n",
    "from sklearn.gaussian_process import GaussianProcessRegressor\n",
    "from sklearn.gaussian_process.kernels import DotProduct, WhiteKernel\n",
    "\n",
    "from mujoco_py import load_model_from_path, MjSim, MjViewer\n",
    "import mujoco_py\n",
    "\n",
    "import time"
   ]
  },
  {
   "cell_type": "markdown",
   "metadata": {},
   "source": [
    "### Formulate the iLQR problem"
   ]
  },
  {
   "cell_type": "code",
   "execution_count": 2,
   "metadata": {},
   "outputs": [],
   "source": [
    "'''\n",
    "1 - dt = time step\n",
    "2 - N = Number of control points in the trajectory\n",
    "3 - x0 = Initial state\n",
    "4 - x_goal = Final state\n",
    "5 - Q = State cost\n",
    "6 - R = Control cost\n",
    "7 - Q_terminal = Cost at the final step\n",
    "8 - x_dynamics array stores the information regarding system. \n",
    "    x_dynamics[0] = m = mass of the pendulum bob \n",
    "    x_dynamics[1] = M = mass of the cart \n",
    "    x_dynamics[2] = L = length of the massles|s rod \n",
    "    x_dynamics[3] = g = gravity \n",
    "    x_dynamics[4] = d = damping in the system\n",
    "'''\n",
    "dt = 0.005\n",
    "N = 2500  # Number of time steps in trajectory.\n",
    "x_dynamics = np.array([1, 5, 2, 9.80665, 0.1]) # m=1, M=5, L=0.3, g=9.80665, d=0.05\n",
    "x0 = np.array([-2.0, 0.0, 0.01, 0.0])  # Initial state\n",
    "x_goal = np.array([3.0, 0.0, 0.0, 0.0])\n",
    "# Instantenous state cost.\n",
    "Q = np.eye(5)\n",
    "# Q[0,0] = 10\n",
    "Q[2, 2] = 10\n",
    "Q[3, 3] = 10\n",
    "# Q[4, 4] = 100\n",
    "# Terminal state cost.\n",
    "Q_terminal = 100 * np.eye(5)\n",
    "# Instantaneous control cost.\n",
    "R = np.array([[1.0]])"
   ]
  },
  {
   "cell_type": "markdown",
   "metadata": {},
   "source": [
    "### iLQR on Cart Pole"
   ]
  },
  {
   "cell_type": "code",
   "execution_count": 4,
   "metadata": {
    "scrolled": true
   },
   "outputs": [
    {
     "name": "stdout",
     "output_type": "stream",
     "text": [
      "iteration 0 accepted 66581.56537599936 [ 3.75171071  0.33857974 -0.96274072 -1.71126115]\n",
      "iteration 1 failed 66581.56537599934 [ 3.75171071  0.33857974 -0.96274072 -1.71126115]\n",
      "iteration 2 accepted 61593.54284321188 [3.01092651 0.16619785 1.40182441 2.59581977]\n",
      "iteration 3 accepted 58403.52980858578 [ 3.62655133  0.31541928 -0.24913086 -0.40402417]\n",
      "iteration 4 accepted 58277.26022968569 [ 3.6771218   0.27843403 -0.18930162 -0.27932402]\n",
      "iteration 5 accepted 58076.51720890989 [ 3.66501513  0.19578397 -0.08222649 -0.0599065 ]\n",
      "iteration 6 accepted 57784.08022350561 [ 3.31461579 -0.12721779  0.35449206  0.82162713]\n",
      "iteration 7 accepted 57703.36301419336 [ 3.44803114 -0.11186697  0.49231306  1.09957958]\n",
      "iteration 8 accepted 57698.7403594128 [ 3.62902902 -0.11147383  0.52706734  1.15881444]\n",
      "iteration 9 accepted 57468.9232502335 [ 3.37654544 -0.08872058  0.28941388  0.69994074]\n",
      "iteration 10 accepted 57468.76680512249 [ 3.37679196 -0.08855749  0.28914052  0.69939193]\n",
      "iteration 11 accepted 57468.650571820006 [ 3.37799242 -0.08761178  0.28746418  0.69608244]\n",
      "iteration 12 failed 57468.65057182002 [ 3.37799242 -0.08761178  0.28746418  0.69608244]\n",
      "iteration 13 failed 57468.65057182002 [ 3.37799242 -0.08761178  0.28746418  0.69608244]\n",
      "iteration 14 failed 57468.65057182002 [ 3.37799242 -0.08761178  0.28746418  0.69608244]\n",
      "iteration 15 failed 57468.65057182002 [ 3.37799242 -0.08761178  0.28746418  0.69608244]\n",
      "iteration 16 failed 57468.65057182002 [ 3.37799242 -0.08761178  0.28746418  0.69608244]\n",
      "iteration 17 failed 57468.65057182002 [ 3.37799242 -0.08761178  0.28746418  0.69608244]\n",
      "iteration 18 failed 57468.65057182002 [ 3.37799242 -0.08761178  0.28746418  0.69608244]\n",
      "iteration 19 failed 57468.65057182002 [ 3.37799242 -0.08761178  0.28746418  0.69608244]\n",
      "iteration 20 accepted 57455.49789304948 [ 3.35332421 -0.08736742  0.28793203  0.69715201]\n",
      "iteration 21 accepted 57455.4675716035 [ 3.35333029 -0.08732143  0.28778417  0.69689361]\n",
      "iteration 22 accepted 57447.29602417685 [ 3.46670892 -0.10503783  0.33907724  0.79403416]\n",
      "iteration 23 accepted 57385.40019323824 [ 3.42403608 -0.12291504  0.4324457   0.98650547]\n",
      "iteration 24 accepted 57304.68740296573 [ 3.35823786 -0.09311     0.29744577  0.72495511]\n",
      "iteration 25 accepted 57255.111519241604 [ 3.39444985 -0.09324284  0.31057501  0.76299445]\n",
      "iteration 26 accepted 57244.16435271221 [ 3.41156237 -0.11417265  0.39911992  0.94908902]\n",
      "iteration 27 accepted 57201.33147927225 [ 3.4245856  -0.09541145  0.29252287  0.73940895]\n",
      "iteration 28 accepted 57159.37715025802 [ 3.45246229 -0.08112251  0.2665318   0.70807372]\n",
      "iteration 29 accepted 57154.28779959779 [ 3.41880058 -0.11169926  0.31428017  0.79454623]\n",
      "iteration 30 accepted 57114.691897499804 [ 3.39891726 -0.11827008  0.37096933  0.9199242 ]\n",
      "iteration 31 accepted 57114.55669995484 [ 3.47341995 -0.10160646  0.30924284  0.79434022]\n",
      "iteration 32 accepted 57108.713091713675 [ 3.43098941 -0.13197262  0.42473663  1.04031305]\n",
      "iteration 33 accepted 57074.83160524393 [ 3.49144542 -0.12803571  0.43784718  1.05906117]\n",
      "iteration 34 accepted 56978.84199068453 [ 3.35970429 -0.11782559  0.30196882  0.79652394]\n",
      "iteration 35 accepted 56938.05746172861 [ 3.401695   -0.10755589  0.28990317  0.79539674]\n",
      "iteration 36 accepted 56915.01856736851 [ 3.39862862 -0.12473346  0.32773473  0.88929904]\n",
      "iteration 37 accepted 56886.30357513488 [ 3.40395058 -0.11596287  0.27559536  0.78501601]\n",
      "iteration 38 accepted 56864.56648346022 [ 3.43647214 -0.11896419  0.31008191  0.89504529]\n",
      "iteration 39 accepted 56818.69923953972 [ 3.38601977 -0.11430242  0.24061734  0.75669981]\n",
      "iteration 40 accepted 56784.86164288549 [ 3.39941916 -0.11982771  0.25138691  0.79328193]\n",
      "iteration 41 accepted 56760.59251642575 [ 3.38032855 -0.12006914  0.23484305  0.76753889]\n",
      "iteration 42 accepted 56736.88558783419 [ 3.39488691 -0.12216148  0.24042881  0.77917362]\n",
      "iteration 43 accepted 56735.74009991656 [ 3.42542166 -0.12376795  0.27250873  0.88640222]\n",
      "iteration 44 accepted 56717.27092957578 [ 3.50615921 -0.12298751  0.30288199  0.92180487]\n",
      "iteration 45 accepted 56666.240437252236 [ 3.37229504 -0.13098958  0.23350204  0.79024233]\n",
      "iteration 46 accepted 56640.949971687216 [ 3.4008108  -0.12672545  0.23431822  0.81795395]\n",
      "iteration 47 accepted 56620.6403429046 [ 3.38243838 -0.12745599  0.2080267   0.77236659]\n",
      "iteration 48 accepted 56599.806984444454 [ 3.39826595 -0.12916443  0.21645327  0.78935084]\n",
      "iteration 49 accepted 56591.34170731309 [ 3.4140963  -0.12760365  0.21792047  0.83974926]\n",
      "iteration 50 accepted 56573.04157139766 [ 3.46912323 -0.13293731  0.25466054  0.89388226]\n",
      "iteration 51 accepted 56535.7128850888 [ 3.37769722 -0.13375171  0.19834157  0.79073488]\n",
      "iteration 52 accepted 56516.679796152486 [ 3.39873854 -0.13004196  0.18477251  0.79660928]\n",
      "iteration 53 accepted 56499.90272761349 [ 3.39904238 -0.13154673  0.17989595  0.78179195]\n",
      "iteration 54 accepted 56481.956412348234 [ 3.39825696 -0.12976412  0.16346037  0.78509078]\n",
      "iteration 55 accepted 56468.654320459624 [ 3.42971054 -0.13661867  0.19539213  0.82877768]\n",
      "iteration 56 accepted 56449.40452676511 [ 3.38974966 -0.13710576  0.16239561  0.78827994]\n",
      "iteration 57 accepted 56434.90066305073 [ 3.40367481 -0.13682586  0.16687647  0.79400668]\n",
      "iteration 58 accepted 56423.640489852594 [ 3.40524564 -0.13530212  0.1405709   0.78935746]\n",
      "iteration 59 accepted 56412.48856923553 [ 3.46168295 -0.14101063  0.18288038  0.85276656]\n",
      "iteration 60 accepted 56384.15785641459 [ 3.39019121 -0.14037006  0.13981793  0.79683643]\n",
      "iteration 61 accepted 56371.5407215826 [ 3.39766205 -0.13830987  0.11418714  0.77466022]\n",
      "iteration 62 accepted 56368.492324143095 [ 3.43043884 -0.14647436  0.16235436  0.83702009]\n",
      "iteration 63 accepted 56353.122300811905 [ 3.40995895 -0.14629412  0.119539    0.8025204 ]\n",
      "iteration 64 accepted 56330.44426989064 [ 3.40703788 -0.1413694   0.1147224   0.79126454]\n",
      "iteration 65 accepted 56326.23782377775 [ 3.44222387 -0.14616876  0.12479763  0.79555684]\n",
      "iteration 66 accepted 56307.88044587457 [ 3.39929044 -0.13985633  0.10298304  0.78601394]\n",
      "iteration 67 accepted 56296.81405252478 [ 3.4087875  -0.14514292  0.11050907  0.79601935]\n",
      "iteration 68 accepted 56284.26963584681 [ 3.40381339 -0.1421333   0.08329023  0.78573219]\n",
      "iteration 69 accepted 56274.03376685247 [ 3.43255158 -0.14542993  0.09924512  0.81184004]\n",
      "iteration 70 accepted 56261.87801071024 [ 3.40689115 -0.14711256  0.06662962  0.78762317]\n",
      "iteration 71 accepted 56258.15350159712 [ 3.43293803 -0.15185576  0.09994198  0.82791303]\n",
      "iteration 72 accepted 56244.140365401414 [ 3.41717398 -0.15188213  0.05503734  0.80022814]\n",
      "iteration 73 accepted 56230.8426371376 [ 3.42096142 -0.15105127  0.06531107  0.80775749]\n",
      "iteration 74 accepted 56223.79342197596 [ 3.46132792 -0.15343781  0.08489526  0.81786043]\n",
      "iteration 75 accepted 56208.606124141916 [ 3.40779994 -0.14968203  0.04956981  0.80054619]\n",
      "iteration 76 accepted 56207.9760138549 [ 3.43103728 -0.15713762  0.08153243  0.83227169]\n",
      "iteration 77 accepted 56196.80975736558 [ 3.4204062  -0.15693214  0.03757735  0.80795147]\n",
      "iteration 78 accepted 56193.548912707476 [ 3.43756108 -0.15944526  0.07519321  0.84261404]\n",
      "iteration 79 accepted 56182.26970803419 [ 3.47173491 -0.15938218  0.07782841  0.84510564]\n",
      "iteration 80 accepted 56161.516108418014 [ 3.41921651 -0.15855042  0.02666314  0.82067283]\n",
      "iteration 81 accepted 56156.47204063494 [ 3.43088015 -0.16087614  0.04277955  0.83318567]\n",
      "iteration 82 accepted 56155.93271825955 [ 3.46441759 -0.16504912  0.06250359  0.83707398]\n",
      "iteration 83 accepted 56138.12861084153 [ 3.41190089 -0.15807735  0.02348315  0.82198826]\n",
      "iteration 84 accepted 56132.74410435455 [ 3.42720806 -0.1634836   0.03276152  0.83423133]\n",
      "iteration 85 accepted 56123.288972624636 [ 3.41891699 -0.16274483 -0.00350179  0.82263462]\n",
      "iteration 86 accepted 56114.74574898493 [ 3.4404705  -0.16410058 -0.01150117  0.83756567]\n",
      "iteration 87 accepted 56107.18801247854 [ 3.42364037 -0.16733621 -0.0354694   0.8282425 ]\n",
      "iteration 88 accepted 56104.10855546946 [ 3.44244226 -0.17175386 -0.01925078  0.85125653]\n",
      "iteration 89 accepted 56100.4995803592 [ 3.43713615 -0.17473519 -0.04036312  0.83809442]\n",
      "iteration 90 accepted 56085.02051930833 [ 3.43369971 -0.17240483 -0.05062226  0.84842539]\n",
      "iteration 91 accepted 56084.502895856276 [ 3.45544418e+00 -1.74064381e-01 -2.18570531e-04  8.54284870e-01]\n"
     ]
    },
    {
     "name": "stdout",
     "output_type": "stream",
     "text": [
      "iteration 92 accepted 56074.43758032304 [ 3.42222738 -0.171069   -0.03169584  0.84634009]\n",
      "iteration 93 accepted 56068.09426664553 [ 3.43242094 -0.17489953 -0.0407564   0.85425249]\n",
      "iteration 94 accepted 56062.30152653152 [ 3.42917109 -0.17642304 -0.06359468  0.85379009]\n",
      "iteration 95 accepted 56060.74985599138 [ 3.45003191 -0.18133026 -0.05465109  0.8760604 ]\n",
      "iteration 96 accepted 56055.09713247999 [ 3.44280129 -0.18431026 -0.07729047  0.86587749]\n",
      "iteration 97 accepted 56043.98671257333 [ 3.44544147 -0.18436261 -0.0896009   0.88165644]\n",
      "iteration 98 accepted 56043.06164042159 [ 3.46258526 -0.18407012 -0.04434314  0.87703425]\n",
      "iteration 99 accepted 56033.87284327714 [ 3.43276283 -0.18291555 -0.07873216  0.87684482]\n"
     ]
    }
   ],
   "source": [
    "cartpole_prob = CartPole(dt, N, x_dynamics, x0, x_goal, Q, R, Q_terminal)\n",
    "xs, us, K, k = cartpole_prob.run_IterLinQuadReg()"
   ]
  },
  {
   "cell_type": "code",
   "execution_count": null,
   "metadata": {},
   "outputs": [],
   "source": [
    "# State matrix split into individual states. For plotting and analysing purposes.\n",
    "t = np.arange(N + 1) * dt\n",
    "x = xs[:, 0] # Position\n",
    "x_dot = xs[:, 1] # Velocity\n",
    "theta = np.unwrap(cartpole_prob.deaugment_state(xs)[:, 2])  # Theta, makes for smoother plots.\n",
    "theta_dot = xs[:, 3] # Angular velocity"
   ]
  },
  {
   "cell_type": "markdown",
   "metadata": {},
   "source": [
    "### Simulate the real system and generate the data\n",
    "Cost matrices, initial position and goal position will remain same as the above problem. As it indicates one policy. But still the initial positions and goal positions must be passed explicitly to the function. But you don't need to pass cost matrices (assume penalty on the system is same), this is just used to use to calculate the cost of the trajectory. Correct control action must be passed. Parameter gamma indicates how much of original data you want to keep\n",
    "\n",
    "Variance of the Gaussian noise will be taken as input from a Unif(0, var_range) uniform distribution. Inputs: x_initial, x_goal, u, n_rollouts, pattern='Normal', pattern_rand=False, var_range=10, gamma=0.2, percent=20\n",
    "\n",
    "Pattern controls how the control sequence will be modified after applying white Guassian noise (zero mean).\n",
    "- Normal: based on the correction/mixing parameter gamma generate control (gamma controls how much noise we want).\n",
    "- MissingValue: based on the given percentage, set those many values to zero (it is implicitly it uses \"Normal\" generated control is used). \n",
    "- Shuffle: shuffles the entire \"Normal\" generated control sequence.\n",
    "- TimeDelay: takes the \"Normal\" generated control and shifts it by 1 index i.e. one unit time delay.\n",
    "- Extreme: sets gamma as zeros and generates control based on only noise.\n",
    "\n",
    "If 'pattern_rand' is 'True' then we don't need to send the explicitly, it will chose one randomly for every rollout (default is 'False'). If you want to chose specific pattern then send it explicitly. "
   ]
  },
  {
   "cell_type": "code",
   "execution_count": null,
   "metadata": {},
   "outputs": [],
   "source": [
    "x_rollout, u_rollout, local_policy, cost = cartpole_prob.gen_rollouts(x0, x_goal, us, n_rollouts=10, pattern_rand=True, var_range=10, gamma=0.2, percent=20)"
   ]
  },
  {
   "cell_type": "markdown",
   "metadata": {},
   "source": [
    "### Local system dynamics/model estimate\n",
    "loca_estimate: function takes the states (arranged in a special format, [x(t), u(t), x(t+1)]), no. of gaussian mixtures and no.of states."
   ]
  },
  {
   "cell_type": "code",
   "execution_count": null,
   "metadata": {
    "scrolled": false
   },
   "outputs": [],
   "source": [
    "model = Estimated_Dynamics_Prior(init_sequential=False, eigreg=False, warmstart=True, \n",
    "                 min_samples_per_cluster=20, max_clusters=50, max_samples=20, strength=1.0)\n",
    "model.update_prior(x_rollout, u_rollout)\n",
    "A, B, C = model.fit(x_rollout, u_rollout)"
   ]
  },
  {
   "cell_type": "code",
   "execution_count": null,
   "metadata": {},
   "outputs": [],
   "source": [
    "print(A.shape)\n",
    "print(B.shape)\n",
    "print(C.shape)"
   ]
  },
  {
   "cell_type": "code",
   "execution_count": 10,
   "metadata": {},
   "outputs": [],
   "source": [
    "Model = \"mujoco/cartpole.xml\"\n",
    "model_loaded = load_model_from_path(Model)\n",
    "sim = MjSim(model_loaded)"
   ]
  },
  {
   "cell_type": "code",
   "execution_count": 11,
   "metadata": {},
   "outputs": [
    {
     "name": "stdout",
     "output_type": "stream",
     "text": [
      "MjSimState(time=7.499999999999862, qpos=array([0.95906096, 2.94081605]), qvel=array([0.07484495, 3.28427469]), act=None, udd_state={})\n"
     ]
    }
   ],
   "source": [
    "#viewer = mujoco_py.MjViewer(sim)\n",
    "t = 0\n",
    "sim.data.qpos[0] = 0.0\n",
    "sim.data.qpos[1] = 0.01\n",
    "sim.data.qvel[0] = 0\n",
    "sim.data.qvel[1] = 0\n",
    "final = 0\n",
    "for i in range(1500):\n",
    "    start_time = time.time()\n",
    "    state = np.c_[sim.data.qpos[0],sim.data.qvel[0],np.sin(sim.data.qpos[1]),\n",
    "                  np.cos(sim.data.qpos[1]),sim.data.qvel[1]].T\n",
    "    control = np.dot(k[i,:],(state - xs[i].reshape(5,1) ))  + K[i].T + us[i]\n",
    "    sim.data.ctrl[0] = control\n",
    "    sim.step()\n",
    "    #viewer.render()\n",
    "    #print(control, \"this is the control\")\n",
    "    if (sim.data.qpos[0] == 1.0 and sim.data.qpos[1] == 0):\n",
    "        print('states reached')\n",
    "        break\n",
    "print(sim.get_state())"
   ]
  },
  {
   "cell_type": "code",
   "execution_count": 14,
   "metadata": {},
   "outputs": [],
   "source": [
    "import time\n",
    "time.sleep(5)"
   ]
  },
  {
   "cell_type": "code",
   "execution_count": 15,
   "metadata": {},
   "outputs": [
    {
     "name": "stdout",
     "output_type": "stream",
     "text": [
      "model added to the simulator\n"
     ]
    }
   ],
   "source": [
    "from Simulator import Mujoco_sim\n",
    "cart_pole_simulator = Mujoco_sim(Model,True)\n",
    "cart_pole_simulator.load(xs,us,k,K,x0,initial=False)"
   ]
  },
  {
   "cell_type": "code",
   "execution_count": 16,
   "metadata": {},
   "outputs": [
    {
     "name": "stdout",
     "output_type": "stream",
     "text": [
      "Creating window glfw\n"
     ]
    }
   ],
   "source": [
    "cart_pole_simulator.runSimulation()"
   ]
  },
  {
   "cell_type": "code",
   "execution_count": null,
   "metadata": {},
   "outputs": [],
   "source": []
  }
 ],
 "metadata": {
  "kernelspec": {
   "display_name": "Python 3",
   "language": "python",
   "name": "python3"
  },
  "language_info": {
   "codemirror_mode": {
    "name": "ipython",
    "version": 3
   },
   "file_extension": ".py",
   "mimetype": "text/x-python",
   "name": "python",
   "nbconvert_exporter": "python",
   "pygments_lexer": "ipython3",
   "version": "3.6.7"
  }
 },
 "nbformat": 4,
 "nbformat_minor": 2
}
