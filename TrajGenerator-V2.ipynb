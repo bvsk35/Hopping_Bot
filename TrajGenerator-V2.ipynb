{
 "cells": [
  {
   "cell_type": "markdown",
   "metadata": {},
   "source": [
    "### Import required libraries"
   ]
  },
  {
   "cell_type": "code",
   "execution_count": 1,
   "metadata": {},
   "outputs": [],
   "source": [
    "import numpy as np\n",
    "import matplotlib.pyplot as plt\n",
    "\n",
    "from CartPole import CartPole\n",
    "from CartPole_GPS import CartPole_GPS\n",
    "\n",
    "from ilqr.dynamics import constrain\n",
    "from copy import deepcopy\n",
    "\n",
    "from EstimateDynamics import local_estimate\n",
    "from GMM import Estimated_Dynamics_Prior\n",
    "\n",
    "from sklearn.gaussian_process import GaussianProcessRegressor\n",
    "from sklearn.gaussian_process.kernels import DotProduct, WhiteKernel\n",
    "\n",
    "from mujoco_py import load_model_from_path, MjSim, MjViewer\n",
    "import mujoco_py\n",
    "\n",
    "import time"
   ]
  },
  {
   "cell_type": "markdown",
   "metadata": {},
   "source": [
    "### Formulate the iLQR problem"
   ]
  },
  {
   "cell_type": "code",
   "execution_count": 5,
   "metadata": {},
   "outputs": [],
   "source": [
    "'''\n",
    "1 - dt = time step\n",
    "2 - N = Number of control points in the trajectory\n",
    "3 - x0 = Initial state\n",
    "4 - x_goal = Final state\n",
    "5 - Q = State cost\n",
    "6 - R = Control cost\n",
    "7 - Q_terminal = Cost at the final step\n",
    "8 - x_dynamics array stores the information regarding system. \n",
    "    x_dynamics[0] = m = mass of the pendulum bob \n",
    "    x_dynamics[1] = M = mass of the cart \n",
    "    x_dynamics[2] = L = length of the massles|s rod \n",
    "    x_dynamics[3] = g = gravity \n",
    "    x_dynamics[4] = d = damping in the system\n",
    "'''\n",
    "dt = 0.005\n",
    "N = 1500  # Number of time steps in trajectory.\n",
    "x_dynamics = np.array([1, 5, 2, 9.80665, 0.1]) # m=1, M=5, L=0.3, g=9.80665, d=0.05\n",
    "x0 = np.array([-2.0, 0.0, 0.01, 0.0])  # Initial state\n",
    "x_goal = np.array([3.0, 0.0, 0.0, 0.0])\n",
    "# Instantenous state cost.\n",
    "Q = np.eye(5)\n",
    "# Q[0,0] = 10\n",
    "Q[2, 2] = 10\n",
    "Q[3, 3] = 10\n",
    "# Q[4, 4] = 100\n",
    "# Terminal state cost.\n",
    "Q_terminal = 100 * np.eye(5)\n",
    "# Instantaneous control cost.\n",
    "R = np.array([[1.0]])"
   ]
  },
  {
   "cell_type": "markdown",
   "metadata": {},
   "source": [
    "### iLQR on Cart Pole"
   ]
  },
  {
   "cell_type": "code",
   "execution_count": 6,
   "metadata": {
    "scrolled": true
   },
   "outputs": [
    {
     "name": "stdout",
     "output_type": "stream",
     "text": [
      "iteration 0 accepted 56628.75592722271 [ 4.9625241   0.84840578  1.88812918 -3.12305096]\n",
      "iteration 1 accepted 56591.22358728466 [ 4.96629373  0.82611994  1.90615466 -3.1455061 ]\n",
      "iteration 2 accepted 44929.60464025203 [ 2.68059412  0.82338615  1.51919855 -2.64581711]\n",
      "iteration 3 accepted 44928.07137589979 [ 2.68781214  0.82987682  1.51291065 -2.63684383]\n",
      "iteration 4 accepted 44927.40778580427 [ 2.6896289   0.83170082  1.51112155 -2.63429725]\n",
      "iteration 5 failed 44927.40778580424 [ 2.6896289   0.83170082  1.51112155 -2.63429725]\n",
      "iteration 6 failed 44927.40778580424 [ 2.6896289   0.83170082  1.51112155 -2.63429725]\n",
      "iteration 7 failed 44927.40778580424 [ 2.6896289   0.83170082  1.51112155 -2.63429725]\n",
      "iteration 8 failed 44927.40778580424 [ 2.6896289   0.83170082  1.51112155 -2.63429725]\n",
      "iteration 9 failed 44927.40778580424 [ 2.6896289   0.83170082  1.51112155 -2.63429725]\n",
      "iteration 10 failed 44927.40778580424 [ 2.6896289   0.83170082  1.51112155 -2.63429725]\n",
      "iteration 11 accepted 44918.349185695144 [ 2.67441869  0.81424744  1.52683242 -2.65620479]\n",
      "iteration 12 failed 44918.34918569519 [ 2.67441869  0.81424744  1.52683242 -2.65620479]\n",
      "iteration 13 failed 44918.34918569519 [ 2.67441869  0.81424744  1.52683242 -2.65620479]\n",
      "iteration 14 accepted 44587.44396305053 [ 2.16481049 -0.55377431  2.62547179 -3.90526862]\n",
      "iteration 15 accepted 43762.126183770284 [ 2.98659931  0.39941963  2.04892953 -3.3300505 ]\n",
      "iteration 16 accepted 43761.77066264713 [ 2.99160486  0.4034856   2.04639745 -3.32698101]\n",
      "iteration 17 accepted 43761.22324558034 [ 2.98975024  0.40218258  2.04692897 -3.3276146 ]\n",
      "iteration 18 accepted 43733.9006643859 [ 2.98135972  0.37008011  2.07132796 -3.35654268]\n",
      "iteration 19 failed 43733.900664385976 [ 2.98135972  0.37008011  2.07132796 -3.35654268]\n",
      "iteration 20 failed 43733.900664385976 [ 2.98135972  0.37008011  2.07132796 -3.35654268]\n",
      "iteration 21 failed 43733.900664385976 [ 2.98135972  0.37008011  2.07132796 -3.35654268]\n",
      "iteration 22 failed 43733.900664385976 [ 2.98135972  0.37008011  2.07132796 -3.35654268]\n",
      "iteration 23 failed 43733.900664385976 [ 2.98135972  0.37008011  2.07132796 -3.35654268]\n",
      "iteration 24 accepted 43733.2672384046 [ 2.97990574  0.36743455  2.07288675 -3.35837499]\n",
      "iteration 25 failed 43733.26723840462 [ 2.97990574  0.36743455  2.07288675 -3.35837499]\n",
      "iteration 26 failed 43733.26723840462 [ 2.97990574  0.36743455  2.07288675 -3.35837499]\n",
      "iteration 27 failed 43733.26723840462 [ 2.97990574  0.36743455  2.07288675 -3.35837499]\n",
      "iteration 28 failed 43733.26723840462 [ 2.97990574  0.36743455  2.07288675 -3.35837499]\n",
      "iteration 29 accepted 43724.47267852585 [ 2.9965361   0.36978084  2.07104303 -3.35565405]\n",
      "iteration 30 failed 43724.47267852585 [ 2.9965361   0.36978084  2.07104303 -3.35565405]\n",
      "iteration 31 failed 43724.47267852585 [ 2.9965361   0.36978084  2.07104303 -3.35565405]\n",
      "iteration 32 accepted 43723.592994935 [ 2.99755664  0.369176    2.07184996 -3.35673407]\n",
      "iteration 33 failed 43723.592994935 [ 2.99755664  0.369176    2.07184996 -3.35673407]\n",
      "iteration 34 accepted 43723.27307862206 [ 2.9977681   0.36888112  2.07215124 -3.35710818]\n",
      "iteration 35 failed 43723.273078622115 [ 2.9977681   0.36888112  2.07215124 -3.35710818]\n",
      "iteration 36 accepted 43722.967143143476 [ 2.99798123  0.36858007  2.07245772 -3.35748839]\n",
      "iteration 37 failed 43722.96714314351 [ 2.99798123  0.36858007  2.07245772 -3.35748839]\n",
      "iteration 38 accepted 43722.674709467465 [ 2.99819601  0.36827289  2.07276936 -3.35787467]\n",
      "iteration 39 accepted 43722.13653750214 [ 2.99857073  0.36805849  2.07314904 -3.35835101]\n",
      "iteration 40 failed 43722.13653750209 [ 2.99857073  0.36805849  2.07314904 -3.35835101]\n",
      "iteration 41 failed 43722.13653750209 [ 2.99857073  0.36805849  2.07314904 -3.35835101]\n",
      "iteration 42 accepted 43721.851151085604 [ 2.99878654  0.3677413   2.07346805 -3.35874576]\n",
      "iteration 43 failed 43721.851151085604 [ 2.99878654  0.3677413   2.07346805 -3.35874576]\n",
      "iteration 44 accepted 43721.57804825433 [ 2.99900401  0.36741806  2.07379215 -3.35914646]\n",
      "iteration 45 accepted 43721.35033849221 [ 2.99910558  0.36727121  2.07403955 -3.35946052]\n",
      "iteration 46 failed 43721.350338492135 [ 2.99910558  0.36727121  2.07403955 -3.35946052]\n",
      "iteration 47 failed 43721.350338492135 [ 2.99910558  0.36727121  2.07403955 -3.35946052]\n",
      "iteration 48 accepted 43721.084501462756 [ 2.99932353  0.36693938  2.07437003 -3.35986856]\n",
      "iteration 49 accepted 43684.246642275866 [ 3.03870797  0.25453396  2.17927916 -3.48200501]\n",
      "iteration 50 accepted 43578.069727669754 [ 3.01129671  0.26369716  2.17121742 -3.47016027]\n",
      "iteration 51 failed 43578.0697276697 [ 3.01129671  0.26369716  2.17121742 -3.47016027]\n",
      "iteration 52 failed 43578.0697276697 [ 3.01129671  0.26369716  2.17121742 -3.47016027]\n",
      "iteration 53 failed 43578.0697276697 [ 3.01129671  0.26369716  2.17121742 -3.47016027]\n",
      "iteration 54 accepted 43577.69389804371 [ 3.01122672  0.26308195  2.17151702 -3.47048199]\n",
      "iteration 55 failed 43577.69389804373 [ 3.01122672  0.26308195  2.17151702 -3.47048199]\n",
      "iteration 56 accepted 43577.56725449004 [ 3.0111635   0.26247207  2.17181745 -3.47080536]\n",
      "iteration 57 failed 43577.567254490015 [ 3.0111635   0.26247207  2.17181745 -3.47080536]\n",
      "iteration 58 accepted 43577.55441486158 [ 3.01115885  0.26235866  2.1718781  -3.47087124]\n",
      "iteration 59 failed 43577.55441486156 [ 3.01115885  0.26235866  2.1718781  -3.47087124]\n",
      "iteration 60 accepted 43577.54802076992 [ 3.01115441  0.26224539  2.17193879 -3.47093719]\n",
      "iteration 61 failed 43577.548020769886 [ 3.01115441  0.26224539  2.17193879 -3.47093719]\n",
      "iteration 62 accepted 43577.54795929083 [ 3.01115017  0.26213225  2.17199953 -3.47100322]\n",
      "iteration 63 failed 43577.54795929096 [ 3.01115017  0.26213225  2.17199953 -3.47100322]\n",
      "iteration 64 failed 43577.54795929096 [ 3.01115017  0.26213225  2.17199953 -3.47100322]\n",
      "iteration 65 accepted 43576.987305000424 [ 3.00980301  0.2623547   2.17178224 -3.47052061]\n",
      "iteration 66 accepted 43576.918720833186 [ 3.00970736  0.26165941  2.17199143 -3.47077993]\n",
      "iteration 67 failed 43576.91872083323 [ 3.00970736  0.26165941  2.17199143 -3.47077993]\n",
      "iteration 68 accepted 43576.5218479917 [ 3.00967348  0.26101924  2.17233051 -3.47114875]\n",
      "iteration 69 failed 43576.52184799182 [ 3.00967348  0.26101924  2.17233051 -3.47114875]\n",
      "iteration 70 accepted 43576.344671729334 [ 3.00964559  0.26038405  2.17266994 -3.47151853]\n",
      "iteration 71 failed 43576.344671729355 [ 3.00964559  0.26038405  2.17266994 -3.47151853]\n",
      "iteration 72 accepted 43576.32019157039 [ 3.00964745  0.26026971  2.17273547 -3.47159039]\n",
      "iteration 73 failed 43576.32019157035 [ 3.00964745  0.26026971  2.17273547 -3.47159039]\n",
      "iteration 74 accepted 43576.3010747794 [ 3.0096495   0.26015551  2.17280102 -3.47166228]\n",
      "iteration 75 failed 43576.3010747794 [ 3.0096495   0.26015551  2.17280102 -3.47166228]\n",
      "iteration 76 accepted 43576.28723385588 [ 3.00965171  0.26004144  2.1728666  -3.47173421]\n",
      "iteration 77 failed 43576.28723385586 [ 3.00965171  0.26004144  2.1728666  -3.47173421]\n",
      "iteration 78 accepted 43576.278582356514 [ 3.00965411  0.25992751  2.17293219 -3.47180618]\n",
      "iteration 79 failed 43576.27858235651 [ 3.00965411  0.25992751  2.17293219 -3.47180618]\n",
      "iteration 80 accepted 43576.27503488633 [ 3.00965669  0.25981371  2.17299781 -3.47187819]\n",
      "iteration 81 failed 43576.27503488639 [ 3.00965669  0.25981371  2.17299781 -3.47187819]\n",
      "iteration 82 failed 43576.27503488639 [ 3.00965669  0.25981371  2.17299781 -3.47187819]\n",
      "iteration 83 accepted 43575.84433537451 [ 3.00854745  0.26007601  2.17272178 -3.47145685]\n",
      "iteration 84 accepted 43575.68787756582 [ 2.99700672  0.25739445  2.17252078 -3.47036752]\n",
      "iteration 85 failed 43575.68787756578 [ 2.99700672  0.25739445  2.17252078 -3.47036752]\n",
      "iteration 86 accepted 43574.65515071354 [ 2.99705306  0.25631967  2.17322211 -3.47114903]\n",
      "iteration 87 failed 43574.655150713574 [ 2.99705306  0.25631967  2.17322211 -3.47114903]\n",
      "iteration 88 accepted 43573.86952651456 [ 2.99710374  0.25524598  2.17392497 -3.47193229]\n",
      "iteration 89 failed 43573.86952651458 [ 2.99710374  0.25524598  2.17392497 -3.47193229]\n",
      "iteration 90 accepted 43573.318185349955 [ 2.99715878  0.25417337  2.1746294  -3.47271731]\n",
      "iteration 91 failed 43573.3181853499 [ 2.99715878  0.25417337  2.1746294  -3.47271731]\n",
      "iteration 92 accepted 43572.988608130814 [ 2.99721824  0.25310184  2.17533542 -3.47350411]\n"
     ]
    },
    {
     "name": "stdout",
     "output_type": "stream",
     "text": [
      "iteration 93 failed 43572.98860813079 [ 2.99721824  0.25310184  2.17533542 -3.47350411]\n",
      "iteration 94 accepted 43572.86857424622 [ 2.99728214  0.25203139  2.17604305 -3.47429273]\n",
      "iteration 95 failed 43572.868574246226 [ 2.99728214  0.25203139  2.17604305 -3.47429273]\n",
      "iteration 96 accepted 43572.4475066309 [ 2.99457594  0.25318964  2.17502328 -3.47318984]\n",
      "iteration 97 failed 43572.44750663088 [ 2.99457594  0.25318964  2.17502328 -3.47318984]\n",
      "iteration 98 accepted 43572.243627604126 [ 2.99448273  0.25273797  2.17524202 -3.4734287 ]\n",
      "iteration 99 failed 43572.24362760409 [ 2.99448273  0.25273797  2.17524202 -3.4734287 ]\n"
     ]
    }
   ],
   "source": [
    "cartpole_prob = CartPole(dt, N, x_dynamics, x0, x_goal, Q, R, Q_terminal)\n",
    "xs, us, K, k = cartpole_prob.run_IterLinQuadReg()"
   ]
  },
  {
   "cell_type": "code",
   "execution_count": null,
   "metadata": {},
   "outputs": [],
   "source": [
    "# State matrix split into individual states. For plotting and analysing purposes.\n",
    "t = np.arange(N + 1) * dt\n",
    "x = xs[:, 0] # Position\n",
    "x_dot = xs[:, 1] # Velocity\n",
    "theta = np.unwrap(cartpole_prob.deaugment_state(xs)[:, 2])  # Theta, makes for smoother plots.\n",
    "theta_dot = xs[:, 3] # Angular velocity"
   ]
  },
  {
   "cell_type": "markdown",
   "metadata": {},
   "source": [
    "### Simulate the real system and generate the data\n",
    "Cost matrices, initial position and goal position will remain same as the above problem. As it indicates one policy. But still the initial positions and goal positions must be passed explicitly to the function. But you don't need to pass cost matrices (assume penalty on the system is same), this is just used to use to calculate the cost of the trajectory. Correct control action must be passed. Parameter gamma indicates how much of original data you want to keep\n",
    "\n",
    "Variance of the Gaussian noise will be taken as input from a Unif(0, var_range) uniform distribution. Inputs: x_initial, x_goal, u, n_rollouts, pattern='Normal', pattern_rand=False, var_range=10, gamma=0.2, percent=20\n",
    "\n",
    "Pattern controls how the control sequence will be modified after applying white Guassian noise (zero mean).\n",
    "- Normal: based on the correction/mixing parameter gamma generate control (gamma controls how much noise we want).\n",
    "- MissingValue: based on the given percentage, set those many values to zero (it is implicitly it uses \"Normal\" generated control is used). \n",
    "- Shuffle: shuffles the entire \"Normal\" generated control sequence.\n",
    "- TimeDelay: takes the \"Normal\" generated control and shifts it by 1 index i.e. one unit time delay.\n",
    "- Extreme: sets gamma as zeros and generates control based on only noise.\n",
    "\n",
    "If 'pattern_rand' is 'True' then we don't need to send the explicitly, it will chose one randomly for every rollout (default is 'False'). If you want to chose specific pattern then send it explicitly. "
   ]
  },
  {
   "cell_type": "code",
   "execution_count": null,
   "metadata": {},
   "outputs": [],
   "source": [
    "x_rollout, u_rollout, local_policy, cost = cartpole_prob.gen_rollouts(x0, x_goal, us, n_rollouts=10, pattern_rand=True, var_range=10, gamma=0.2, percent=20)"
   ]
  },
  {
   "cell_type": "markdown",
   "metadata": {},
   "source": [
    "### Local system dynamics/model estimate\n",
    "loca_estimate: function takes the states (arranged in a special format, [x(t), u(t), x(t+1)]), no. of gaussian mixtures and no.of states."
   ]
  },
  {
   "cell_type": "code",
   "execution_count": null,
   "metadata": {
    "scrolled": false
   },
   "outputs": [],
   "source": [
    "model = Estimated_Dynamics_Prior(init_sequential=False, eigreg=False, warmstart=True, \n",
    "                 min_samples_per_cluster=20, max_clusters=50, max_samples=20, strength=1.0)\n",
    "model.update_prior(x_rollout, u_rollout)\n",
    "A, B, C = model.fit(x_rollout, u_rollout)"
   ]
  },
  {
   "cell_type": "code",
   "execution_count": null,
   "metadata": {},
   "outputs": [],
   "source": [
    "print(A.shape)\n",
    "print(B.shape)\n",
    "print(C.shape)"
   ]
  },
  {
   "cell_type": "code",
   "execution_count": null,
   "metadata": {},
   "outputs": [],
   "source": [
    "Model = \"mujoco/cartpole.xml\"\n",
    "model_loaded = load_model_from_path(Model)\n",
    "sim = MjSim(model_loaded)"
   ]
  },
  {
   "cell_type": "code",
   "execution_count": null,
   "metadata": {},
   "outputs": [],
   "source": [
    "#viewer = mujoco_py.MjViewer(sim)\n",
    "t = 0\n",
    "sim.data.qpos[0] = 0.0\n",
    "sim.data.qpos[1] = 0.01\n",
    "sim.data.qvel[0] = 0\n",
    "sim.data.qvel[1] = 0\n",
    "final = 0\n",
    "for i in range(1500):\n",
    "    start_time = time.time()\n",
    "    state = np.c_[sim.data.qpos[0],sim.data.qvel[0],np.sin(sim.data.qpos[1]),\n",
    "                  np.cos(sim.data.qpos[1]),sim.data.qvel[1]].T\n",
    "    control = np.dot(k[i,:],(state - xs[i].reshape(5,1) ))  + K[i].T + us[i]\n",
    "    sim.data.ctrl[0] = control\n",
    "    sim.step()\n",
    "    #viewer.render()\n",
    "    #print(control, \"this is the control\")\n",
    "    if (sim.data.qpos[0] == 1.0 and sim.data.qpos[1] == 0):\n",
    "        print('states reached')\n",
    "        break\n",
    "print(sim.get_state())"
   ]
  },
  {
   "cell_type": "code",
   "execution_count": null,
   "metadata": {},
   "outputs": [],
   "source": [
    "from Simulator import Mujoco_sim\n",
    "cart_pole_simulator = Mujoco_sim(Model,True)\n",
    "cart_pole_simulator.load(xs,us,k,K,x0,initial=False)"
   ]
  },
  {
   "cell_type": "code",
   "execution_count": null,
   "metadata": {},
   "outputs": [],
   "source": [
    "cart_pole_simulator.runSimulation()"
   ]
  },
  {
   "cell_type": "code",
   "execution_count": null,
   "metadata": {},
   "outputs": [],
   "source": [
    "np.append(np.expand_dims(state,1),np.expand_dims(np.append(sim.data.qpos,sim.data.qvel),1),axis = 1)"
   ]
  },
  {
   "cell_type": "code",
   "execution_count": null,
   "metadata": {},
   "outputs": [],
   "source": [
    "k.shape"
   ]
  },
  {
   "cell_type": "code",
   "execution_count": null,
   "metadata": {},
   "outputs": [],
   "source": []
  }
 ],
 "metadata": {
  "kernelspec": {
   "display_name": "Python 3",
   "language": "python",
   "name": "python3"
  },
  "language_info": {
   "codemirror_mode": {
    "name": "ipython",
    "version": 3
   },
   "file_extension": ".py",
   "mimetype": "text/x-python",
   "name": "python",
   "nbconvert_exporter": "python",
   "pygments_lexer": "ipython3",
   "version": "3.6.7"
  }
 },
 "nbformat": 4,
 "nbformat_minor": 2
}
