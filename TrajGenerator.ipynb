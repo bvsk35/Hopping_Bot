{
 "cells": [
  {
   "cell_type": "markdown",
   "metadata": {},
   "source": [
    "### Import required libraries\n",
    "### Author: Sameer\n",
    "### Date: May 2019"
   ]
  },
  {
   "cell_type": "code",
   "execution_count": 1,
   "metadata": {},
   "outputs": [
    {
     "name": "stderr",
     "output_type": "stream",
     "text": [
      "WARNING (theano.tensor.blas): Using NumPy C-API based implementation for BLAS functions.\n"
     ]
    }
   ],
   "source": [
    "import numpy as np\n",
    "import matplotlib.pyplot as plt\n",
    "\n",
    "from CartPole import CartPole\n",
    "# from CartPole_GPS import CartPole_GPS\n",
    "\n",
    "from ilqr.dynamics import constrain\n",
    "from copy import deepcopy\n",
    "\n",
    "from EstimateDynamics import local_estimate\n",
    "from GMM import Estimated_Dynamics_Prior\n",
    "\n",
    "from sklearn.gaussian_process import GaussianProcessRegressor\n",
    "from sklearn.gaussian_process.kernels import DotProduct, WhiteKernel\n"
   ]
  },
  {
   "cell_type": "markdown",
   "metadata": {},
   "source": [
    "### Formulate the iLQR problem"
   ]
  },
  {
   "cell_type": "code",
   "execution_count": 2,
   "metadata": {},
   "outputs": [],
   "source": [
    "'''\n",
    "1 - dt = time step\n",
    "2 - N = Number of control points in the trajectory\n",
    "3 - x0 = Initial state\n",
    "4 - x_goal = Final state\n",
    "5 - Q = State cost\n",
    "6 - R = Control cost\n",
    "7 - Q_terminal = Cost at the final step\n",
    "8 - x_dynamics array stores the information regarding system. \n",
    "    x_dynamics[0] = m = mass of the pendulum bob \n",
    "    x_dynamics[1] = M = mass of the cart \n",
    "    x_dynamics[2] = L = length of the massless rod \n",
    "    x_dynamics[3] = g = gravity \n",
    "    x_dynamics[4] = d = damping in the system\n",
    "'''\n",
    "dt = 0.05\n",
    "N = 600  # Number of time steps in trajectory.\n",
    "x_dynamics = np.array([0.1, 1, 1, 9.80665, 0]) # m=1, M=5, L=2, g=9.80665, d=1\n",
    "x0 = np.array([0.0, 0.0, 3.14, 0.0])  # Initial state\n",
    "x_goal = np.array([0.0, 0.0, 0.0, 0.0])\n",
    "# Instantenous state cost.\n",
    "Q = np.eye(5)\n",
    "Q[1,1] = 10\n",
    "Q[2, 2] = 100\n",
    "Q[3, 3] = 100\n",
    "Q[4, 4] = 10\n",
    "# Terminal state cost.\n",
    "Q_terminal = np.eye(5) * 100\n",
    "# Q_terminal[2, 2] = 100\n",
    "# Q_terminal[3, 3] = 100\n",
    "# Instantaneous control cost.\n",
    "R = np.array([[1.0]])"
   ]
  },
  {
   "cell_type": "markdown",
   "metadata": {},
   "source": [
    "### iLQR on Cart Pole"
   ]
  },
  {
   "cell_type": "code",
   "execution_count": 3,
   "metadata": {
    "scrolled": false
   },
   "outputs": [
    {
     "name": "stdout",
     "output_type": "stream",
     "text": [
      "iteration 0 accepted 222751.38416928414 [ 0.17932647 -0.05285945  0.7094785   2.90643258]\n",
      "iteration 1 accepted 220815.45923046547 [ 0.0173644   0.35134625 -0.11411507  0.26192819]\n",
      "iteration 2 accepted 220472.02838457137 [-0.04809844  0.16501344 -0.1202969   0.28065573]\n",
      "iteration 3 accepted 220178.0731363422 [-0.04300815  0.16833723 -0.12826477  0.29651181]\n",
      "iteration 4 accepted 219907.31215223047 [-0.04249013  0.16579183 -0.13945097  0.30277812]\n",
      "iteration 5 accepted 219652.80898481145 [-0.04252051  0.16401629 -0.14998481  0.31006353]\n",
      "iteration 6 accepted 219410.60685724145 [-0.04257346  0.16237486 -0.16026227  0.31754788]\n",
      "iteration 7 accepted 219178.21361139015 [-0.04262911  0.16085552 -0.17032773  0.32528459]\n",
      "iteration 8 accepted 218953.91396950974 [-0.04267816  0.15940826 -0.18024073  0.33324367]\n",
      "iteration 9 accepted 218736.43984682582 [-0.0427166   0.1579997  -0.19004404  0.34140994]\n",
      "iteration 10 accepted 218524.80257890705 [-0.04274189  0.15660439 -0.19977047  0.3497728 ]\n",
      "iteration 11 accepted 218318.20369706597 [-0.04275247  0.15520305 -0.20944521  0.35832585]\n",
      "iteration 12 accepted 218115.98558151585 [-0.04274738  0.15378079 -0.21908779  0.36706574]\n",
      "iteration 13 accepted 217917.602670656 [-0.04272606  0.15232591 -0.22871353  0.37599138]\n",
      "iteration 14 accepted 217722.6025799558 [-0.04268817  0.15082902 -0.23833456  0.3851033 ]\n",
      "iteration 15 accepted 217530.61053818584 [-0.0426335   0.1492824  -0.24796055  0.39440322]\n",
      "iteration 16 accepted 217341.3125111207 [-0.04256191  0.14767955 -0.25759932  0.40389372]\n",
      "iteration 17 accepted 217154.4334270874 [-0.0424733   0.14601487 -0.26725722  0.41357802]\n",
      "iteration 18 accepted 216969.70770796586 [-0.04236756  0.14428343 -0.2769394   0.42345974]\n",
      "iteration 19 accepted 216786.84033473703 [-0.04224461  0.14248079 -0.28665008  0.43354282]\n",
      "iteration 20 accepted 216605.45832782504 [-0.04210429  0.1406029  -0.2963927   0.44383141]\n",
      "iteration 21 accepted 216425.0549403017 [-0.04194646  0.13864596 -0.30617005  0.45432976]\n",
      "iteration 22 accepted 216244.93164222268 [-0.04177093  0.1366064  -0.31598436  0.46504218]\n",
      "iteration 23 accepted 216064.1449561393 [-0.04157748  0.13448081 -0.32583738  0.47597295]\n",
      "iteration 24 accepted 215881.4647752155 [-0.04136584  0.1322659  -0.33573044  0.48712629]\n",
      "iteration 25 accepted 215695.346966048 [-0.04113573  0.12995848 -0.34566451  0.49850633]\n",
      "iteration 26 accepted 215503.91675055365 [-0.04088682  0.12755543 -0.3556402   0.51011704]\n",
      "iteration 27 accepted 215304.95356987693 [-0.04061879  0.12505374 -0.36565783  0.52196218]\n",
      "iteration 28 accepted 215095.86617375395 [-0.04033129  0.12245041 -0.37571744  0.5340453 ]\n",
      "iteration 29 accepted 214873.64974498758 [-0.04002398  0.11974256 -0.38581879  0.54636968]\n",
      "iteration 30 accepted 214634.82320968073 [-0.03969655  0.11692733 -0.39596141  0.55893829]\n",
      "iteration 31 accepted 214375.3513002881 [-0.03934871  0.11400197 -0.40614458  0.57175377]\n",
      "iteration 32 accepted 214090.55987794016 [-0.03898022  0.11096378 -0.41636739  0.58481837]\n",
      "iteration 33 accepted 213775.0533457473 [-0.03859091  0.10781018 -0.42662871  0.59813395]\n",
      "iteration 34 accepted 213422.6392805308 [-0.03818071  0.10453867 -0.43692723  0.61170193]\n",
      "iteration 35 accepted 213026.25697617678 [-0.03774963  0.10114687 -0.44726144  0.62552325]\n",
      "iteration 36 accepted 212577.89201101035 [-0.03729778  0.09763254 -0.4576297   0.63959837]\n",
      "iteration 37 accepted 212068.43612836587 [-0.03682529  0.09399353 -0.46803019  0.6539272 ]\n",
      "iteration 38 accepted 211487.4170163634 [-0.03633204  0.09022778 -0.47846095  0.66850912]\n",
      "iteration 39 accepted 210822.465488596 [-0.03581726  0.08633322 -0.48891989  0.68334291]\n",
      "iteration 40 accepted 210058.27377556963 [-0.03527851  0.08230758 -0.49940478  0.69842667]\n",
      "iteration 41 accepted 209174.5312546015 [-0.03471023  0.07814807 -0.50991325  0.71375783]\n",
      "iteration 42 accepted 208141.6794919272 [-0.03410162  0.07385094 -0.52044274  0.72933299]\n",
      "iteration 43 accepted 206911.8948198206 [-0.03343481  0.06941116 -0.5309905   0.7451479 ]\n",
      "iteration 44 accepted 205399.81299064675 [-0.03268848  0.06482319 -0.5415536   0.76119771]\n",
      "iteration 45 accepted 203443.7774047666 [-0.03186386  0.06008662 -0.55212934  0.77747811]\n",
      "iteration 46 accepted 200853.76944398947 [-0.03109468  0.05522987 -0.56271687  0.79398989]\n",
      "iteration 47 accepted 198999.9528089003 [-0.03124601  0.05043908 -0.57332601  0.81076326]\n",
      "iteration 48 accepted 198606.4157881828 [-0.02987057  0.04517949 -0.58393028  0.82768132]\n",
      "iteration 49 accepted 198359.39695343035 [-0.02912469  0.03992745 -0.59453578  0.84484775]\n",
      "iteration 50 accepted 198137.3905351591 [-0.02832749  0.03453127 -0.6051472   0.86221001]\n",
      "iteration 51 accepted 197932.36971047948 [-0.02749889  0.02899393 -0.61575823  0.87976713]\n",
      "iteration 52 accepted 197738.94091138715 [-0.02664285  0.02331804 -0.62636706  0.89751172]\n",
      "iteration 53 accepted 197552.96432893598 [-0.0257609   0.01750446 -0.63697186  0.91543623]\n",
      "iteration 54 accepted 197371.353985744 [-0.02485362  0.01155405 -0.64757105  0.93353294]\n",
      "iteration 55 accepted 197191.59039501013 [-0.02392135  0.00546772 -0.65816325  0.95179411]\n",
      "iteration 56 accepted 197011.3543225568 [-2.29642944e-02 -7.53551306e-04 -6.68747313e-01  9.70212028e-01]\n",
      "iteration 57 accepted 196828.34554939135 [-0.02198266 -0.00710873 -0.67932237  0.98877913]\n",
      "iteration 58 accepted 196640.20318613612 [-0.02097662 -0.01359673 -0.68988782  1.00748804]\n",
      "iteration 59 accepted 196444.4593192347 [-0.01994637 -0.02021649 -0.7004434   1.02633168]\n",
      "iteration 60 accepted 196238.4981584822 [-0.01889208 -0.02696696 -0.71098915  1.04530333]\n",
      "iteration 61 accepted 196019.51527759747 [-0.01781391 -0.03384714 -0.72152549  1.06439673]\n",
      "iteration 62 accepted 195784.48026052577 [-0.01671201 -0.04085614 -0.73205317  1.08360614]\n",
      "iteration 63 accepted 195530.11035123785 [-0.01558653 -0.04799321 -0.74257339  1.10292641]\n",
      "iteration 64 accepted 195252.86775639481 [-0.01443756 -0.05525777 -0.7530877   1.12235308]\n",
      "iteration 65 accepted 194949.00208935732 [-0.01326521 -0.06264943 -0.76359813  1.14188243]\n",
      "iteration 66 accepted 194614.67504010792 [-0.0120695  -0.07016809 -0.77410713  1.16151155]\n",
      "iteration 67 accepted 194246.23085816542 [-0.01085043 -0.07781393 -0.78461763  1.18123841]\n",
      "iteration 68 accepted 193840.71971576347 [-0.00960795 -0.08558746 -0.79513305  1.20106193]\n",
      "iteration 69 accepted 193396.8506518356 [-0.00834187 -0.0934896  -0.80565734  1.22098203]\n",
      "iteration 70 accepted 192916.66173280973 [-0.00705192 -0.10152169 -0.81619495  1.24099969]\n",
      "iteration 71 accepted 192408.3474987511 [-0.00573771 -0.10968557 -0.82675094  1.26111703]\n",
      "iteration 72 accepted 191890.59423386707 [-0.00439897 -0.11798354 -0.83733092  1.28133735]\n",
      "iteration 73 accepted 191396.7271436226 [-0.00303601 -0.12641834 -0.84794117  1.30166523]\n",
      "iteration 74 accepted 190970.18223184533 [-0.00164999 -0.1349931  -0.85858864  1.32210652]\n",
      "iteration 75 accepted 190642.2277477791 [-2.41391363e-04 -1.43711814e-01 -8.69281009e-01  1.34266849e+00]\n",
      "iteration 76 accepted 190411.6365774655 [ 1.19212301e-03 -1.52579769e-01 -8.80026674e-01  1.36335983e+00]\n",
      "iteration 77 accepted 190254.87983218138 [ 0.00265439 -0.16160335 -0.89083478  1.38419083]\n",
      "iteration 78 accepted 190147.3712888308 [ 0.00414806 -0.17078951 -0.90171534  1.40517339]\n",
      "iteration 79 accepted 190071.4876334176 [ 0.00567471 -0.18014587 -0.91267933  1.42632113]\n",
      "iteration 80 accepted 190015.901190763 [ 0.00723584 -0.18968104 -0.92373877  1.44764951]\n",
      "iteration 81 accepted 189973.52286394837 [ 0.00883306 -0.19940475 -0.9349068   1.46917592]\n",
      "iteration 82 accepted 189939.90267870654 [ 0.0104682  -0.209328   -0.94619782  1.49091989]\n",
      "iteration 83 accepted 189912.20099004565 [ 0.0121433  -0.21946312 -0.9576276   1.51290325]\n",
      "iteration 84 accepted 189888.56703372241 [ 0.0138607  -0.22982397 -0.96921341  1.53515029]\n",
      "iteration 85 accepted 189867.76789809339 [ 0.01562302 -0.24042605 -0.98097425  1.55768803]\n",
      "iteration 86 accepted 189848.96468642185 [ 0.01743328 -0.25128675 -0.99293101  1.5805465 ]\n",
      "iteration 87 accepted 189831.57494356314 [ 0.01929485 -0.26242548 -1.00510675  1.60375897]\n",
      "iteration 88 accepted 189815.1863014792 [ 0.02121155 -0.27386398 -1.01752695  1.62736241]\n",
      "iteration 89 accepted 189799.50110277333 [ 0.02318771 -0.28562655 -1.03021989  1.65139787]\n",
      "iteration 90 accepted 189784.30013675036 [ 0.02522817 -0.2977404  -1.04321701  1.67591094]\n"
     ]
    },
    {
     "name": "stdout",
     "output_type": "stream",
     "text": [
      "iteration 91 accepted 189769.41839702812 [ 0.02733843 -0.31023603 -1.05655341  1.70095241]\n",
      "iteration 92 accepted 189754.7285346439 [ 0.02952466 -0.32314764 -1.07026842  1.72657891]\n",
      "iteration 93 accepted 189740.1293103853 [ 0.03179384 -0.33651371 -1.08440625  1.75285374]\n",
      "iteration 94 accepted 189725.53732807894 [ 0.03415389 -0.35037755 -1.09901684  1.77984781]\n",
      "iteration 95 accepted 189710.88092653564 [ 0.03661377 -0.36478805 -1.11415682  1.80764086]\n",
      "iteration 96 accepted 189696.0954748442 [ 0.03918369 -0.37980053 -1.12989076  1.83632277]\n",
      "iteration 97 accepted 189681.11954156545 [ 0.04187527 -0.39547773 -1.14629258  1.86599527]\n",
      "iteration 98 accepted 189665.89154391224 [ 0.04470182 -0.41189105 -1.16344744  1.89677391]\n",
      "iteration 99 accepted 189650.34655712327 [ 0.04767862 -0.42912193 -1.18145393  1.92879051]\n"
     ]
    }
   ],
   "source": [
    "cartpole_prob = CartPole(dt, N, x_dynamics, x0, x_goal, Q, R, Q_terminal)\n",
    "xs, us, K, k = cartpole_prob.run_IterLinQuadReg()"
   ]
  },
  {
   "cell_type": "code",
   "execution_count": 4,
   "metadata": {},
   "outputs": [],
   "source": [
    "# State matrix split into individual states. For plotting and analysing purposes.\n",
    "t = np.arange(N + 1) * dt\n",
    "x = xs[:, 0] # Position\n",
    "x_dot = xs[:, 1] # Velocity\n",
    "theta = np.unwrap(cartpole_prob.deaugment_state(xs)[:, 2])  # Theta, makes for smoother plots.\n",
    "theta_dot = xs[:, 3] # Angular velocity"
   ]
  },
  {
   "cell_type": "markdown",
   "metadata": {},
   "source": [
    "### Simulate the real system and generate the data\n",
    "Cost matrices, initial position and goal position will remain same as the above problem. As it indicates one policy. But still the initial positions and goal positions must be passed explicitly to the function. But you don't need to pass cost matrices (assume penalty on the system is same), this is just used to use to calculate the cost of the trajectory. Correct control action must be passed. Parameter gamma indicates how much of original data you want to keep\n",
    "\n",
    "Variance of the Gaussian noise will be taken as input from a Unif(0, var_range) uniform distribution. Inputs: x_initial, x_goal, u, n_rollouts, pattern='Normal', pattern_rand=False, var_range=10, gamma=0.2, percent=20\n",
    "\n",
    "Pattern controls how the control sequence will be modified after applying white Guassian noise (zero mean).\n",
    "- Normal: based on the correction/mixing parameter gamma generate control (gamma controls how much noise we want).\n",
    "- MissingValue: based on the given percentage, set those many values to zero (it is implicitly it uses \"Normal\" generated control is used). \n",
    "- Shuffle: shuffles the entire \"Normal\" generated control sequence.\n",
    "- TimeDelay: takes the \"Normal\" generated control and shifts it by 1 index i.e. one unit time delay.\n",
    "- Extreme: sets gamma as zeros and generates control based on only noise.\n",
    "\n",
    "If 'pattern_rand' is 'True' then we don't need to send the explicitly, it will chose one randomly for every rollout (default is 'False'). If you want to chose specific pattern then send it explicitly. "
   ]
  },
  {
   "cell_type": "code",
   "execution_count": null,
   "metadata": {},
   "outputs": [],
   "source": [
    "x_rollout, u_rollout, local_policy, cost = cartpole_prob.gen_rollouts(x0, x_goal, us, n_rollouts=10, pattern_rand=True, var_range=10, gamma=0.2, percent=20)"
   ]
  },
  {
   "cell_type": "markdown",
   "metadata": {},
   "source": [
    "### Local system dynamics/model estimate\n",
    "loca_estimate: function takes the states (arranged in a special format, [x(t), u(t), x(t+1)]), no. of gaussian mixtures and no.of states."
   ]
  },
  {
   "cell_type": "code",
   "execution_count": null,
   "metadata": {},
   "outputs": [],
   "source": [
    "model = Estimated_Dynamics_Prior(init_sequential=False, eigreg=False, warmstart=True, \n",
    "                 min_samples_per_cluster=20, max_clusters=50, max_samples=20, strength=1.0)\n",
    "model.update_prior(x_rollout, u_rollout)\n",
    "A, B, C = model.fit(x_rollout, u_rollout)"
   ]
  },
  {
   "cell_type": "code",
   "execution_count": null,
   "metadata": {},
   "outputs": [],
   "source": [
    "print(A.shape)\n",
    "print(B.shape)\n",
    "print(C.shape)"
   ]
  },
  {
   "cell_type": "code",
   "execution_count": null,
   "metadata": {},
   "outputs": [],
   "source": [
    "u_rollout.shape"
   ]
  },
  {
   "cell_type": "markdown",
   "metadata": {},
   "source": [
    "### iLQR on estimated model\n",
    "Here system dynamics is specified in a special way. We give the A, B, C matrices as input. These matrices comes from GMM and GPS theory. They are the mean/expected trajectory followed by the states which is represented by the mean & covariance (A, B, C) matrices of a Gaussian. Remaining all properties of the iLQR problem remains the same (cost, initial & goal state, time steps). "
   ]
  },
  {
   "cell_type": "code",
   "execution_count": null,
   "metadata": {},
   "outputs": [],
   "source": [
    "x_traj,u_traj = cartpole_prob.run_IterLinQuadReg_matrix(A, B, C)"
   ]
  },
  {
   "cell_type": "code",
   "execution_count": null,
   "metadata": {},
   "outputs": [],
   "source": [
    "from scipy.stats.mstats import gmean\n",
    "# a = gmean(A,axis=0)\n",
    "a = np.sum(B, axis=0,keepdims=True)/B.shape[0]\n",
    "a.shape"
   ]
  },
  {
   "cell_type": "markdown",
   "metadata": {},
   "source": [
    "### Plot"
   ]
  },
  {
   "cell_type": "code",
   "execution_count": null,
   "metadata": {},
   "outputs": [],
   "source": [
    "# Control sequence\n",
    "plt.plot(np.arange(us.shape[0]), us, 'r.', label='Original')\n",
    "# plt.plot(np.arange(us.shape[0]), u_rollout[0:N], 'b.', label='Corrupted')\n",
    "plt.plot(np.arange(us.shape[0]), u_traj, 'g.', label='Estimated')\n",
    "plt.xlabel('Time steps')\n",
    "plt.ylabel('U')\n",
    "plt.legend()\n",
    "plt.show()"
   ]
  },
  {
   "cell_type": "code",
   "execution_count": null,
   "metadata": {},
   "outputs": [],
   "source": [
    "plt.plot(np.arange(xs.shape[0]), xs[:, 2], 'r.', label='Original')\n",
    "plt.plot(np.arange(xs.shape[0]), cartpole_prob.deaugment_state(x_rollout)[0:N+1, 2], 'b.', label='Corrupted')\n",
    "plt.plot(np.arange(xs.shape[0]), cartpole_prob.deaugment_state(x_traj)[:, 2], 'g.', label='Estimated')\n",
    "plt.xlabel('Time steps')\n",
    "plt.ylabel('Theta')\n",
    "plt.legend()\n",
    "plt.show()"
   ]
  },
  {
   "cell_type": "code",
   "execution_count": null,
   "metadata": {},
   "outputs": [],
   "source": [
    "plt.plot(np.arange(xs.shape[0]), xs[:, 0], 'r.', label='Original')\n",
    "plt.plot(np.arange(xs.shape[0]), cartpole_prob.deaugment_state(x_rollout)[0:N+1, 0], 'b.', label='Corrupted')\n",
    "plt.plot(np.arange(xs.shape[0]), cartpole_prob.deaugment_state(x_traj)[:, 0], 'g.', label='Estimated')\n",
    "plt.xlabel('Time steps')\n",
    "plt.ylabel('Pos')\n",
    "plt.legend()\n",
    "plt.show()"
   ]
  },
  {
   "cell_type": "markdown",
   "metadata": {},
   "source": [
    "### GPS "
   ]
  },
  {
   "cell_type": "code",
   "execution_count": null,
   "metadata": {},
   "outputs": [],
   "source": [
    "dt = 0.005\n",
    "N = 500  # Number of time steps in trajectory.\n",
    "x_dynamics = np.array([1, 5, 2, 9.80665, 1]) # m=1, M=5, L=2, g=9.80665, d=1\n",
    "# Instantenous state cost.\n",
    "Q = np.eye(5)\n",
    "Q[1,1] = 10\n",
    "Q[2, 2] = 1\n",
    "Q[3, 3] = 10\n",
    "Q[4, 4] = 1\n",
    "# Terminal state cost.\n",
    "Q_terminal = 100 * np.eye(5)\n",
    "# Instantaneous control cost.\n",
    "R = np.array([[1.0]])"
   ]
  },
  {
   "cell_type": "code",
   "execution_count": null,
   "metadata": {
    "scrolled": true
   },
   "outputs": [],
   "source": [
    "x_train = []\n",
    "u_train = []\n",
    "for i in range(10):\n",
    "    print('iteration is ',i)\n",
    "    x0 = np.array([2, 0, 0.001*i , 0])  # Initial state\n",
    "    x_goal = np.array([2, 0.0, 0.0, 0.0])\n",
    "    cartpole_prob = CartPole(dt, N, x_dynamics, x0, x_goal, Q, R, Q_terminal)\n",
    "    xs, us = cartpole_prob.run_IterLinQuadReg()\n",
    "    t = np.arange(N + 1) * dt\n",
    "    x = xs[:, 0] # Position\n",
    "    x_dot = xs[:, 1] # Velocity\n",
    "    theta = np.unwrap(cartpole_prob.deaugment_state(xs)[:, 2])  # Theta, makes for smoother plots.\n",
    "    theta_dot = xs[:, 3] # Angular velocity\n",
    "    x_rollout, u_rollout, local_policy, x_gmm, cost = cartpole_prob.gen_rollouts(x0, x_goal, us, \n",
    "                                     n_rollouts=20, pattern_rand=False, var_range=10, gamma=0.8, percent=20)\n",
    "    model = local_estimate(x_gmm, components=5, NoOfstates=5)\n",
    "    A, B, C = model.estimate(N=N)\n",
    "    x_traj,u_traj = cartpole_prob.run_IterLinQuadReg_matrix(A, B, C)\n",
    "    x_train.append(x_traj)\n",
    "    u_train.append(u_traj)"
   ]
  },
  {
   "cell_type": "code",
   "execution_count": null,
   "metadata": {},
   "outputs": [],
   "source": [
    "x_train1 = x_train[0][:-1]\n",
    "u_train1 = u_train[0]\n",
    "for i in range(1,9):\n",
    "    x_train1 = np.vstack((x_train1,x_train[i][:-1]))\n",
    "    u_train1 = np.vstack((u_train1,u_train[i]))"
   ]
  },
  {
   "cell_type": "code",
   "execution_count": null,
   "metadata": {},
   "outputs": [],
   "source": [
    "u_gr = constrain(u_train1,-0.9,0.9)"
   ]
  },
  {
   "cell_type": "code",
   "execution_count": null,
   "metadata": {},
   "outputs": [],
   "source": [
    "kernel = DotProduct() + WhiteKernel()\n",
    "gpr = GaussianProcessRegressor(kernel=kernel,\n",
    "        random_state=0).fit(x_train1, u_gr)"
   ]
  },
  {
   "cell_type": "code",
   "execution_count": null,
   "metadata": {},
   "outputs": [],
   "source": [
    "gpr.score(x_train1,u_gr)"
   ]
  },
  {
   "cell_type": "code",
   "execution_count": null,
   "metadata": {},
   "outputs": [],
   "source": [
    "u_pre = gpr.predict(xs)"
   ]
  },
  {
   "cell_type": "code",
   "execution_count": null,
   "metadata": {},
   "outputs": [],
   "source": [
    "plt.plot(np.arange(us.shape[0]), constrain(us, -0.9, 0.9), 'r.', label='Original')\n",
    "plt.plot(np.arange(us.shape[0]), constrain(u_pre[0:N],-0.9,0.9), 'b.', label='Global')\n",
    "plt.plot(np.arange(us.shape[0]), constrain(u_traj, -0.9, 0.9), 'g.', label='Local')\n",
    "plt.xlabel('Time steps')\n",
    "plt.ylabel('U')\n",
    "plt.legend()\n",
    "plt.savefig('control.pdf')\n",
    "plt.show()"
   ]
  },
  {
   "cell_type": "code",
   "execution_count": null,
   "metadata": {},
   "outputs": [],
   "source": [
    "x_rollout00, u_rollout00, local_policy00, x_gmm00, cost00 = cartpole_prob.gen_rollouts(x0, x_goal, u_pre[:-1], n_rollouts=10, var_range=0, gamma=1, percent=0)"
   ]
  },
  {
   "cell_type": "code",
   "execution_count": null,
   "metadata": {},
   "outputs": [],
   "source": [
    "plt.plot(np.arange(xs.shape[0]), xs[:, 0], 'r.', label='Original')\n",
    "plt.plot(np.arange(xs.shape[0]), cartpole_prob.deaugment_state(x_rollout00)[0:N+1, 0], 'b.', label='Global')\n",
    "plt.plot(np.arange(xs.shape[0]), cartpole_prob.deaugment_state(x_traj)[:, 0], 'g.', label='Local')\n",
    "plt.xlabel('Time steps')\n",
    "plt.ylabel('Pos')\n",
    "plt.legend()\n",
    "plt.savefig('position.pdf')\n",
    "plt.show()"
   ]
  },
  {
   "cell_type": "code",
   "execution_count": null,
   "metadata": {},
   "outputs": [],
   "source": [
    "plt.plot(np.arange(xs.shape[0]), xs[:, 2], 'r.', label='Original')\n",
    "plt.plot(np.arange(xs.shape[0]), cartpole_prob.deaugment_state(x_rollout00)[0:N+1, 2], 'b.', label='Global')\n",
    "plt.plot(np.arange(xs.shape[0]), cartpole_prob.deaugment_state(x_traj)[:, 2], 'g.', label='Local')\n",
    "plt.xlabel('Time steps')\n",
    "plt.ylabel('Theta')\n",
    "plt.legend()\n",
    "plt.savefig('theta.pdf')\n",
    "plt.show()"
   ]
  },
  {
   "cell_type": "code",
   "execution_count": null,
   "metadata": {},
   "outputs": [],
   "source": [
    "# plt.subplot(3,1,1)\n",
    "# plt.plot(np.arange(us.shape[0]), constrain(us, -0.9, 0.9), 'r.', label='Original')\n",
    "# plt.plot(np.arange(us.shape[0]), constrain(u_pre[0:N],-0.9,0.9), 'b.', label='GPS')\n",
    "# plt.plot(np.arange(us.shape[0]), constrain(u_traj, -0.9, 0.9), 'g.', label='Estimated')\n",
    "# plt.xlabel('Time steps')\n",
    "# plt.ylabel('U')\n",
    "# plt.legend()\n",
    "# plt.title('Control action vs time')\n",
    "\n",
    "\n",
    "plt.subplot(2,1,1)\n",
    "plt.plot(np.arange(xs.shape[0]), xs[:, 0], 'r.', label='Original')\n",
    "plt.plot(np.arange(xs.shape[0]), cartpole_prob.deaugment_state(x_rollout00)[0:N+1, 0], 'b.', label='Corrupted')\n",
    "plt.plot(np.arange(xs.shape[0]), cartpole_prob.deaugment_state(x_traj)[:, 0], 'g.', label='Estimated')\n",
    "plt.xlabel('Time steps')\n",
    "plt.title('position vs time')\n",
    "plt.ylabel('Pos')\n",
    "\n",
    "\n",
    "\n",
    "plt.subplot(2,1,2)\n",
    "plt.plot(np.arange(xs.shape[0]), xs[:, 2], 'r.', label='Original' , lw=2)\n",
    "plt.plot(np.arange(xs.shape[0]), cartpole_prob.deaugment_state(x_rollout00)[0:N+1, 2], 'b.', label='Corrupted' , lw=2)\n",
    "plt.plot(np.arange(xs.shape[0]), cartpole_prob.deaugment_state(x_traj)[:, 2], 'g.', label='Estimated', lw=2)\n",
    "plt.xlabel('Time steps')\n",
    "plt.title('theta vs time')\n",
    "plt.ylabel('Theta')\n",
    "\n",
    "plt.subplots_adjust(hspace=1.5)\n",
    "plt.savefig('total.pdf')\n",
    "plt.show()"
   ]
  },
  {
   "cell_type": "code",
   "execution_count": null,
   "metadata": {},
   "outputs": [],
   "source": [
    "np.isclose([1,0.2], [1,0.1],atol=0.1).all()"
   ]
  },
  {
   "cell_type": "code",
   "execution_count": 5,
   "metadata": {},
   "outputs": [
    {
     "ename": "SyntaxError",
     "evalue": "invalid syntax (Simulator.py, line 106)",
     "output_type": "error",
     "traceback": [
      "Traceback \u001b[0;36m(most recent call last)\u001b[0m:\n",
      "  File \u001b[1;32m\"/home/kim/.local/lib/python3.6/site-packages/IPython/core/interactiveshell.py\"\u001b[0m, line \u001b[1;32m3296\u001b[0m, in \u001b[1;35mrun_code\u001b[0m\n    exec(code_obj, self.user_global_ns, self.user_ns)\n",
      "\u001b[0;36m  File \u001b[0;32m\"<ipython-input-5-1c5a3c0d5c94>\"\u001b[0;36m, line \u001b[0;32m1\u001b[0;36m, in \u001b[0;35m<module>\u001b[0;36m\u001b[0m\n\u001b[0;31m    from Simulator import Mujoco_sim\u001b[0m\n",
      "\u001b[0;36m  File \u001b[0;32m\"/home/kim/Hoppingbot_projects/Hoppingbot/Simulator.py\"\u001b[0;36m, line \u001b[0;32m106\u001b[0m\n\u001b[0;31m    return self.state[;2,:t]\u001b[0m\n\u001b[0m                      ^\u001b[0m\n\u001b[0;31mSyntaxError\u001b[0m\u001b[0;31m:\u001b[0m invalid syntax\n"
     ]
    }
   ],
   "source": [
    "from Simulator import Mujoco_sim\n",
    "Model = \"mujoco/cartpole.xml\"\n",
    "cart_pole_simulator = Mujoco_sim(Model,True)\n",
    "cart_pole_simulator.load(xs,us,k,K,x0,initial=False)\n",
    "cart_pole_simulator.runSimulation()"
   ]
  },
  {
   "cell_type": "code",
   "execution_count": null,
   "metadata": {},
   "outputs": [],
   "source": []
  }
 ],
 "metadata": {
  "kernelspec": {
   "display_name": "Python 3",
   "language": "python",
   "name": "python3"
  },
  "language_info": {
   "codemirror_mode": {
    "name": "ipython",
    "version": 3
   },
   "file_extension": ".py",
   "mimetype": "text/x-python",
   "name": "python",
   "nbconvert_exporter": "python",
   "pygments_lexer": "ipython3",
   "version": "3.6.7"
  }
 },
 "nbformat": 4,
 "nbformat_minor": 2
}
