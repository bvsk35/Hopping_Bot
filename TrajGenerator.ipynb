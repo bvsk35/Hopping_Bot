{
 "cells": [
  {
   "cell_type": "markdown",
   "metadata": {},
   "source": [
    "### Import required libraries"
   ]
  },
  {
   "cell_type": "code",
   "execution_count": 1,
   "metadata": {},
   "outputs": [],
   "source": [
    "import numpy as np\n",
    "import matplotlib.pyplot as plt\n",
    "\n",
    "from CartPole import CartPole\n",
    "# from CartPole_GPS import CartPole_GPS\n",
    "\n",
    "from ilqr.dynamics import constrain\n",
    "from copy import deepcopy\n",
    "\n",
    "from EstimateDynamics import local_estimate\n",
    "from GMM import Estimated_Dynamics_Prior\n",
    "\n",
    "from sklearn.gaussian_process import GaussianProcessRegressor\n",
    "from sklearn.gaussian_process.kernels import DotProduct, WhiteKernel\n"
   ]
  },
  {
   "cell_type": "markdown",
   "metadata": {},
   "source": [
    "### Formulate the iLQR problem"
   ]
  },
  {
   "cell_type": "code",
   "execution_count": 2,
   "metadata": {},
   "outputs": [],
   "source": [
    "'''\n",
    "1 - dt = time step\n",
    "2 - N = Number of control points in the trajectory\n",
    "3 - x0 = Initial state\n",
    "4 - x_goal = Final state\n",
    "5 - Q = State cost\n",
    "6 - R = Control cost\n",
    "7 - Q_terminal = Cost at the final step\n",
    "8 - x_dynamics array stores the information regarding system. \n",
    "    x_dynamics[0] = m = mass of the pendulum bob \n",
    "    x_dynamics[1] = M = mass of the cart \n",
    "    x_dynamics[2] = L = length of the massless rod \n",
    "    x_dynamics[3] = g = gravity \n",
    "    x_dynamics[4] = d = damping in the system\n",
    "'''\n",
    "dt = 0.01\n",
    "N = 2000  # Number of time steps in trajectory.\n",
    "x_dynamics = np.array([1, 5, 2, 9.80665, 0.5]) # m=1, M=5, L=2, g=9.80665, d=1\n",
    "x0 = np.array([-2.0, 0.0, 0.14, 0.0])  # Initial state\n",
    "x_goal = np.array([3.0, 0.0, 0.0, 0.0])\n",
    "# Instantenous state cost.\n",
    "Q = np.eye(5)\n",
    "Q[2, 2] = 1\n",
    "Q[3, 3] = 1\n",
    "# Q[4, 4] = 100\n",
    "# Terminal state cost.\n",
    "Q_terminal = np.eye(5)\n",
    "Q_terminal[2, 2] = 100\n",
    "Q_terminal[3, 3] = 100\n",
    "# Instantaneous control cost.\n",
    "R = np.array([[1.0]])"
   ]
  },
  {
   "cell_type": "markdown",
   "metadata": {},
   "source": [
    "### iLQR on Cart Pole"
   ]
  },
  {
   "cell_type": "code",
   "execution_count": 3,
   "metadata": {
    "scrolled": true
   },
   "outputs": [
    {
     "name": "stdout",
     "output_type": "stream",
     "text": [
      "iteration 0 accepted 48918.97136341531 [ 5.12581267 -0.33487694 -0.73803684  2.37771454]\n",
      "iteration 1 accepted 48888.88432326755 [ 5.08835356 -0.35926138 -0.72548777  2.37284837]\n",
      "iteration 2 accepted 48864.61480042413 [ 5.1435757  -0.36037315 -0.72215214  2.37770659]\n",
      "iteration 3 failed 48864.61480042419 [ 5.1435757  -0.36037315 -0.72215214  2.37770659]\n",
      "iteration 4 failed 48864.61480042419 [ 5.1435757  -0.36037315 -0.72215214  2.37770659]\n",
      "iteration 5 accepted 39053.27544063534 [ 0.78659098 -0.0075366  -1.95068247  3.33825385]\n",
      "iteration 6 accepted 39052.4423088635 [ 0.77814859 -0.01723536 -1.94241867  3.33089197]\n",
      "iteration 7 accepted 28538.872750315124 [ 3.28236941 -0.62134707 -0.94804648  2.18122277]\n",
      "iteration 8 accepted 28529.885067941592 [ 3.30189163 -0.63191569 -0.90192741  2.12125741]\n",
      "iteration 9 accepted 27752.609812358703 [ 2.87549816 -0.77846753 -0.51444046  1.57752106]\n",
      "iteration 10 accepted 27427.371169866194 [ 2.09666716 -0.59527483  0.29973071  1.23707477]\n",
      "iteration 11 accepted 26933.624139401178 [2.8666377  1.04810257 2.34192028 3.93259639]\n",
      "iteration 12 accepted 26452.025675936824 [ 3.11565869 -0.2719818   1.2013177   2.50090815]\n",
      "iteration 13 accepted 25977.569660547062 [ 3.07218363 -0.26775326  1.179777    2.51509322]\n",
      "iteration 14 accepted 25794.70037785626 [ 2.84009728 -0.50271001  0.75493408  1.90789798]\n",
      "iteration 15 accepted 25697.898122698967 [ 2.63684283 -0.53828133  0.6726392   1.7890511 ]\n",
      "iteration 16 accepted 25488.166556504035 [ 3.01303926 -0.45804732  0.77784845  1.98657267]\n",
      "iteration 17 accepted 25284.10759107811 [ 2.81859237 -0.47701657  0.51545125  1.62813251]\n",
      "iteration 18 accepted 25241.74681877667 [ 2.88217034 -0.48900438  0.49416816  1.62208773]\n",
      "iteration 19 accepted 25196.854512232327 [ 2.84480778 -0.47705049  0.37459506  1.48458132]\n",
      "iteration 20 accepted 25164.038257510605 [ 2.87723728 -0.4811331   0.33511753  1.45975241]\n",
      "iteration 21 accepted 25133.249647939076 [ 2.87537458 -0.47093879  0.2525555   1.38974177]\n",
      "iteration 22 accepted 25104.940164081567 [ 2.89053331 -0.47459168  0.21377886  1.37112627]\n",
      "iteration 23 accepted 25077.80757575503 [ 2.90231753 -0.46743238  0.14351505  1.33430365]\n",
      "iteration 24 accepted 25051.65693787799 [ 2.9114352  -0.4711172   0.10279336  1.32328732]\n",
      "iteration 25 accepted 25026.392175655208 [ 2.92818678 -0.46844247  0.03843886  1.31075053]\n",
      "iteration 26 accepted 25001.67987967554 [ 2.93743099 -0.47257171 -0.00812835  1.31019087]\n",
      "iteration 27 accepted 24977.168861878312 [ 2.95707168 -0.47482338 -0.07091968  1.31960173]\n",
      "iteration 28 accepted 24953.411048604863 [ 2.96903907 -0.48044459 -0.12755536  1.33527671]\n",
      "iteration 29 accepted 24928.81417022881 [ 2.99228479 -0.48756751 -0.1955024   1.36917712]\n",
      "iteration 30 accepted 24905.280920387086 [ 3.00979997 -0.49586245 -0.26964653  1.41314191]\n",
      "iteration 31 accepted 24879.530971998698 [ 3.03913697 -0.50724891 -0.35587568  1.48486414]\n",
      "iteration 32 accepted 24854.483628002643 [ 3.06926126 -0.51702752 -0.46990177  1.59061866]\n",
      "iteration 33 accepted 24823.10973528157 [ 3.11665509 -0.52318173 -0.63000789  1.77282659]\n",
      "iteration 34 accepted 24774.472558617643 [ 3.1913661  -0.41327133 -1.07382259  2.33106604]\n",
      "iteration 35 accepted 24359.394564725415 [2.15312581 0.68812686 2.36306037 3.74467468]\n",
      "iteration 36 failed 24359.3945647255 [2.15312581 0.68812686 2.36306037 3.74467468]\n",
      "iteration 37 failed 24359.3945647255 [2.15312581 0.68812686 2.36306037 3.74467468]\n",
      "iteration 38 failed 24359.3945647255 [2.15312581 0.68812686 2.36306037 3.74467468]\n",
      "iteration 39 failed 24359.3945647255 [2.15312581 0.68812686 2.36306037 3.74467468]\n",
      "iteration 40 failed 24359.3945647255 [2.15312581 0.68812686 2.36306037 3.74467468]\n",
      "iteration 41 failed 24359.3945647255 [2.15312581 0.68812686 2.36306037 3.74467468]\n",
      "iteration 42 failed 24359.3945647255 [2.15312581 0.68812686 2.36306037 3.74467468]\n",
      "iteration 43 failed 24359.3945647255 [2.15312581 0.68812686 2.36306037 3.74467468]\n",
      "iteration 44 accepted 24087.631235397897 [2.68043221 0.71252424 2.37059197 3.75704689]\n",
      "iteration 45 failed 24087.631235397876 [2.68043221 0.71252424 2.37059197 3.75704689]\n",
      "iteration 46 accepted 24074.978669457178 [2.49275846 0.7340525  2.38413543 3.76531425]\n",
      "iteration 47 failed 24074.97866945721 [2.49275846 0.7340525  2.38413543 3.76531425]\n",
      "iteration 48 failed 24074.97866945721 [2.49275846 0.7340525  2.38413543 3.76531425]\n",
      "iteration 49 failed 24074.97866945721 [2.49275846 0.7340525  2.38413543 3.76531425]\n",
      "iteration 50 failed 24074.97866945721 [2.49275846 0.7340525  2.38413543 3.76531425]\n",
      "iteration 51 accepted 24074.97854655405 [2.49272093 0.73403051 2.3841144  3.76529227]\n",
      "iteration 52 failed 24074.978546554063 [2.49272093 0.73403051 2.3841144  3.76529227]\n",
      "iteration 53 accepted 24074.96066528557 [2.49286121 0.73404419 2.38411039 3.76528802]\n",
      "iteration 54 failed 24074.960665285595 [2.49286121 0.73404419 2.38411039 3.76528802]\n",
      "iteration 55 failed 24074.960665285595 [2.49286121 0.73404419 2.38411039 3.76528802]\n",
      "iteration 56 failed 24074.960665285595 [2.49286121 0.73404419 2.38411039 3.76528802]\n",
      "iteration 57 failed 24074.960665285595 [2.49286121 0.73404419 2.38411039 3.76528802]\n",
      "iteration 58 accepted 24074.948221407227 [2.49297741 0.73408626 2.38411024 3.76528795]\n",
      "iteration 59 accepted 24074.947599170042 [2.49297028 0.73408069 2.38410781 3.76528539]\n",
      "iteration 60 accepted 24074.829359926745 [2.49294334 0.73409611 2.38402889 3.76520924]\n",
      "iteration 61 accepted 24074.828511637414 [2.49323012 0.73441096 2.38417822 3.76536711]\n",
      "iteration 62 failed 24074.828511637454 [2.49323012 0.73441096 2.38417822 3.76536711]\n",
      "iteration 63 accepted 24074.81260377421 [2.49334061 0.73441782 2.38417049 3.76535901]\n",
      "iteration 64 failed 24074.812603774182 [2.49334061 0.73441782 2.38417049 3.76535901]\n",
      "iteration 65 failed 24074.812603774182 [2.49334061 0.73441782 2.38417049 3.76535901]\n",
      "iteration 66 failed 24074.812603774182 [2.49334061 0.73441782 2.38417049 3.76535901]\n",
      "iteration 67 failed 24074.812603774182 [2.49334061 0.73441782 2.38417049 3.76535901]\n",
      "iteration 68 accepted 24074.80287459431 [2.49323688 0.7343458  2.38414446 3.76533335]\n",
      "iteration 69 failed 24074.802874594352 [2.49323688 0.7343458  2.38414446 3.76533335]\n",
      "iteration 70 accepted 24074.798499218672 [2.4931474  0.73428688 2.38412513 3.76531456]\n",
      "iteration 71 failed 24074.79849921863 [2.4931474  0.73428688 2.38412513 3.76531456]\n",
      "iteration 72 accepted 24074.79708514168 [2.49307215 0.7342388  2.38411032 3.76530039]\n",
      "iteration 73 failed 24074.797085141658 [2.49307215 0.7342388  2.38411032 3.76530039]\n",
      "iteration 74 accepted 24074.796885511216 [2.49300985 0.73419887 2.38409809 3.76528889]\n",
      "iteration 75 failed 24074.796885511187 [2.49300985 0.73419887 2.38409809 3.76528889]\n",
      "iteration 76 accepted 24074.796405553418 [2.49295876 0.73416352 2.38408622 3.76527791]\n",
      "iteration 77 failed 24074.79640555346 [2.49295876 0.73416352 2.38408622 3.76527791]\n",
      "iteration 78 accepted 24074.79265218293 [2.49291776 0.73412361 2.38406863 3.7652619 ]\n",
      "iteration 79 failed 24074.792652182878 [2.49291776 0.73412361 2.38406863 3.7652619 ]\n"
     ]
    },
    {
     "name": "stderr",
     "output_type": "stream",
     "text": [
      "/usr/local/lib/python3.6/dist-packages/ilqr-0.1.0-py3.6.egg/ilqr/controller.py:168: UserWarning: exceeded max regularization term\n"
     ]
    }
   ],
   "source": [
    "cartpole_prob = CartPole(dt, N, x_dynamics, x0, x_goal, Q, R, Q_terminal)\n",
    "xs, us, K, k = cartpole_prob.run_IterLinQuadReg()"
   ]
  },
  {
   "cell_type": "code",
   "execution_count": 4,
   "metadata": {},
   "outputs": [],
   "source": [
    "# State matrix split into individual states. For plotting and analysing purposes.\n",
    "t = np.arange(N + 1) * dt\n",
    "x = xs[:, 0] # Position\n",
    "x_dot = xs[:, 1] # Velocity\n",
    "theta = np.unwrap(cartpole_prob.deaugment_state(xs)[:, 2])  # Theta, makes for smoother plots.\n",
    "theta_dot = xs[:, 3] # Angular velocity"
   ]
  },
  {
   "cell_type": "markdown",
   "metadata": {},
   "source": [
    "### Simulate the real system and generate the data\n",
    "Cost matrices, initial position and goal position will remain same as the above problem. As it indicates one policy. But still the initial positions and goal positions must be passed explicitly to the function. But you don't need to pass cost matrices (assume penalty on the system is same), this is just used to use to calculate the cost of the trajectory. Correct control action must be passed. Parameter gamma indicates how much of original data you want to keep\n",
    "\n",
    "Variance of the Gaussian noise will be taken as input from a Unif(0, var_range) uniform distribution. Inputs: x_initial, x_goal, u, n_rollouts, pattern='Normal', pattern_rand=False, var_range=10, gamma=0.2, percent=20\n",
    "\n",
    "Pattern controls how the control sequence will be modified after applying white Guassian noise (zero mean).\n",
    "- Normal: based on the correction/mixing parameter gamma generate control (gamma controls how much noise we want).\n",
    "- MissingValue: based on the given percentage, set those many values to zero (it is implicitly it uses \"Normal\" generated control is used). \n",
    "- Shuffle: shuffles the entire \"Normal\" generated control sequence.\n",
    "- TimeDelay: takes the \"Normal\" generated control and shifts it by 1 index i.e. one unit time delay.\n",
    "- Extreme: sets gamma as zeros and generates control based on only noise.\n",
    "\n",
    "If 'pattern_rand' is 'True' then we don't need to send the explicitly, it will chose one randomly for every rollout (default is 'False'). If you want to chose specific pattern then send it explicitly. "
   ]
  },
  {
   "cell_type": "code",
   "execution_count": 5,
   "metadata": {},
   "outputs": [],
   "source": [
    "x_rollout, u_rollout, local_policy, cost = cartpole_prob.gen_rollouts(x0, x_goal, us, n_rollouts=10, pattern_rand=True, var_range=10, gamma=0.2, percent=20)"
   ]
  },
  {
   "cell_type": "markdown",
   "metadata": {},
   "source": [
    "### Local system dynamics/model estimate\n",
    "loca_estimate: function takes the states (arranged in a special format, [x(t), u(t), x(t+1)]), no. of gaussian mixtures and no.of states."
   ]
  },
  {
   "cell_type": "code",
   "execution_count": 6,
   "metadata": {},
   "outputs": [],
   "source": [
    "model = Estimated_Dynamics_Prior(init_sequential=False, eigreg=False, warmstart=True, \n",
    "                 min_samples_per_cluster=20, max_clusters=50, max_samples=20, strength=1.0)\n",
    "model.update_prior(x_rollout, u_rollout)\n",
    "A, B, C = model.fit(x_rollout, u_rollout)"
   ]
  },
  {
   "cell_type": "code",
   "execution_count": 7,
   "metadata": {},
   "outputs": [
    {
     "name": "stdout",
     "output_type": "stream",
     "text": [
      "(2001, 5, 6)\n",
      "(2001, 5)\n",
      "(2001, 5, 5)\n"
     ]
    }
   ],
   "source": [
    "print(A.shape)\n",
    "print(B.shape)\n",
    "print(C.shape)"
   ]
  },
  {
   "cell_type": "code",
   "execution_count": 8,
   "metadata": {},
   "outputs": [
    {
     "data": {
      "text/plain": [
       "(10, 2001, 1)"
      ]
     },
     "execution_count": 8,
     "metadata": {},
     "output_type": "execute_result"
    }
   ],
   "source": [
    "u_rollout.shape"
   ]
  },
  {
   "cell_type": "markdown",
   "metadata": {},
   "source": [
    "### iLQR on estimated model\n",
    "Here system dynamics is specified in a special way. We give the A, B, C matrices as input. These matrices comes from GMM and GPS theory. They are the mean/expected trajectory followed by the states which is represented by the mean & covariance (A, B, C) matrices of a Gaussian. Remaining all properties of the iLQR problem remains the same (cost, initial & goal state, time steps). "
   ]
  },
  {
   "cell_type": "code",
   "execution_count": 9,
   "metadata": {},
   "outputs": [
    {
     "name": "stdout",
     "output_type": "stream",
     "text": [
      "iteration 0 accepted 1058516.078035197 [12.33270979 -4.20832417  3.00151915 30.21325888]\n",
      "iteration 1 accepted 1043687.1264950135 [12.41181649 -4.1489411  -0.16639959 29.93688112]\n",
      "iteration 2 accepted 1032546.9683574325 [12.29263146 -4.13751007 -2.89601133 29.96169859]\n",
      "iteration 3 accepted 1022112.2145055033 [12.35568143 -4.20816886  0.83399165 29.63805516]\n",
      "iteration 4 accepted 1012896.7079382048 [12.53030444 -3.94727217 -1.83588076 29.73216545]\n",
      "iteration 5 accepted 1004621.2693599659 [12.26726861 -4.15497356  2.35622559 29.57032181]\n",
      "iteration 6 accepted 996045.0015898119 [12.58873182 -3.95537318 -0.20681868 29.36616286]\n",
      "iteration 7 accepted 988727.3587337902 [12.48222069 -3.88887386 -2.38273194 29.46761107]\n",
      "iteration 8 accepted 981340.8248406937 [12.35318415 -4.06668463  1.83644196 29.17565519]\n",
      "iteration 9 accepted 973633.7908605979 [12.69967713 -3.78367756 -0.68418698 29.06424552]\n",
      "iteration 10 accepted 966951.3737955018 [12.50203549 -3.81050533 -2.65158182 29.11873129]\n",
      "iteration 11 accepted 959716.1930775691 [12.45409839 -3.95508857  1.55444923 28.77804896]\n",
      "iteration 12 accepted 952162.2082890618 [12.78051634 -3.65348508 -0.91647703 28.72328494]\n",
      "iteration 13 accepted 945339.8046734435 [12.54846148 -3.72541331 -2.81340973 28.75004896]\n",
      "iteration 14 accepted 937614.7068944931 [12.54950058 -3.84599108  1.34927531 28.39545657]\n",
      "iteration 15 accepted 929503.876500819 [12.8474321  -3.54036631 -1.1265496  28.39359887]\n",
      "iteration 16 accepted 921759.0696145198 [12.57967019 -3.66315477 -3.06342168 28.38448961]\n",
      "iteration 17 accepted 912687.4115704186 [12.67273721 -3.72184429  0.91713109 28.02897981]\n",
      "iteration 18 accepted 903316.3908533053 [12.87217604 -3.44278782 -1.65380075 28.11148101]\n",
      "iteration 19 accepted 893682.6591178434 [12.579662   -3.66552553  2.46453097 27.95126934]\n",
      "iteration 20 accepted 882473.8469931675 [12.91776546 -3.46362484 -0.31760857 27.73391514]\n",
      "iteration 21 accepted 871490.7411284077 [12.73206722 -3.47499313 -2.89319602 27.78439277]\n",
      "iteration 22 accepted 859065.8700220229 [12.81574165 -3.53358948  0.61493956 27.42060607]\n",
      "iteration 23 accepted 846513.6991034837 [12.88793506 -3.33341484 -2.45000045 27.49412103]\n",
      "iteration 24 accepted 833180.6554022148 [12.7999292  -3.50641384  0.98828428 27.12466735]\n",
      "iteration 25 accepted 819621.0746185287 [12.97294567 -3.23918621 -2.30889852 27.18027197]\n",
      "iteration 26 accepted 805681.5288859819 [12.83523552 -3.44151724  1.04744672 26.81321597]\n",
      "iteration 27 accepted 791655.29133803 [13.01714526 -3.16872113 -2.33606292 26.86621695]\n",
      "iteration 28 accepted 777399.7041188268 [12.88933525 -3.3660811   0.96468842 26.49625538]\n",
      "iteration 29 accepted 763248.4501161143 [13.04260156 -3.11150877 -2.42998125 26.55661524]\n",
      "iteration 30 accepted 748882.1703052653 [12.94876677 -3.28957199  0.83914674 26.18414442]\n",
      "iteration 31 accepted 734783.828086312 [13.06267128 -3.06216844 -2.5293974  26.25301244]\n",
      "iteration 32 accepted 720430.0549124632 [13.00753214 -3.21835549  0.72397538 25.88000438]\n",
      "iteration 33 accepted 706458.7571515898 [13.08712334 -3.01735128 -2.60662687 25.95530734]\n",
      "iteration 34 accepted 692181.8718735336 [13.0654408  -3.15664424  0.64127793 25.58219446]\n",
      "iteration 35 accepted 678354.6797855316 [13.12351068 -2.97555565 -2.65487283 25.66224541]\n",
      "iteration 36 accepted 664180.7368931257 [13.12718808 -3.10584159  0.59382581 25.28806482]\n",
      "iteration 37 accepted 650486.6789929289 [13.17819321 -2.9365037  -2.67761769 25.37252622]\n",
      "iteration 38 accepted 636418.6911675988 [13.20049219 -3.06510359  0.57522141 24.99618845]\n",
      "iteration 39 accepted 622835.6330061168 [13.2574271  -2.9000782  -2.68125052 25.08592845]\n",
      "iteration 40 accepted 608865.9685520455 [13.29422613 -3.03238597  0.57798282 24.70710783]\n",
      "iteration 41 accepted 595371.5835721003 [13.36818102 -2.86524318 -2.66986828 24.80411058]\n",
      "iteration 42 accepted 581494.2506686446 [13.41673889 -3.00529875  0.59973546 24.4234671 ]\n",
      "iteration 43 accepted 568074.8725409063 [13.51843445 -2.82909075 -2.64130946 24.53105296]\n",
      "iteration 44 accepted 554299.6464064191 [13.57406672 -2.98156474  0.64779882 24.15005886]\n",
      "iteration 45 accepted 540958.2834226666 [13.71668787 -2.78615154 -2.5843706  24.27294453]\n",
      "iteration 46 accepted 527327.3435702637 [13.76797278 -2.9588379   0.74152482 23.89394229]\n",
      "iteration 47 accepted 514090.0154776555 [13.97024774 -2.72843823 -2.47811863 24.03683127]\n",
      "iteration 48 accepted 500695.6379083853 [13.99456774 -2.93313663  0.91043592 23.66477707]\n",
      "iteration 49 accepted 487613.12650856405 [14.28166805 -2.64729971 -2.29465531 23.82691571]\n",
      "iteration 50 accepted 474609.16986198415 [14.24592076 -2.89467177  1.18542954 23.47511754]\n",
      "iteration 51 accepted 461751.93188977375 [14.642746   -2.53858473 -2.00550682 23.63817386]\n",
      "iteration 52 accepted 449338.4227370419 [14.51801556 -2.82203789  1.58200593 23.33713426]\n",
      "iteration 53 accepted 436791.49757395376 [15.02685696 -2.41092145 -1.5899595  23.4503592 ]\n",
      "iteration 54 accepted 425139.7627896964 [14.82091719 -2.68494569  2.07962925 23.24633   ]\n",
      "iteration 55 accepted 413011.204552745 [15.38699654 -2.28833667 -1.05120597 23.23099309]\n",
      "iteration 56 accepted 402128.27916995937 [15.1706915  -2.4691465   2.60596962 23.15434223]\n",
      "iteration 57 accepted 390537.21809520724 [15.68388943 -2.18251171 -0.45771388 22.95742729]\n",
      "iteration 58 accepted 380187.4493618271 [15.55885784 -2.19862989  3.0514693  22.98124165]\n",
      "iteration 59 accepted 369146.30623678904 [15.94350954 -2.0522084   0.04254302 22.63079987]\n",
      "iteration 60 accepted 359010.6561040574 [15.9511492  -1.90740309 -2.94293637 22.68857907]\n",
      "iteration 61 accepted 348346.42529337906 [16.22728077 -1.85037376  0.33516376 22.24804842]\n",
      "iteration 62 accepted 338236.51520620484 [16.32213221 -1.60773726 -2.82436249 22.2925664 ]\n",
      "iteration 63 accepted 327710.3712736543 [16.55687755 -1.56971375  0.40137422 21.80416428]\n",
      "iteration 64 accepted 317565.90791618696 [16.66045349 -1.29928995 -2.87151905 21.81503022]\n",
      "iteration 65 accepted 306970.79239405284 [16.92657471 -1.21048635  0.24801639 21.30805728]\n",
      "iteration 66 accepted 296791.3102355386 [16.95582896 -0.98265736 -3.08440921 21.26169815]\n",
      "iteration 67 accepted 285968.9448928226 [17.32059062 -0.76456047 -0.12975008 20.78146673]\n",
      "iteration 68 accepted 275766.4114622763 [17.20138808 -0.65861735  2.81256136 20.62126951]\n",
      "iteration 69 accepted 264623.4172331993 [17.69365804 -0.23735177 -0.74391483 20.24494071]\n",
      "iteration 70 accepted 254331.22935818453 [17.41587271 -0.31149262  2.21610201 19.8688007 ]\n",
      "iteration 71 accepted 242869.64245988656 [17.94095102  0.30037464 -1.60879758 19.66212443]\n",
      "iteration 72 accepted 232161.7638960467 [17.69307812  0.14755631  1.28790746 19.00226476]\n",
      "iteration 73 accepted 220551.16343020299 [17.94832282  0.70992822 -2.72454986 18.87696672]\n",
      "iteration 74 accepted 208925.62621654425 [18.12521533  0.93570062 -0.15039823 18.22408347]\n",
      "iteration 75 accepted 197579.3096821071 [17.8127225   1.02916025  2.25597905 17.79849308]\n",
      "iteration 76 accepted 185184.00983389604 [18.16733017  1.72785083 -1.96650399 17.53378963]\n",
      "iteration 77 accepted 173433.88647333928 [17.95353449  1.72798487  0.46347314 16.65842694]\n",
      "iteration 78 accepted 161177.32033146953 [17.64627362  2.02712696  2.41848886 16.22569836]\n",
      "iteration 79 accepted 148254.48950847235 [17.79370497  2.7615369  -2.06180771 15.86413804]\n",
      "iteration 80 accepted 136112.53059820403 [17.49318534  2.86299756  0.07341533 14.86108632]\n",
      "iteration 81 accepted 123739.00086345179 [16.79101187  2.99829138  1.85241042 14.13074967]\n",
      "iteration 82 accepted 110695.50580220453 [16.41068219  3.69267684 -2.9647446  13.69382783]\n",
      "iteration 83 accepted 98492.44094080324 [16.10374202  4.24901962 -1.19528689 12.8509526 ]\n",
      "iteration 84 accepted 87443.00521387026 [14.97152767  4.04318448  0.77242438 11.50510902]\n",
      "iteration 85 accepted 76328.70118052505 [13.56477682  4.30371758  2.36640316 10.77653268]\n",
      "iteration 86 accepted 66336.80438009299 [12.61580065  5.03443929 -2.10994259 10.15196711]\n",
      "iteration 87 accepted 58868.63568342948 [11.10750569  4.52891213  0.49911004  8.31940363]\n",
      "iteration 88 accepted 52880.38098162721 [ 9.00156889  4.65807011 -3.06905041  7.94278501]\n",
      "iteration 89 accepted 48859.56813040574 [7.60278583 4.0545363  0.47616987 6.01038228]\n",
      "iteration 90 accepted 46538.21632980053 [ 6.29895727  4.55074743 -1.63925027  6.1935643 ]\n"
     ]
    },
    {
     "name": "stdout",
     "output_type": "stream",
     "text": [
      "iteration 91 accepted 45108.43869996027 [3.99021929 3.43407754 3.01717095 5.13308418]\n",
      "iteration 92 accepted 44088.21152848433 [2.07777431 1.75318769 1.62731187 2.86866786]\n",
      "iteration 93 accepted 43615.43521089221 [1.37891393 0.72983816 0.5580672  0.77514356]\n",
      "iteration 94 accepted 43525.085237726715 [ 1.39898777  0.48413142  0.02580028 -0.18243221]\n",
      "iteration 95 accepted 43517.478124154964 [ 1.46117888  0.45674136 -0.13612152 -0.44553646]\n",
      "iteration 96 accepted 43516.98901816494 [ 1.48307402  0.45426302 -0.17771158 -0.51055062]\n",
      "iteration 97 accepted 43516.957733944 [ 1.489106    0.45397149 -0.18826283 -0.5268741 ]\n",
      "iteration 98 accepted 43516.955719941965 [ 1.49066936  0.45391956 -0.19094182 -0.53100762]\n",
      "iteration 99 accepted 43516.95559001886 [ 1.49106857  0.45390779 -0.19162236 -0.53205695]\n"
     ]
    }
   ],
   "source": [
    "x_traj,u_traj = cartpole_prob.run_IterLinQuadReg_matrix(A, B, C)"
   ]
  },
  {
   "cell_type": "code",
   "execution_count": 10,
   "metadata": {},
   "outputs": [
    {
     "data": {
      "text/plain": [
       "(1, 5)"
      ]
     },
     "execution_count": 10,
     "metadata": {},
     "output_type": "execute_result"
    }
   ],
   "source": [
    "from scipy.stats.mstats import gmean\n",
    "# a = gmean(A,axis=0)\n",
    "a = np.sum(B, axis=0,keepdims=True)/B.shape[0]\n",
    "a.shape"
   ]
  },
  {
   "cell_type": "markdown",
   "metadata": {},
   "source": [
    "### Plot"
   ]
  },
  {
   "cell_type": "code",
   "execution_count": 12,
   "metadata": {},
   "outputs": [
    {
     "data": {
      "image/png": "[encoded data removed]",
      "text/plain": [
       "<Figure size 432x288 with 1 Axes>"
      ]
     },
     "metadata": {
      "needs_background": "light"
     },
     "output_type": "display_data"
    }
   ],
   "source": [
    "# Control sequence\n",
    "plt.plot(np.arange(us.shape[0]), us, 'r.', label='Original')\n",
    "# plt.plot(np.arange(us.shape[0]), u_rollout[0:N], 'b.', label='Corrupted')\n",
    "plt.plot(np.arange(us.shape[0]), u_traj, 'g.', label='Estimated')\n",
    "plt.xlabel('Time steps')\n",
    "plt.ylabel('U')\n",
    "plt.legend()\n",
    "plt.show()"
   ]
  },
  {
   "cell_type": "code",
   "execution_count": 13,
   "metadata": {},
   "outputs": [
    {
     "data": {
      "image/png": "[encoded data removed]",
      "text/plain": [
       "<Figure size 432x288 with 1 Axes>"
      ]
     },
     "metadata": {
      "needs_background": "light"
     },
     "output_type": "display_data"
    }
   ],
   "source": [
    "plt.plot(np.arange(xs.shape[0]), xs[:, 2], 'r.', label='Original')\n",
    "plt.plot(np.arange(xs.shape[0]), cartpole_prob.deaugment_state(x_rollout)[0:N+1, 2], 'b.', label='Corrupted')\n",
    "plt.plot(np.arange(xs.shape[0]), cartpole_prob.deaugment_state(x_traj)[:, 2], 'g.', label='Estimated')\n",
    "plt.xlabel('Time steps')\n",
    "plt.ylabel('Theta')\n",
    "plt.legend()\n",
    "plt.show()"
   ]
  },
  {
   "cell_type": "code",
   "execution_count": 14,
   "metadata": {},
   "outputs": [
    {
     "data": {
      "image/png": "[encoded data removed]",
      "text/plain": [
       "<Figure size 432x288 with 1 Axes>"
      ]
     },
     "metadata": {
      "needs_background": "light"
     },
     "output_type": "display_data"
    }
   ],
   "source": [
    "plt.plot(np.arange(xs.shape[0]), xs[:, 0], 'r.', label='Original')\n",
    "plt.plot(np.arange(xs.shape[0]), cartpole_prob.deaugment_state(x_rollout)[0:N+1, 0], 'b.', label='Corrupted')\n",
    "plt.plot(np.arange(xs.shape[0]), cartpole_prob.deaugment_state(x_traj)[:, 0], 'g.', label='Estimated')\n",
    "plt.xlabel('Time steps')\n",
    "plt.ylabel('Pos')\n",
    "plt.legend()\n",
    "plt.show()"
   ]
  },
  {
   "cell_type": "markdown",
   "metadata": {},
   "source": [
    "### GPS "
   ]
  },
  {
   "cell_type": "code",
   "execution_count": null,
   "metadata": {},
   "outputs": [],
   "source": [
    "dt = 0.005\n",
    "N = 500  # Number of time steps in trajectory.\n",
    "x_dynamics = np.array([1, 5, 2, 9.80665, 1]) # m=1, M=5, L=2, g=9.80665, d=1\n",
    "# Instantenous state cost.\n",
    "Q = np.eye(5)\n",
    "Q[1,1] = 10\n",
    "Q[2, 2] = 1\n",
    "Q[3, 3] = 10\n",
    "Q[4, 4] = 1\n",
    "# Terminal state cost.\n",
    "Q_terminal = 100 * np.eye(5)\n",
    "# Instantaneous control cost.\n",
    "R = np.array([[1.0]])"
   ]
  },
  {
   "cell_type": "code",
   "execution_count": null,
   "metadata": {
    "scrolled": true
   },
   "outputs": [],
   "source": [
    "x_train = []\n",
    "u_train = []\n",
    "for i in range(10):\n",
    "    print('iteration is ',i)\n",
    "    x0 = np.array([2, 0, 0.001*i , 0])  # Initial state\n",
    "    x_goal = np.array([2, 0.0, 0.0, 0.0])\n",
    "    cartpole_prob = CartPole(dt, N, x_dynamics, x0, x_goal, Q, R, Q_terminal)\n",
    "    xs, us = cartpole_prob.run_IterLinQuadReg()\n",
    "    t = np.arange(N + 1) * dt\n",
    "    x = xs[:, 0] # Position\n",
    "    x_dot = xs[:, 1] # Velocity\n",
    "    theta = np.unwrap(cartpole_prob.deaugment_state(xs)[:, 2])  # Theta, makes for smoother plots.\n",
    "    theta_dot = xs[:, 3] # Angular velocity\n",
    "    x_rollout, u_rollout, local_policy, x_gmm, cost = cartpole_prob.gen_rollouts(x0, x_goal, us, \n",
    "                                     n_rollouts=20, pattern_rand=False, var_range=10, gamma=0.8, percent=20)\n",
    "    model = local_estimate(x_gmm, components=5, NoOfstates=5)\n",
    "    A, B, C = model.estimate(N=N)\n",
    "    x_traj,u_traj = cartpole_prob.run_IterLinQuadReg_matrix(A, B, C)\n",
    "    x_train.append(x_traj)\n",
    "    u_train.append(u_traj)"
   ]
  },
  {
   "cell_type": "code",
   "execution_count": null,
   "metadata": {},
   "outputs": [],
   "source": [
    "x_train1 = x_train[0][:-1]\n",
    "u_train1 = u_train[0]\n",
    "for i in range(1,9):\n",
    "    x_train1 = np.vstack((x_train1,x_train[i][:-1]))\n",
    "    u_train1 = np.vstack((u_train1,u_train[i]))"
   ]
  },
  {
   "cell_type": "code",
   "execution_count": null,
   "metadata": {},
   "outputs": [],
   "source": [
    "u_gr = constrain(u_train1,-0.9,0.9)"
   ]
  },
  {
   "cell_type": "code",
   "execution_count": null,
   "metadata": {},
   "outputs": [],
   "source": [
    "kernel = DotProduct() + WhiteKernel()\n",
    "gpr = GaussianProcessRegressor(kernel=kernel,\n",
    "        random_state=0).fit(x_train1, u_gr)"
   ]
  },
  {
   "cell_type": "code",
   "execution_count": null,
   "metadata": {},
   "outputs": [],
   "source": [
    "gpr.score(x_train1,u_gr)"
   ]
  },
  {
   "cell_type": "code",
   "execution_count": null,
   "metadata": {},
   "outputs": [],
   "source": [
    "u_pre = gpr.predict(xs)"
   ]
  },
  {
   "cell_type": "code",
   "execution_count": null,
   "metadata": {},
   "outputs": [],
   "source": [
    "plt.plot(np.arange(us.shape[0]), constrain(us, -0.9, 0.9), 'r.', label='Original')\n",
    "plt.plot(np.arange(us.shape[0]), constrain(u_pre[0:N],-0.9,0.9), 'b.', label='Global')\n",
    "plt.plot(np.arange(us.shape[0]), constrain(u_traj, -0.9, 0.9), 'g.', label='Local')\n",
    "plt.xlabel('Time steps')\n",
    "plt.ylabel('U')\n",
    "plt.legend()\n",
    "plt.savefig('control.pdf')\n",
    "plt.show()"
   ]
  },
  {
   "cell_type": "code",
   "execution_count": null,
   "metadata": {},
   "outputs": [],
   "source": [
    "x_rollout00, u_rollout00, local_policy00, x_gmm00, cost00 = cartpole_prob.gen_rollouts(x0, x_goal, u_pre[:-1], n_rollouts=10, var_range=0, gamma=1, percent=0)"
   ]
  },
  {
   "cell_type": "code",
   "execution_count": null,
   "metadata": {},
   "outputs": [],
   "source": [
    "plt.plot(np.arange(xs.shape[0]), xs[:, 0], 'r.', label='Original')\n",
    "plt.plot(np.arange(xs.shape[0]), cartpole_prob.deaugment_state(x_rollout00)[0:N+1, 0], 'b.', label='Global')\n",
    "plt.plot(np.arange(xs.shape[0]), cartpole_prob.deaugment_state(x_traj)[:, 0], 'g.', label='Local')\n",
    "plt.xlabel('Time steps')\n",
    "plt.ylabel('Pos')\n",
    "plt.legend()\n",
    "plt.savefig('position.pdf')\n",
    "plt.show()"
   ]
  },
  {
   "cell_type": "code",
   "execution_count": null,
   "metadata": {},
   "outputs": [],
   "source": [
    "plt.plot(np.arange(xs.shape[0]), xs[:, 2], 'r.', label='Original')\n",
    "plt.plot(np.arange(xs.shape[0]), cartpole_prob.deaugment_state(x_rollout00)[0:N+1, 2], 'b.', label='Global')\n",
    "plt.plot(np.arange(xs.shape[0]), cartpole_prob.deaugment_state(x_traj)[:, 2], 'g.', label='Local')\n",
    "plt.xlabel('Time steps')\n",
    "plt.ylabel('Theta')\n",
    "plt.legend()\n",
    "plt.savefig('theta.pdf')\n",
    "plt.show()"
   ]
  },
  {
   "cell_type": "code",
   "execution_count": null,
   "metadata": {},
   "outputs": [],
   "source": [
    "# plt.subplot(3,1,1)\n",
    "# plt.plot(np.arange(us.shape[0]), constrain(us, -0.9, 0.9), 'r.', label='Original')\n",
    "# plt.plot(np.arange(us.shape[0]), constrain(u_pre[0:N],-0.9,0.9), 'b.', label='GPS')\n",
    "# plt.plot(np.arange(us.shape[0]), constrain(u_traj, -0.9, 0.9), 'g.', label='Estimated')\n",
    "# plt.xlabel('Time steps')\n",
    "# plt.ylabel('U')\n",
    "# plt.legend()\n",
    "# plt.title('Control action vs time')\n",
    "\n",
    "\n",
    "plt.subplot(2,1,1)\n",
    "plt.plot(np.arange(xs.shape[0]), xs[:, 0], 'r.', label='Original')\n",
    "plt.plot(np.arange(xs.shape[0]), cartpole_prob.deaugment_state(x_rollout00)[0:N+1, 0], 'b.', label='Corrupted')\n",
    "plt.plot(np.arange(xs.shape[0]), cartpole_prob.deaugment_state(x_traj)[:, 0], 'g.', label='Estimated')\n",
    "plt.xlabel('Time steps')\n",
    "plt.title('position vs time')\n",
    "plt.ylabel('Pos')\n",
    "\n",
    "\n",
    "\n",
    "plt.subplot(2,1,2)\n",
    "plt.plot(np.arange(xs.shape[0]), xs[:, 2], 'r.', label='Original' , lw=2)\n",
    "plt.plot(np.arange(xs.shape[0]), cartpole_prob.deaugment_state(x_rollout00)[0:N+1, 2], 'b.', label='Corrupted' , lw=2)\n",
    "plt.plot(np.arange(xs.shape[0]), cartpole_prob.deaugment_state(x_traj)[:, 2], 'g.', label='Estimated', lw=2)\n",
    "plt.xlabel('Time steps')\n",
    "plt.title('theta vs time')\n",
    "plt.ylabel('Theta')\n",
    "\n",
    "plt.subplots_adjust(hspace=1.5)\n",
    "plt.savefig('total.pdf')\n",
    "plt.show()"
   ]
  },
  {
   "cell_type": "code",
   "execution_count": null,
   "metadata": {},
   "outputs": [],
   "source": [
    "np.isclose([1,0.2], [1,0.1],atol=0.1).all()"
   ]
  },
  {
   "cell_type": "code",
   "execution_count": 16,
   "metadata": {},
   "outputs": [
    {
     "name": "stdout",
     "output_type": "stream",
     "text": [
      "model added to the simulator\n",
      "Creating window glfw\n"
     ]
    }
   ],
   "source": [
    "from Simulator import Mujoco_sim\n",
    "Model = \"mujoco/cartpole.xml\"\n",
    "cart_pole_simulator = Mujoco_sim(Model,True)\n",
    "cart_pole_simulator.load(xs,us,k,K,x0,initial=False)\n",
    "cart_pole_simulator.runSimulation()"
   ]
  },
  {
   "cell_type": "code",
   "execution_count": null,
   "metadata": {},
   "outputs": [],
   "source": []
  }
 ],
 "metadata": {
  "kernelspec": {
   "display_name": "Python 3",
   "language": "python",
   "name": "python3"
  },
  "language_info": {
   "codemirror_mode": {
    "name": "ipython",
    "version": 3
   },
   "file_extension": ".py",
   "mimetype": "text/x-python",
   "name": "python",
   "nbconvert_exporter": "python",
   "pygments_lexer": "ipython3",
   "version": "3.6.7"
  }
 },
 "nbformat": 4,
 "nbformat_minor": 2
}
