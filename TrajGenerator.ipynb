{
 "cells": [
  {
   "cell_type": "markdown",
   "metadata": {},
   "source": [
    "### Import required libraries"
   ]
  },
  {
   "cell_type": "code",
   "execution_count": 1,
   "metadata": {},
   "outputs": [],
   "source": [
    "import numpy as np\n",
    "import matplotlib.pyplot as plt\n",
    "from CartPole import CartPole\n",
    "from ilqr.dynamics import constrain\n",
    "from copy import deepcopy\n",
    "from EstimateDynamics import local_estimate"
   ]
  },
  {
   "cell_type": "markdown",
   "metadata": {},
   "source": [
    "### Formulate the iLQR problem"
   ]
  },
  {
   "cell_type": "code",
   "execution_count": 2,
   "metadata": {},
   "outputs": [],
   "source": [
    "'''\n",
    "1 - dt = time step\n",
    "2 - N = Number of control points in the trajectory\n",
    "3 - x0 = Initial state\n",
    "4 - x_goal = Final state\n",
    "5 - Q = State cost\n",
    "6 - R = Control cost\n",
    "7 - Q_terminal = Cost at the final step\n",
    "8 - x_dynamics array stores the information regarding system. \n",
    "    x_dynamics[0] = m = mass of the pendulum bob \n",
    "    x_dynamics[1] = M = mass of the cart \n",
    "    x_dynamics[2] = L = length of the massless rod \n",
    "    x_dynamics[3] = g = gravity \n",
    "    x_dynamics[4] = d = damping in the system\n",
    "'''\n",
    "dt = 0.005\n",
    "N = 1000  # Number of time steps in trajectory.\n",
    "x_dynamics = np.array([1, 5, 2, 9.80665, 1]) # m=1, M=5, L=2, g=9.80665, d=1\n",
    "x0 = np.array([-3.0, 0.0, 0.3, 0.0])  # Initial state\n",
    "x_goal = np.array([2.0, 0.0, 0.0, 0.0])\n",
    "# Instantenous state cost.\n",
    "Q = np.eye(5)\n",
    "Q[2, 2] = 10\n",
    "Q[3, 3] = 10\n",
    "Q[4, 4] = 100\n",
    "# Terminal state cost.\n",
    "Q_terminal = 100 * np.eye(5)\n",
    "# Instantaneous control cost.\n",
    "R = np.array([[1.0]])"
   ]
  },
  {
   "cell_type": "markdown",
   "metadata": {},
   "source": [
    "### iLQR on Cart Pole"
   ]
  },
  {
   "cell_type": "code",
   "execution_count": 3,
   "metadata": {
    "scrolled": true
   },
   "outputs": [
    {
     "name": "stdout",
     "output_type": "stream",
     "text": [
      "iteration 0 accepted 334706.633913611 [0.59312647 0.5881243  0.26064005 0.55952552]\n",
      "iteration 1 accepted 330462.31096941134 [ 0.77772084  0.72150554 -0.08889899 -0.14678461]\n",
      "iteration 2 accepted 330053.84179647104 [ 0.85129098  0.68470792 -0.0917076  -0.15024991]\n",
      "iteration 3 accepted 329937.37466701295 [ 0.92850544  0.68096518 -0.09474397 -0.15528894]\n",
      "iteration 4 accepted 329898.3706493255 [ 0.98161155  0.68233024 -0.09623908 -0.15768474]\n",
      "iteration 5 accepted 329884.55939182517 [ 1.01546944  0.6841536  -0.09704419 -0.15894369]\n",
      "iteration 6 accepted 329879.5440526391 [ 1.03655511  0.68557209 -0.0975015  -0.15964768]\n",
      "iteration 7 accepted 329877.698223552 [ 1.0495731   0.68654147 -0.09776923 -0.16005577]\n",
      "iteration 8 accepted 329877.01367716823 [ 1.05757953  0.68717035 -0.09792879 -0.16029747]\n",
      "iteration 9 converged 329876.75866039196 [ 1.0624945   0.68756814 -0.09802491 -0.16044252]\n"
     ]
    }
   ],
   "source": [
    "cartpole_prob = CartPole(dt, N, x_dynamics, x0, x_goal, Q, R, Q_terminal)\n",
    "xs, us = cartpole_prob.run_IterLinQuadReg()"
   ]
  },
  {
   "cell_type": "code",
   "execution_count": 4,
   "metadata": {},
   "outputs": [],
   "source": [
    "# State matrix split into individual states. For plotting and analysing purposes.\n",
    "t = np.arange(N + 1) * dt\n",
    "x = xs[:, 0] # Position\n",
    "x_dot = xs[:, 1] # Velocity\n",
    "theta = np.unwrap(cartpole_prob.deaugment_state(xs)[:, 2])  # Theta, makes for smoother plots.\n",
    "theta_dot = xs[:, 3] # Angular velocity"
   ]
  },
  {
   "cell_type": "markdown",
   "metadata": {},
   "source": [
    "### Simulate the real system and generate the data\n",
    "Cost matrices, initial position and goal position will remain same as the above problem. As it indicates one policy. But still the initial positions and goal positions must be passed explicitly to the function. But you don't need to pass cost matrices (assume penalty on the system is same), this is just used to use to calculate the cost of the trajectory. Correct control action must be passed. Parameter gamma indicates how much of original data you want to keep\n",
    "\n",
    "Variance of the Gaussian noise will be taken as input from a Unif(0, var_range) uniform distribution. Inputs: x_initial, x_goal, u, n_rollouts, pattern='Normal', pattern_rand=False, var_range=10, gamma=0.2, percent=20\n",
    "\n",
    "Pattern controls how the control sequence will be modified after applying white Guassian noise (zero mean).\n",
    "- Normal: based on the correction/mixing parameter gamma generate control (gamma controls how much noise we want).\n",
    "- MissingValue: based on the given percentage, set those many values to zero (it is implicitly it uses \"Normal\" generated control is used). \n",
    "- Shuffle: shuffles the entire \"Normal\" generated control sequence.\n",
    "- TimeDelay: takes the \"Normal\" generated control and shifts it by 1 index i.e. one unit time delay.\n",
    "- Extreme: sets gamma as zeros and generates control based on only noise.\n",
    "\n",
    "If 'pattern_rand' is 'True' then we don't need to send the explicitly, it will chose one randomly for every rollout (default is 'False'). If you want to chose specific pattern then send it explicitly. "
   ]
  },
  {
   "cell_type": "code",
   "execution_count": 5,
   "metadata": {},
   "outputs": [],
   "source": [
    "x_rollout, u_rollout, local_policy, x_gmm, cost = cartpole_prob.gen_rollouts(x0, x_goal, us, n_rollouts=10, pattern_rand=True, var_range=10, gamma=0.2, percent=20)"
   ]
  },
  {
   "cell_type": "markdown",
   "metadata": {},
   "source": [
    "### Local system dynamics/model estimate\n",
    "loca_estimate: function takes the states (arranged in a special format, [x(t), u(t), x(t+1)]), no. of gaussian mixtures and no.of states."
   ]
  },
  {
   "cell_type": "code",
   "execution_count": 6,
   "metadata": {},
   "outputs": [],
   "source": [
    "model = local_estimate(x_gmm, components=5, NoOfstates=5)\n",
    "A, B, C = model.estimate(N=N)"
   ]
  },
  {
   "cell_type": "markdown",
   "metadata": {},
   "source": [
    "### iLQR on estimated model\n",
    "Here system dynamics is specified in a special way. We give the A, B, C matrices as input. These matrices comes from GMM and GPS theory. They are the mean/expected trajectory followed by the states which is represented by the mean & covariance (A, B, C) matrices of a Gaussian. Remaining all properties of the iLQR problem remains the same (cost, initial & goal state, time steps). "
   ]
  },
  {
   "cell_type": "code",
   "execution_count": null,
   "metadata": {},
   "outputs": [],
   "source": [
    "x_traj,u_traj = cartpole_prob.run_IterLinQuadReg_matrix(A, B, C)"
   ]
  },
  {
   "cell_type": "markdown",
   "metadata": {},
   "source": [
    "### Plot"
   ]
  },
  {
   "cell_type": "code",
   "execution_count": null,
   "metadata": {},
   "outputs": [],
   "source": [
    "# Control sequence\n",
    "plt.plot(np.arange(us.shape[0]), us, 'r.', label='Original')\n",
    "plt.plot(np.arange(us.shape[0]), u_rollout[0:N], 'b.', label='Corrupted')\n",
    "plt.plot(np.arange(us.shape[0]), u_traj, 'g.', label='Estimated')\n",
    "plt.xlabel('Time steps')\n",
    "plt.ylabel('U')\n",
    "plt.legend()\n",
    "plt.show()"
   ]
  },
  {
   "cell_type": "code",
   "execution_count": null,
   "metadata": {},
   "outputs": [],
   "source": [
    "plt.plot(np.arange(xs.shape[0]), xs[:, 2], 'r.', label='Original')\n",
    "plt.plot(np.arange(xs.shape[0]), cartpole_prob.deaugment_state(x_rollout)[0:N+1, 2], 'b.', label='Corrupted')\n",
    "plt.plot(np.arange(xs.shape[0]), cartpole_prob.deaugment_state(x_traj)[:, 2], 'g.', label='Estimated')\n",
    "plt.xlabel('Time steps')\n",
    "plt.ylabel('Theta')\n",
    "plt.legend()\n",
    "plt.show()"
   ]
  },
  {
   "cell_type": "code",
   "execution_count": null,
   "metadata": {},
   "outputs": [],
   "source": [
    "plt.plot(np.arange(xs.shape[0]), xs[:, 0], 'r.', label='Original')\n",
    "plt.plot(np.arange(xs.shape[0]), cartpole_prob.deaugment_state(x_rollout)[0:N+1, 0], 'b.', label='Corrupted')\n",
    "plt.plot(np.arange(xs.shape[0]), cartpole_prob.deaugment_state(x_traj)[:, 0], 'g.', label='Estimated')\n",
    "plt.xlabel('Time steps')\n",
    "plt.ylabel('Pos')\n",
    "plt.legend()\n",
    "plt.show()"
   ]
  },
  {
   "cell_type": "markdown",
   "metadata": {},
   "source": [
    "### Mean and Variance "
   ]
  },
  {
   "cell_type": "code",
   "execution_count": 17,
   "metadata": {},
   "outputs": [
    {
     "name": "stdout",
     "output_type": "stream",
     "text": [
      "[[1 2 1 2 3]\n",
      " [3 4 4 5 6]\n",
      " [1 2 1 2 3]\n",
      " [3 4 4 5 6]\n",
      " [5 6 7 8 9]]\n"
     ]
    }
   ],
   "source": [
    "a = np.array([[1, 2], [3, 4]])\n",
    "b = np.array([[1, 2, 3], [4, 5, 6]])\n",
    "c = np.array([[1, 2], [3, 4], [5, 6]])\n",
    "d = np.array([[1, 2, 3], [4, 5, 6], [7, 8, 9]])\n",
    "print(np.block([[a, b], [c, d]]))"
   ]
  }
 ],
 "metadata": {
  "kernelspec": {
   "display_name": "Python 3",
   "language": "python",
   "name": "python3"
  },
  "language_info": {
   "codemirror_mode": {
    "name": "ipython",
    "version": 3
   },
   "file_extension": ".py",
   "mimetype": "text/x-python",
   "name": "python",
   "nbconvert_exporter": "python",
   "pygments_lexer": "ipython3",
   "version": "3.6.7"
  }
 },
 "nbformat": 4,
 "nbformat_minor": 2
}
