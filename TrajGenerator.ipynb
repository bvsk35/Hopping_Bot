{
 "cells": [
  {
   "cell_type": "markdown",
   "metadata": {},
   "source": [
    "### Import required libraries"
   ]
  },
  {
   "cell_type": "code",
   "execution_count": 1,
   "metadata": {},
   "outputs": [],
   "source": [
    "import numpy as np\n",
    "import matplotlib.pyplot as plt\n",
    "from CartPole import CartPole\n",
    "from CartPole_GPS import CartPole_GPS\n",
    "from ilqr.dynamics import constrain\n",
    "from copy import deepcopy\n",
    "from EstimateDynamics import local_estimate"
   ]
  },
  {
   "cell_type": "markdown",
   "metadata": {},
   "source": [
    "### Formulate the iLQR problem"
   ]
  },
  {
   "cell_type": "code",
   "execution_count": 2,
   "metadata": {},
   "outputs": [],
   "source": [
    "'''\n",
    "1 - dt = time step\n",
    "2 - N = Number of control points in the trajectory\n",
    "3 - x0 = Initial state\n",
    "4 - x_goal = Final state\n",
    "5 - Q = State cost\n",
    "6 - R = Control cost\n",
    "7 - Q_terminal = Cost at the final step\n",
    "8 - x_dynamics array stores the information regarding system. \n",
    "    x_dynamics[0] = m = mass of the pendulum bob \n",
    "    x_dynamics[1] = M = mass of the cart \n",
    "    x_dynamics[2] = L = length of the massless rod \n",
    "    x_dynamics[3] = g = gravity \n",
    "    x_dynamics[4] = d = damping in the system\n",
    "'''\n",
    "dt = 0.005\n",
    "N = 500  # Number of time steps in trajectory.\n",
    "x_dynamics = np.array([1, 5, 2, 9.80665, 1]) # m=1, M=5, L=2, g=9.80665, d=1\n",
    "x0 = np.array([-3.0, 0.0, 0.1, 0.0])  # Initial state\n",
    "x_goal = np.array([2.0, 0.0, 0.0, 0.0])\n",
    "# Instantenous state cost.\n",
    "Q = np.eye(5)\n",
    "Q[2, 2] = 10\n",
    "Q[3, 3] = 10\n",
    "Q[4, 4] = 100\n",
    "# Terminal state cost.\n",
    "Q_terminal = 100 * np.eye(5)\n",
    "# Instantaneous control cost.\n",
    "R = np.array([[1.0]])"
   ]
  },
  {
   "cell_type": "markdown",
   "metadata": {},
   "source": [
    "### iLQR on Cart Pole"
   ]
  },
  {
   "cell_type": "code",
   "execution_count": 3,
   "metadata": {
    "scrolled": true
   },
   "outputs": [
    {
     "name": "stdout",
     "output_type": "stream",
     "text": [
      "iteration 0 accepted 721665.7474373202 [7.54851063 0.48632489 0.19374494 4.21301541]\n",
      "iteration 1 accepted 665131.7600970949 [1.94767955 1.33503646 2.9912245  4.48439422]\n",
      "iteration 2 accepted 655860.4649839161 [7.81812795 2.47307106 1.79000883 3.33968554]\n",
      "iteration 3 accepted 630011.4256804134 [ 2.66920372  0.29941602 -0.134569   -0.04770233]\n",
      "iteration 4 accepted 626423.6649000604 [3.69632606 0.25122802 0.46757667 1.2939389 ]\n",
      "iteration 5 accepted 618169.2717320804 [ 2.2109785  -0.14777124 -0.08684245  0.37143337]\n",
      "iteration 6 accepted 614745.7150416166 [ 2.1742186  -0.42281199 -0.20058166  0.21732799]\n",
      "iteration 7 accepted 611568.1909383517 [ 2.28762541 -0.39005038 -0.15198728  0.51485791]\n",
      "iteration 8 accepted 608611.7141859714 [ 2.11716138 -0.4859255  -0.26265114  0.39083614]\n",
      "iteration 9 accepted 606059.932959753 [ 2.27830416 -0.5229117  -0.27815375  0.62772499]\n",
      "iteration 10 accepted 603624.9514343122 [ 2.16520681 -0.58063258 -0.33007885  0.64155818]\n",
      "iteration 11 accepted 601366.0857246467 [ 2.30088253 -0.63299536 -0.39494945  0.88490973]\n",
      "iteration 12 accepted 599152.4929915618 [ 2.23654238 -0.67254157 -0.44122481  0.96072589]\n",
      "iteration 13 accepted 596975.9742322332 [ 2.35345531 -0.72897046 -0.55380705  1.23837027]\n",
      "iteration 14 accepted 594744.7247796761 [ 2.33327686 -0.74801931 -0.63372721  1.38801541]\n",
      "iteration 15 accepted 592384.9027723636 [ 2.43467477 -0.76763434 -0.80127469  1.7214716 ]\n",
      "iteration 16 accepted 589703.9505540375 [ 2.46166428 -0.71980069 -0.98144413  2.02152238]\n",
      "iteration 17 accepted 586370.9872779008 [ 2.54876691 -0.55058348 -1.28636988  2.50574612]\n",
      "iteration 18 accepted 581322.0083127532 [ 2.58619073 -0.02792086 -1.79805042  3.21266765]\n",
      "iteration 19 accepted 569676.7446667139 [ 2.47970881  1.1056351  -3.01759161  4.27704773]\n",
      "iteration 20 accepted 547574.6831095995 [ 4.7159815   0.92188845 -0.3846515  -0.67515095]\n",
      "iteration 21 accepted 542704.4988406427 [ 1.99597404 -0.26212966 -0.1583936  -0.2233341 ]\n",
      "iteration 22 accepted 541178.9411390102 [ 2.22548223 -0.15291981 -0.1157151  -0.12282681]\n",
      "iteration 23 accepted 539778.8044860285 [ 2.25437133 -0.13681401 -0.12279763 -0.11644977]\n",
      "iteration 24 accepted 538429.6593846505 [ 2.21853738 -0.15600006 -0.15080273 -0.14832285]\n",
      "iteration 25 accepted 537162.057135328 [ 2.19371463 -0.17231978 -0.17813652 -0.17558945]\n",
      "iteration 26 accepted 535959.4204949817 [ 2.17107896 -0.18826146 -0.20732215 -0.20275953]\n",
      "iteration 27 accepted 534815.4856224272 [ 2.15080819 -0.20426255 -0.2378654  -0.22851153]\n",
      "iteration 28 accepted 533725.2302950217 [ 2.13264035 -0.22046831 -0.26914889 -0.25132214]\n",
      "iteration 29 accepted 532685.1202717763 [ 2.11672016 -0.23698244 -0.30019342 -0.269035  ]\n",
      "iteration 30 accepted 531692.3319582233 [ 2.10311364 -0.25397763 -0.3299081  -0.27937849]\n",
      "iteration 31 accepted 530744.3700243876 [ 2.0919085  -0.27164921 -0.35720504 -0.28019141]\n",
      "iteration 32 accepted 529838.6579647893 [ 2.08315384 -0.29019717 -0.3812337  -0.2698445 ]\n",
      "iteration 33 accepted 528972.2963287854 [ 2.07684996 -0.30979111 -0.40155918 -0.24751984]\n",
      "iteration 34 accepted 528141.9870450102 [ 2.07293541 -0.33054582 -0.41823445 -0.21327949]\n",
      "iteration 35 accepted 527344.0880520553 [ 2.07129992 -0.35250908 -0.43173285 -0.16788211]\n",
      "iteration 36 accepted 526574.716859694 [ 2.07180545 -0.3756664  -0.44280211 -0.11247528]\n",
      "iteration 37 accepted 525829.8448266234 [ 2.07430911 -0.39995641 -0.45231467 -0.04829703]\n",
      "iteration 38 accepted 525105.3572509487 [ 2.07867944 -0.42528904 -0.46116207  0.02353353]\n",
      "iteration 39 accepted 524397.0742493726 [ 2.08480707 -0.45156026 -0.47020113  0.10213288]\n",
      "iteration 40 accepted 523700.7326090333 [ 2.0926106  -0.47866057 -0.48024046  0.18690357]\n",
      "iteration 41 accepted 523011.9266552225 [ 2.10204007 -0.50647659 -0.49205302  0.27755097]\n",
      "iteration 42 accepted 522326.0020900084 [ 2.11307913 -0.53488522 -0.50640484  0.37408955]\n",
      "iteration 43 accepted 521637.88929738133 [ 2.12574722 -0.56373928 -0.52409589  0.47685557]\n",
      "iteration 44 accepted 520941.8509785614 [ 2.14010212 -0.59284083 -0.54601401  0.58653829]\n",
      "iteration 45 accepted 520231.097485802 [ 2.15624363 -0.62189504 -0.57320835  0.70424311]\n",
      "iteration 46 accepted 519497.1837901499 [ 2.17431804 -0.65042919 -0.60699574  0.83160504]\n",
      "iteration 47 accepted 518729.0228047564 [ 2.19452226 -0.67764539 -0.64912623  0.97098572]\n",
      "iteration 48 accepted 517911.1816165808 [ 2.21710336 -0.70213909 -0.70205944  1.12581689]\n",
      "iteration 49 accepted 517020.7379576363 [ 2.24233967 -0.72132667 -0.76946103  1.30122275]\n",
      "iteration 50 accepted 516020.9834472446 [ 2.2704592  -0.73018834 -0.85717056  1.50522117]\n",
      "iteration 51 accepted 514847.40426849073 [ 2.30134339 -0.71822339 -0.97528765  1.75127111]\n",
      "iteration 52 accepted 513371.66770313523 [ 2.33342095 -0.66106528 -1.14330971  2.06444914]\n",
      "iteration 53 accepted 511287.6167998839 [ 2.35891675 -0.49305625 -1.40546838  2.499619  ]\n",
      "iteration 54 accepted 507600.75992816244 [ 2.33713456e+00  1.27937484e-03 -1.89310890e+00  3.20925830e+00]\n",
      "iteration 55 accepted 496158.85581023537 [2.01851919 0.92536103 3.04485595 4.19724819]\n",
      "iteration 56 accepted 481193.8932832513 [ 3.92571478  0.54176452 -1.43765865 -2.5212718 ]\n",
      "iteration 57 accepted 475310.0193580743 [ 1.62511368 -0.57578173  0.14849738  0.33969691]\n",
      "iteration 58 accepted 474314.2437593401 [ 2.18013236 -0.12603128 -0.05696829 -0.08371773]\n",
      "iteration 59 accepted 473496.6146547621 [ 2.13817628 -0.1464939  -0.06871248 -0.10281603]\n",
      "iteration 60 accepted 472715.381109099 [ 2.11989603 -0.15523696 -0.07862958 -0.11774611]\n",
      "iteration 61 accepted 471960.9591775478 [ 2.11028893 -0.16042277 -0.0881859  -0.13137199]\n",
      "iteration 62 accepted 471226.66514345864 [ 2.10190946 -0.16491453 -0.09827306 -0.14547637]\n",
      "iteration 63 accepted 470509.855265719 [ 2.09457576 -0.16890377 -0.10893792 -0.16010108]\n",
      "iteration 64 accepted 469808.4942017844 [ 2.08793557 -0.17255306 -0.12026025 -0.17534612]\n",
      "iteration 65 accepted 469121.0053979168 [ 2.08183274 -0.17594714 -0.13229311 -0.19125124]\n",
      "iteration 66 accepted 468446.0832576133 [ 2.07615886 -0.17914809 -0.14508454 -0.20783887]\n",
      "iteration 67 accepted 467782.62307766546 [ 2.07083897 -0.182206   -0.15867785 -0.22511394]\n",
      "iteration 68 accepted 467129.67594904907 [ 2.06581753 -0.1851659  -0.17311205 -0.24306421]\n",
      "iteration 69 accepted 466486.42231067026 [ 2.06105325 -0.18807105 -0.18842036 -0.26165667]\n",
      "iteration 70 accepted 465852.1566229505 [ 2.05651552 -0.19096543 -0.20462782 -0.28083237]\n",
      "iteration 71 accepted 465226.2805651136 [ 2.05218216 -0.19389576 -0.22174773 -0.30049912]\n",
      "iteration 72 accepted 464608.303081313 [ 2.04803794 -0.19691327 -0.23977674 -0.32052231]\n",
      "iteration 73 accepted 463997.8461802204 [ 2.04407354 -0.2000752  -0.25868851 -0.34071343]\n",
      "iteration 74 accepted 463394.6553978668 [ 2.040285   -0.20344612 -0.27842578 -0.36081691]\n",
      "iteration 75 accepted 462798.6133962465 [ 2.0366736  -0.20709875 -0.2988912  -0.38049595]\n",
      "iteration 76 accepted 462209.7542748006 [ 2.03324611 -0.21111416 -0.31993758 -0.39931927]\n",
      "iteration 77 accepted 461628.27489950706 [ 2.03001569 -0.21558079 -0.34135912 -0.41675187]\n",
      "iteration 78 accepted 461054.5381973525 [ 2.02700304 -0.22059214 -0.36288621 -0.4321546 ]\n",
      "iteration 79 accepted 460489.0625572493 [ 2.02423775 -0.22624283 -0.38418725 -0.4447982 ]\n",
      "iteration 80 accepted 459932.4921741389 [ 2.02175905 -0.23262318 -0.40488128 -0.45389716]\n",
      "iteration 81 accepted 459385.54625367804 [ 2.01961534 -0.239813   -0.42456401 -0.45866552]\n",
      "iteration 82 accepted 458848.9504695713 [ 2.0178616  -0.24787557 -0.44284621 -0.45839022]\n",
      "iteration 83 accepted 458323.360303589 [ 2.01655477 -0.25685304 -0.45939871 -0.45250884]\n",
      "iteration 84 accepted 457809.28988773894 [ 2.01574783 -0.26676397 -0.47399334 -0.44067303]\n",
      "iteration 85 accepted 457307.05914054794 [ 2.0154843  -0.27760357 -0.48652911 -0.42277956]\n",
      "iteration 86 accepted 456816.7664097759 [ 2.01579454 -0.28934614 -0.49703657 -0.39896078]\n",
      "iteration 87 accepted 456338.28643934417 [ 2.01669482 -0.30194934 -0.5056617  -0.36953984]\n",
      "iteration 88 accepted 455871.28781110694 [ 2.01818874 -0.31535928 -0.51263643 -0.33496603]\n",
      "iteration 89 accepted 455415.2617639115 [ 2.02027033 -0.32951576 -0.51824551 -0.29574767]\n",
      "iteration 90 accepted 454969.5549160091 [ 2.02292754 -0.34435688 -0.5227971  -0.25239526]\n",
      "iteration 91 accepted 454533.4004130826 [ 2.0261456  -0.35982267 -0.5266011  -0.20538044]\n"
     ]
    },
    {
     "name": "stdout",
     "output_type": "stream",
     "text": [
      "iteration 92 accepted 454105.9441669732 [ 2.0299098  -0.3758577  -0.52995579 -0.15511045]\n",
      "iteration 93 accepted 453686.2645436086 [ 2.03420759 -0.39241259 -0.53314141 -0.10191507]\n",
      "iteration 94 accepted 453273.3849596563 [ 2.03903004 -0.40944469 -0.53641907 -0.04604189]\n",
      "iteration 95 accepted 452866.27942017245 [ 2.04437285 -0.42691808 -0.54003306  0.01234369]\n",
      "iteration 96 accepted 452463.87119103293 [ 2.05023714 -0.44480297 -0.5442155   0.07315639]\n",
      "iteration 97 accepted 452065.02465565514 [ 2.05662992 -0.46307469 -0.54919236  0.13638899]\n",
      "iteration 98 accepted 451668.5300198994 [ 2.06356464 -0.48171212 -0.55519065  0.20211162]\n",
      "iteration 99 accepted 451273.0799131597 [ 2.07106175 -0.50069566 -0.56244658  0.27047349]\n"
     ]
    }
   ],
   "source": [
    "cartpole_prob = CartPole(dt, N, x_dynamics, x0, x_goal, Q, R, Q_terminal)\n",
    "xs, us = cartpole_prob.run_IterLinQuadReg()"
   ]
  },
  {
   "cell_type": "code",
   "execution_count": null,
   "metadata": {},
   "outputs": [],
   "source": [
    "# State matrix split into individual states. For plotting and analysing purposes.\n",
    "t = np.arange(N + 1) * dt\n",
    "x = xs[:, 0] # Position\n",
    "x_dot = xs[:, 1] # Velocity\n",
    "theta = np.unwrap(cartpole_prob.deaugment_state(xs)[:, 2])  # Theta, makes for smoother plots.\n",
    "theta_dot = xs[:, 3] # Angular velocity"
   ]
  },
  {
   "cell_type": "markdown",
   "metadata": {},
   "source": [
    "### Simulate the real system and generate the data\n",
    "Cost matrices, initial position and goal position will remain same as the above problem. As it indicates one policy. But still the initial positions and goal positions must be passed explicitly to the function. But you don't need to pass cost matrices (assume penalty on the system is same), this is just used to use to calculate the cost of the trajectory. Correct control action must be passed. Parameter gamma indicates how much of original data you want to keep\n",
    "\n",
    "Variance of the Gaussian noise will be taken as input from a Unif(0, var_range) uniform distribution. Inputs: x_initial, x_goal, u, n_rollouts, pattern='Normal', pattern_rand=False, var_range=10, gamma=0.2, percent=20\n",
    "\n",
    "Pattern controls how the control sequence will be modified after applying white Guassian noise (zero mean).\n",
    "- Normal: based on the correction/mixing parameter gamma generate control (gamma controls how much noise we want).\n",
    "- MissingValue: based on the given percentage, set those many values to zero (it is implicitly it uses \"Normal\" generated control is used). \n",
    "- Shuffle: shuffles the entire \"Normal\" generated control sequence.\n",
    "- TimeDelay: takes the \"Normal\" generated control and shifts it by 1 index i.e. one unit time delay.\n",
    "- Extreme: sets gamma as zeros and generates control based on only noise.\n",
    "\n",
    "If 'pattern_rand' is 'True' then we don't need to send the explicitly, it will chose one randomly for every rollout (default is 'False'). If you want to chose specific pattern then send it explicitly. "
   ]
  },
  {
   "cell_type": "code",
   "execution_count": null,
   "metadata": {},
   "outputs": [],
   "source": [
    "x_rollout, u_rollout, local_policy, x_gmm, cost = cartpole_prob.gen_rollouts(x0, x_goal, us, n_rollouts=10, pattern_rand=True, var_range=10, gamma=0.2, percent=20)"
   ]
  },
  {
   "cell_type": "markdown",
   "metadata": {},
   "source": [
    "### Local system dynamics/model estimate\n",
    "loca_estimate: function takes the states (arranged in a special format, [x(t), u(t), x(t+1)]), no. of gaussian mixtures and no.of states."
   ]
  },
  {
   "cell_type": "code",
   "execution_count": null,
   "metadata": {},
   "outputs": [],
   "source": [
    "model = local_estimate(x_gmm, components=5, NoOfstates=5)\n",
    "A, B, C = model.estimate(N=N)"
   ]
  },
  {
   "cell_type": "markdown",
   "metadata": {},
   "source": [
    "### iLQR on estimated model\n",
    "Here system dynamics is specified in a special way. We give the A, B, C matrices as input. These matrices comes from GMM and GPS theory. They are the mean/expected trajectory followed by the states which is represented by the mean & covariance (A, B, C) matrices of a Gaussian. Remaining all properties of the iLQR problem remains the same (cost, initial & goal state, time steps). "
   ]
  },
  {
   "cell_type": "code",
   "execution_count": null,
   "metadata": {},
   "outputs": [],
   "source": [
    "x_traj,u_traj = cartpole_prob.run_IterLinQuadReg_matrix(A, B, C)"
   ]
  },
  {
   "cell_type": "markdown",
   "metadata": {},
   "source": [
    "### Plot"
   ]
  },
  {
   "cell_type": "code",
   "execution_count": null,
   "metadata": {},
   "outputs": [],
   "source": [
    "# Control sequence\n",
    "plt.plot(np.arange(us.shape[0]), us, 'r.', label='Original')\n",
    "plt.plot(np.arange(us.shape[0]), u_rollout[0:N], 'b.', label='Corrupted')\n",
    "plt.plot(np.arange(us.shape[0]), u_traj, 'g.', label='Estimated')\n",
    "plt.xlabel('Time steps')\n",
    "plt.ylabel('U')\n",
    "plt.legend()\n",
    "plt.show()"
   ]
  },
  {
   "cell_type": "code",
   "execution_count": null,
   "metadata": {},
   "outputs": [],
   "source": [
    "plt.plot(np.arange(xs.shape[0]), xs[:, 2], 'r.', label='Original')\n",
    "plt.plot(np.arange(xs.shape[0]), cartpole_prob.deaugment_state(x_rollout)[0:N+1, 2], 'b.', label='Corrupted')\n",
    "plt.plot(np.arange(xs.shape[0]), cartpole_prob.deaugment_state(x_traj)[:, 2], 'g.', label='Estimated')\n",
    "plt.xlabel('Time steps')\n",
    "plt.ylabel('Theta')\n",
    "plt.legend()\n",
    "plt.show()"
   ]
  },
  {
   "cell_type": "code",
   "execution_count": null,
   "metadata": {},
   "outputs": [],
   "source": [
    "plt.plot(np.arange(xs.shape[0]), xs[:, 0], 'r.', label='Original')\n",
    "plt.plot(np.arange(xs.shape[0]), cartpole_prob.deaugment_state(x_rollout)[0:N+1, 0], 'b.', label='Corrupted')\n",
    "plt.plot(np.arange(xs.shape[0]), cartpole_prob.deaugment_state(x_traj)[:, 0], 'g.', label='Estimated')\n",
    "plt.xlabel('Time steps')\n",
    "plt.ylabel('Pos')\n",
    "plt.legend()\n",
    "plt.show()"
   ]
  },
  {
   "cell_type": "markdown",
   "metadata": {},
   "source": [
    "### Mean and Variance "
   ]
  },
  {
   "cell_type": "code",
   "execution_count": null,
   "metadata": {},
   "outputs": [],
   "source": [
    "a = np.array([[1, 2], [3, 4]])\n",
    "b = np.array([[1, 2, 3], [4, 5, 6]])\n",
    "c = np.array([[1, 2], [3, 4], [5, 6]])\n",
    "d = np.array([[1, 2, 3], [4, 5, 6], [7, 8, 9]])\n",
    "print(np.block([[a, b], [c, d]]))"
   ]
  }
 ],
 "metadata": {
  "kernelspec": {
   "display_name": "Python 3",
   "language": "python",
   "name": "python3"
  },
  "language_info": {
   "codemirror_mode": {
    "name": "ipython",
    "version": 3
   },
   "file_extension": ".py",
   "mimetype": "text/x-python",
   "name": "python",
   "nbconvert_exporter": "python",
   "pygments_lexer": "ipython3",
   "version": "3.6.7"
  }
 },
 "nbformat": 4,
 "nbformat_minor": 2
}
