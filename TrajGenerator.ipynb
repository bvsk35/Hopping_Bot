{
 "cells": [
  {
   "cell_type": "markdown",
   "metadata": {},
   "source": [
    "### Import required libraries"
   ]
  },
  {
   "cell_type": "code",
   "execution_count": 1,
   "metadata": {},
   "outputs": [],
   "source": [
    "import numpy as np\n",
    "import matplotlib.pyplot as plt\n",
    "from CartPole import CartPole\n",
    "from ilqr.dynamics import constrain\n",
    "from copy import deepcopy\n",
    "from EstimateDynamics import local_estimate"
   ]
  },
  {
   "cell_type": "markdown",
   "metadata": {},
   "source": [
    "### Formulate the iLQR problem"
   ]
  },
  {
   "cell_type": "code",
   "execution_count": 2,
   "metadata": {},
   "outputs": [],
   "source": [
    "'''\n",
    "1 - dt = time step\n",
    "2 - N = Number of control points in the trajectory\n",
    "3 - x0 = Initial state\n",
    "4 - x_goal = Final state\n",
    "5 - Q = State cost\n",
    "6 - R = Control cost\n",
    "7 - Q_terminal = Cost at the final step\n",
    "8 - x_dynamics array stores the information regarding system. \n",
    "    x_dynamics[0] = m = mass of the pendulum bob \n",
    "    x_dynamics[1] = M = mass of the cart \n",
    "    x_dynamics[2] = L = length of the massless rod \n",
    "    x_dynamics[3] = g = gravity \n",
    "    x_dynamics[4] = d = damping in the system\n",
    "'''\n",
    "dt = 0.005\n",
    "N = 600  # Number of time steps in trajectory.\n",
    "x_dynamics = np.array([1, 5, 2, 9.80665, 1]) # m=1, M=5, L=2, g=9.80665, d=1\n",
    "x0 = np.array([-3.0, 0.0, 0.1, 0.0])  # Initial state\n",
    "x_goal = np.array([2.0, 0.0, 0.0, 0.0])\n",
    "# Instantenous state cost.\n",
    "Q = np.eye(5)\n",
    "Q[2, 2] = 10\n",
    "Q[3, 3] = 10\n",
    "Q[4, 4] = 100\n",
    "# Terminal state cost.\n",
    "Q_terminal = 100 * np.eye(5)\n",
    "# Instantaneous control cost.\n",
    "R = np.array([[1.0]])"
   ]
  },
  {
   "cell_type": "markdown",
   "metadata": {},
   "source": [
    "### iLQR on Cart Pole"
   ]
  },
  {
   "cell_type": "code",
   "execution_count": 3,
   "metadata": {},
   "outputs": [
    {
     "name": "stdout",
     "output_type": "stream",
     "text": [
      "iteration 0 accepted 305232.71465742035 [-1.60304796 -0.15936128 -1.24843188  1.63061614]\n",
      "iteration 1 accepted 300303.6318199074 [-1.33210752 -0.02140117 -1.29115495  1.7029531 ]\n",
      "iteration 2 accepted 295013.50103270594 [-1.10732322  0.09825543 -1.43357178  2.00219513]\n",
      "iteration 3 accepted 286293.80371809454 [-0.79725869  0.37762753 -1.61756672  2.35189357]\n",
      "iteration 4 accepted 266779.2460641228 [-0.48733429  0.90969111 -1.98541407  2.95793363]\n",
      "iteration 5 accepted 185419.19997099612 [-0.35241988  2.1529778  -3.11480635  4.02623444]\n",
      "iteration 6 accepted 82535.44885153562 [ 0.26391163  1.06911512 -1.81699514 -3.05576597]\n",
      "iteration 7 accepted 24321.598902187583 [-0.68514415  0.67766832  0.57968475  1.14175305]\n",
      "iteration 8 accepted 17664.597671026935 [-0.38587182  1.05923331 -0.00871309 -0.02328379]\n",
      "iteration 9 accepted 17647.73614241439 [-0.40009085  1.0381707   0.01921391  0.0338444 ]\n",
      "iteration 10 converged 17647.736142358415 [-0.40009098  1.03817049  0.01921548  0.03384748]\n"
     ]
    }
   ],
   "source": [
    "cartpole_prob = CartPole(dt, N, x_dynamics, x0, x_goal, Q, R, Q_terminal)\n",
    "xs, us = cartpole_prob.run_IterLinQuadReg()"
   ]
  },
  {
   "cell_type": "code",
   "execution_count": 4,
   "metadata": {},
   "outputs": [],
   "source": [
    "# State matrix split into individual states. For plotting and analysing purposes.\n",
    "t = np.arange(N + 1) * dt\n",
    "x = xs[:, 0] # Position\n",
    "x_dot = xs[:, 1] # Velocity\n",
    "theta = np.unwrap(cartpole_prob.deaugment_state(xs)[:, 2])  # Theta, makes for smoother plots.\n",
    "theta_dot = xs[:, 3] # Angular velocity"
   ]
  },
  {
   "cell_type": "markdown",
   "metadata": {},
   "source": [
    "### Simulate the real system and generate the data\n",
    "Cost matrices, initial position and goal position will remain same as the above problem. As it indicates one policy. But still the initial positions and goal positions must be passed explicitly to the function. But you don't need to pass cost matrices (assume penalty on the system is same), this is just used to use to calculate the cost of the trajectory. Correct control action must be passed. Parameter gamma indicates how much of original data you want to keep\n",
    "\n",
    "Variance of the Gaussian noise will be taken as input from a Unif(0, var_range) uniform distribution. Inputs: x_initial, x_goal, u, n_rollouts, pattern='Normal', pattern_rand=False, var_range=10, gamma=0.2, percent=20\n",
    "\n",
    "Pattern controls how the control sequence will be modified after applying white Guassian noise (zero mean).\n",
    "- Normal: based on the correction/mixing parameter gamma generate control (gamma controls how much noise we want).\n",
    "- MissingValue: based on the given percentage, set those many values to zero (it is implicitly it uses \"Normal\" generated control is used). \n",
    "- Shuffle: shuffles the entire \"Normal\" generated control sequence.\n",
    "- TimeDelay: takes the \"Normal\" generated control and shifts it by 1 index i.e. one unit time delay.\n",
    "- Extreme: sets gamma as zeros and generates control based on only noise.\n",
    "\n",
    "If 'pattern_rand' is 'True' then we don't need to send the explicitly, it will chose one randomly for every rollout (default is 'False'). If you want to chose specific pattern then send it explicitly. "
   ]
  },
  {
   "cell_type": "code",
   "execution_count": 5,
   "metadata": {},
   "outputs": [],
   "source": [
    "x_rollout, u_rollout, x_gmm, cost = cartpole_prob.gen_rollouts(x0, x_goal, us, n_rollouts=10, pattern_rand=True, \n",
    "                                                               var_range=10, gamma=0.2, percent=20)"
   ]
  },
  {
   "cell_type": "markdown",
   "metadata": {},
   "source": [
    "### Local system dynamics/model estimate\n",
    "loca_estimate: function takes the states (arranged in a special format, [x(t), u(t), x(t+1)]), no. of gaussian mixtures and no.of states."
   ]
  },
  {
   "cell_type": "code",
   "execution_count": 6,
   "metadata": {},
   "outputs": [],
   "source": [
    "model = local_estimate(x_gmm, components=5, NoOfstates=5)\n",
    "A, B, C = model.estimate(N=N)"
   ]
  },
  {
   "cell_type": "markdown",
   "metadata": {},
   "source": [
    "### iLQR on estimated model\n",
    "Here system dynamics is specified in a special way. We give the A, B, C matrices as input. These matrices comes from GMM and GPS theory. They are the mean/expected trajectory followed by the states which is represented by the mean & covariance (A, B, C) matrices of a Gaussian. Remaining all properties of the iLQR problem remains the same (cost, initial & goal state, time steps). "
   ]
  },
  {
   "cell_type": "code",
   "execution_count": 7,
   "metadata": {},
   "outputs": [
    {
     "name": "stdout",
     "output_type": "stream",
     "text": [
      "iteration 0 accepted 325161.4803715129 [-1.8070363  -0.12380499 -0.95438123  1.82126156]\n",
      "iteration 1 accepted 324018.70348892396 [-1.74309857 -0.08051638 -1.00744335  1.92752853]\n",
      "iteration 2 accepted 323085.2641021594 [-1.68626108 -0.03368128 -1.05969288  2.02684713]\n",
      "iteration 3 accepted 322192.39595237304 [-1.63494277  0.01703374 -1.11442222  2.12704366]\n",
      "iteration 4 accepted 321202.68691189657 [-1.58569044  0.07531908 -1.17603004  2.23581988]\n",
      "iteration 5 accepted 319927.88253202924 [-1.53597957  0.14694521 -1.25106371  2.3632785 ]\n",
      "iteration 6 accepted 317988.5325113506 [-1.48403649  0.24209468 -1.35139822  2.52600163]\n",
      "iteration 7 accepted 314376.1018007247 [-1.43031378  0.38073767 -1.50295961  2.7564032 ]\n",
      "iteration 8 accepted 305507.97008598864 [-1.38668109  0.60419917 -1.77707027  3.12765369]\n",
      "iteration 9 accepted 272050.19517888746 [-1.43998469  0.94454701 -2.45616095  3.77916606]\n",
      "iteration 10 accepted 107018.40632742574 [-2.08306678 -0.27056741  1.0657891   2.02038232]\n",
      "iteration 11 accepted 92320.48216643272 [-2.17321194 -0.81961675  0.19393372  0.36402237]\n",
      "iteration 12 accepted 92309.84453003663 [-2.17200245 -0.81260145  0.21596629  0.40846527]\n",
      "iteration 13 converged 92309.84174039998 [-2.17196323 -0.81243775  0.21632477  0.40918547]\n"
     ]
    }
   ],
   "source": [
    "x_traj,u_traj = cartpole_prob.run_IterLinQuadReg_matrix(A, B, C)"
   ]
  },
  {
   "cell_type": "markdown",
   "metadata": {},
   "source": [
    "### Plot"
   ]
  },
  {
   "cell_type": "code",
   "execution_count": 8,
   "metadata": {},
   "outputs": [
    {
     "data": {
      "image/png": "[encoded data removed]",
      "text/plain": [
       "<Figure size 432x288 with 1 Axes>"
      ]
     },
     "metadata": {
      "needs_background": "light"
     },
     "output_type": "display_data"
    }
   ],
   "source": [
    "# Control sequence\n",
    "plt.plot(np.arange(us.shape[0]), us, 'r.', label='Original')\n",
    "plt.plot(np.arange(us.shape[0]), u_rollout[0:N], 'b.', label='Corrupted')\n",
    "plt.plot(np.arange(us.shape[0]), u_traj, 'g.', label='Estimated')\n",
    "plt.xlabel('Time steps')\n",
    "plt.ylabel('U')\n",
    "plt.legend()\n",
    "plt.show()"
   ]
  },
  {
   "cell_type": "code",
   "execution_count": 9,
   "metadata": {},
   "outputs": [
    {
     "data": {
      "image/png": "[encoded data removed]",
      "text/plain": [
       "<Figure size 432x288 with 1 Axes>"
      ]
     },
     "metadata": {
      "needs_background": "light"
     },
     "output_type": "display_data"
    }
   ],
   "source": [
    "plt.plot(np.arange(xs.shape[0]), xs[:, 2], 'r.', label='Original')\n",
    "plt.plot(np.arange(xs.shape[0]), cartpole_prob.deaugment_state(x_rollout)[0:N+1, 2], 'b.', label='Corrupted')\n",
    "plt.plot(np.arange(xs.shape[0]), cartpole_prob.deaugment_state(x_traj)[:, 2], 'g.', label='Estimated')\n",
    "plt.xlabel('Time steps')\n",
    "plt.ylabel('Theta')\n",
    "plt.legend()\n",
    "plt.show()"
   ]
  },
  {
   "cell_type": "code",
   "execution_count": 10,
   "metadata": {},
   "outputs": [
    {
     "data": {
      "image/png": "[encoded data removed]",
      "text/plain": [
       "<Figure size 432x288 with 1 Axes>"
      ]
     },
     "metadata": {
      "needs_background": "light"
     },
     "output_type": "display_data"
    }
   ],
   "source": [
    "plt.plot(np.arange(xs.shape[0]), xs[:, 0], 'r.', label='Original')\n",
    "plt.plot(np.arange(xs.shape[0]), cartpole_prob.deaugment_state(x_rollout)[0:N+1, 0], 'b.', label='Corrupted')\n",
    "plt.plot(np.arange(xs.shape[0]), cartpole_prob.deaugment_state(x_traj)[:, 0], 'g.', label='Estimated')\n",
    "plt.xlabel('Time steps')\n",
    "plt.ylabel('Pos')\n",
    "plt.legend()\n",
    "plt.show()"
   ]
  }
 ],
 "metadata": {
  "kernelspec": {
   "display_name": "Python 3",
   "language": "python",
   "name": "python3"
  },
  "language_info": {
   "codemirror_mode": {
    "name": "ipython",
    "version": 3
   },
   "file_extension": ".py",
   "mimetype": "text/x-python",
   "name": "python",
   "nbconvert_exporter": "python",
   "pygments_lexer": "ipython3",
   "version": "3.7.0"
  }
 },
 "nbformat": 4,
 "nbformat_minor": 2
}
