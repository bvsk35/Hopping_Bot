{
 "cells": [
  {
   "cell_type": "markdown",
   "metadata": {},
   "source": [
    "### Import required libraries"
   ]
  },
  {
   "cell_type": "code",
   "execution_count": 1,
   "metadata": {},
   "outputs": [],
   "source": [
    "import numpy as np\n",
    "import matplotlib.pyplot as plt\n",
    "from CartPole import CartPole\n",
    "from CartPole_GPS import CartPole_GPS\n",
    "from ilqr.dynamics import constrain\n",
    "from copy import deepcopy\n",
    "from EstimateDynamics import local_estimate"
   ]
  },
  {
   "cell_type": "markdown",
   "metadata": {},
   "source": [
    "### Formulate the iLQR problem"
   ]
  },
  {
   "cell_type": "code",
   "execution_count": 2,
   "metadata": {},
   "outputs": [],
   "source": [
    "'''\n",
    "1 - dt = time step\n",
    "2 - N = Number of control points in the trajectory\n",
    "3 - x0 = Initial state\n",
    "4 - x_goal = Final state\n",
    "5 - Q = State cost\n",
    "6 - R = Control cost\n",
    "7 - Q_terminal = Cost at the final step\n",
    "8 - x_dynamics array stores the information regarding system. \n",
    "    x_dynamics[0] = m = mass of the pendulum bob \n",
    "    x_dynamics[1] = M = mass of the cart \n",
    "    x_dynamics[2] = L = length of the massless rod \n",
    "    x_dynamics[3] = g = gravity \n",
    "    x_dynamics[4] = d = damping in the system\n",
    "'''\n",
    "dt = 0.005\n",
    "N = 500  # Number of time steps in trajectory.\n",
    "x_dynamics = np.array([1, 5, 2, 9.80665, 1]) # m=1, M=5, L=2, g=9.80665, d=1\n",
    "x0 = np.array([-3.0, 0.0, 0.1, 0.0])  # Initial state\n",
    "x_goal = np.array([2.0, 0.0, 0.0, 0.0])\n",
    "# Instantenous state cost.\n",
    "Q = np.eye(5)\n",
    "Q[2, 2] = 10\n",
    "Q[3, 3] = 10\n",
    "Q[4, 4] = 100\n",
    "# Terminal state cost.\n",
    "Q_terminal = 100 * np.eye(5)\n",
    "# Instantaneous control cost.\n",
    "R = np.array([[1.0]])"
   ]
  },
  {
   "cell_type": "markdown",
   "metadata": {},
   "source": [
    "### iLQR on Cart Pole"
   ]
  },
  {
   "cell_type": "code",
   "execution_count": 3,
   "metadata": {
    "scrolled": true
   },
   "outputs": [
    {
     "name": "stdout",
     "output_type": "stream",
     "text": [
      "iteration 0 accepted 99438.53936681002 [-1.56740375  1.20946014  2.10142454  3.39517738]\n",
      "iteration 1 accepted 29909.637857559865 [-0.53271629  1.46840837 -0.73115037 -1.43574773]\n",
      "iteration 2 accepted 17144.635957301456 [-1.02135014  0.92660747  0.10805916  0.20732411]\n",
      "iteration 3 accepted 17061.01057168991 [-0.98425654  0.97680627  0.04605851  0.08055668]\n",
      "iteration 4 converged 17061.010557139445 [-0.98427663  0.9767822   0.04608314  0.08060683]\n"
     ]
    }
   ],
   "source": [
    "cartpole_prob = CartPole(dt, N, x_dynamics, x0, x_goal, Q, R, Q_terminal)\n",
    "xs, us = cartpole_prob.run_IterLinQuadReg()"
   ]
  },
  {
   "cell_type": "code",
   "execution_count": 4,
   "metadata": {},
   "outputs": [],
   "source": [
    "# State matrix split into individual states. For plotting and analysing purposes.\n",
    "t = np.arange(N + 1) * dt\n",
    "x = xs[:, 0] # Position\n",
    "x_dot = xs[:, 1] # Velocity\n",
    "theta = np.unwrap(cartpole_prob.deaugment_state(xs)[:, 2])  # Theta, makes for smoother plots.\n",
    "theta_dot = xs[:, 3] # Angular velocity"
   ]
  },
  {
   "cell_type": "markdown",
   "metadata": {},
   "source": [
    "### Simulate the real system and generate the data\n",
    "Cost matrices, initial position and goal position will remain same as the above problem. As it indicates one policy. But still the initial positions and goal positions must be passed explicitly to the function. But you don't need to pass cost matrices (assume penalty on the system is same), this is just used to use to calculate the cost of the trajectory. Correct control action must be passed. Parameter gamma indicates how much of original data you want to keep\n",
    "\n",
    "Variance of the Gaussian noise will be taken as input from a Unif(0, var_range) uniform distribution. Inputs: x_initial, x_goal, u, n_rollouts, pattern='Normal', pattern_rand=False, var_range=10, gamma=0.2, percent=20\n",
    "\n",
    "Pattern controls how the control sequence will be modified after applying white Guassian noise (zero mean).\n",
    "- Normal: based on the correction/mixing parameter gamma generate control (gamma controls how much noise we want).\n",
    "- MissingValue: based on the given percentage, set those many values to zero (it is implicitly it uses \"Normal\" generated control is used). \n",
    "- Shuffle: shuffles the entire \"Normal\" generated control sequence.\n",
    "- TimeDelay: takes the \"Normal\" generated control and shifts it by 1 index i.e. one unit time delay.\n",
    "- Extreme: sets gamma as zeros and generates control based on only noise.\n",
    "\n",
    "If 'pattern_rand' is 'True' then we don't need to send the explicitly, it will chose one randomly for every rollout (default is 'False'). If you want to chose specific pattern then send it explicitly. "
   ]
  },
  {
   "cell_type": "code",
   "execution_count": 5,
   "metadata": {},
   "outputs": [],
   "source": [
    "# pattern_rand=True,\n",
    "x_rollout, u_rollout, local_policy, x_gmm, cost = cartpole_prob.gen_rollouts(x0, x_goal, us, n_rollouts=10, var_range=10, gamma=0.2, percent=20)"
   ]
  },
  {
   "cell_type": "markdown",
   "metadata": {},
   "source": [
    "### Local system dynamics/model estimate\n",
    "loca_estimate: function takes the states (arranged in a special format, [x(t), u(t), x(t+1)]), no. of gaussian mixtures and no.of states."
   ]
  },
  {
   "cell_type": "code",
   "execution_count": 6,
   "metadata": {},
   "outputs": [],
   "source": [
    "model = local_estimate(x_gmm, components=5, NoOfstates=5)\n",
    "A, B, C = model.estimate(N=N)"
   ]
  },
  {
   "cell_type": "markdown",
   "metadata": {},
   "source": [
    "### GPS"
   ]
  },
  {
   "cell_type": "code",
   "execution_count": 7,
   "metadata": {},
   "outputs": [],
   "source": [
    "'''\n",
    "1 - dt = time step\n",
    "2 - N = Number of control points in the trajectory\n",
    "3 - x0 = Initial state\n",
    "4 - x_goal = Final state\n",
    "5 - Q = State cost\n",
    "6 - R = Control cost\n",
    "7 - Q_terminal = Cost at the final step\n",
    "8 - x_dynamics array stores the information regarding system. \n",
    "    x_dynamics[0] = m = mass of the pendulum bob \n",
    "    x_dynamics[1] = M = mass of the cart \n",
    "    x_dynamics[2] = L = length of the massless rod \n",
    "    x_dynamics[3] = g = gravity \n",
    "    x_dynamics[4] = d = damping in the system\n",
    "'''\n",
    "dt = 0.005\n",
    "N = 500  # Number of time steps in trajectory.\n",
    "x_dynamics = np.array([1, 5, 2, 9.80665, 1]) # m=1, M=5, L=2, g=9.80665, d=1\n",
    "x0 = np.array([-3.0, 0.0, 0.1, 0.0, 0.0])  # Initial state\n",
    "x_goal = np.array([2.0, 0.0, 0.0, 0.0, 0.0])\n",
    "# Instantenous Quad cost.\n",
    "Q = np.eye(6)\n",
    "Q[2, 2] = 10\n",
    "Q[3, 3] = 10\n",
    "Q[4, 4] = 100\n",
    "Q[5, 5] = 10\n",
    "# Terminal state cost.\n",
    "Q_terminal = 100 * np.eye(6)\n",
    "# Instantaneous Linear cost.\n",
    "R = np.full((6, 1), 1)"
   ]
  },
  {
   "cell_type": "code",
   "execution_count": 8,
   "metadata": {},
   "outputs": [
    {
     "name": "stdout",
     "output_type": "stream",
     "text": [
      "Doing Log search\n",
      "New eta  10.0\n",
      "iteration 0 accepted [64440.34900768] [-1.26816174 -1.26816174 -2.35619449 -1.26816174 -1.26816174]  Eta  10.0\n",
      "iteration 1 failed nan [nan nan nan nan  0.]  Eta  10.0\n",
      "iteration 2 failed nan [nan nan nan nan  0.]  Eta  10.0\n",
      "iteration 3 failed nan [nan nan nan nan  0.]  Eta  10.0\n",
      "iteration 4 failed nan [nan nan nan nan  0.]  Eta  10.0\n",
      "iteration 5 failed nan [nan nan nan nan  0.]  Eta  10.0\n",
      "iteration 6 failed nan [nan nan nan nan  0.]  Eta  10.0\n",
      "iteration 7 failed nan [nan nan nan nan  0.]  Eta  10.0\n"
     ]
    },
    {
     "name": "stderr",
     "output_type": "stream",
     "text": [
      "/usr/local/lib/python3.6/dist-packages/ilqr-0.1.0-py3.6.egg/ilqr/controller.py:933: UserWarning: exceeded max regularization term\n"
     ]
    }
   ],
   "source": [
    "cartpole_prob = CartPole_GPS(dt, N, x_dynamics, x0, x_goal, Q, R, Q_terminal)\n",
    "xs, mean_u, cov_u = cartpole_prob.run_IterLinQuadReg(us, A, B, C, 1)"
   ]
  },
  {
   "cell_type": "code",
   "execution_count": 9,
   "metadata": {},
   "outputs": [
    {
     "data": {
      "image/png": "[encoded data removed]",
      "text/plain": [
       "<matplotlib.figure.Figure at 0x7fc6f1241668>"
      ]
     },
     "metadata": {
      "needs_background": "light"
     },
     "output_type": "display_data"
    }
   ],
   "source": [
    "plt.plot(np.arange(us.shape[0]), us, 'r.', label='Original')\n",
    "plt.plot(np.arange(us.shape[0]), local_policy, 'b.', label='Corrupted')\n",
    "plt.plot(np.arange(us.shape[0]), mean_u, 'g.', label='Corrupted')\n",
    "plt.xlabel('Time steps')\n",
    "plt.ylabel('U')\n",
    "plt.legend()\n",
    "plt.show()"
   ]
  },
  {
   "cell_type": "code",
   "execution_count": null,
   "metadata": {},
   "outputs": [],
   "source": []
  }
 ],
 "metadata": {
  "kernelspec": {
   "display_name": "Python 3",
   "language": "python",
   "name": "python3"
  },
  "language_info": {
   "codemirror_mode": {
    "name": "ipython",
    "version": 3
   },
   "file_extension": ".py",
   "mimetype": "text/x-python",
   "name": "python",
   "nbconvert_exporter": "python",
   "pygments_lexer": "ipython3",
   "version": "3.6.7"
  }
 },
 "nbformat": 4,
 "nbformat_minor": 2
}
