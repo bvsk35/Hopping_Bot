{
 "cells": [
  {
   "cell_type": "code",
   "execution_count": 9,
   "metadata": {},
   "outputs": [],
   "source": [
    "import pickle as pck"
   ]
  },
  {
   "cell_type": "markdown",
   "metadata": {},
   "source": [
    "### Part 1\n",
    "The advantage of HIGHEST_PROTOCOL is that files get smaller. This makes unpickling sometimes much faster. Important notice: The maximum file size of pickle is about 2GB. Nice explanation here [Link](https://stackoverflow.com/questions/11218477/how-can-i-use-pickle-to-save-a-dict), [Serialization](https://en.wikipedia.org/wiki/Serialization), [Pickle](https://docs.python.org/3/library/pickle.html)."
   ]
  },
  {
   "cell_type": "code",
   "execution_count": 13,
   "metadata": {},
   "outputs": [],
   "source": [
    "# Store this data using pickle\n",
    "image = {'Lion':'Animal', 'Orange':'Fruit', 'Rose':'Flower', 'Carrot':'Vegetable'}\n",
    "pck.dump(image, open('Data', 'wb'), protocol=pck.HIGHEST_PROTOCOL)"
   ]
  },
  {
   "cell_type": "code",
   "execution_count": 14,
   "metadata": {},
   "outputs": [],
   "source": [
    "# Load the above data\n",
    "test_dict = pck.load(open('Data', 'rb'))"
   ]
  },
  {
   "cell_type": "code",
   "execution_count": 15,
   "metadata": {},
   "outputs": [
    {
     "name": "stdout",
     "output_type": "stream",
     "text": [
      "{'Lion': 'Animal', 'Orange': 'Fruit', 'Rose': 'Flower', 'Carrot': 'Vegetable'}\n",
      "True\n"
     ]
    }
   ],
   "source": [
    "print(test_dict)\n",
    "print(test_dict == image)"
   ]
  },
  {
   "cell_type": "markdown",
   "metadata": {},
   "source": [
    "### Part 2\n",
    "Best explanation is given by [Pickle](https://docs.python.org/3/library/pickle.html), [Link](https://stackoverflow.com/questions/1939058/simple-example-of-use-of-setstate-and-getstate), and [object.__dict__](https://docs.python.org/3/library/stdtypes.html#object.__dict__)"
   ]
  },
  {
   "cell_type": "code",
   "execution_count": 63,
   "metadata": {},
   "outputs": [],
   "source": [
    "class Foo(object):\n",
    "    def __init__(self, var1=14, var2=15):\n",
    "        self.var1 = var1\n",
    "        self.var2 = var2\n",
    "        \n",
    "    def __getstate__(self):\n",
    "        '''\n",
    "        Change the object variables from default to something else to make understanding easy. \n",
    "        Q: Why?\n",
    "        Ans:\n",
    "        A - If there was no __getstate__ function:\n",
    "            Then __dict__ would have been pickled as it is. __dict__ has all the writable \n",
    "            variable information regarding that class. \n",
    "        B - If we have __getstate__ function:\n",
    "            Then we can change the values of the variables in __dict__ and then (1) we can pickle it and\n",
    "            (2) we can return the __dict__ value so that it can be unpickled by __setstate__.\n",
    "        C - (1) If we call __getstate__ and __setstate__ as normal functions then \n",
    "            of course, we will call __getstate__ first then call __setstate__  otherwise __setstate__ will \n",
    "            return old __dict__ values. NO ONE DOES THIS BECAUSE IT DEFEATES THE PURPOSE OF PICKLE\n",
    "            (2) If we use pickle then call __getstate__ first then call __setstate__ but here __dict__ will\n",
    "            be empty hence we need to equate to the values with which original function was pickles.\n",
    "        '''\n",
    "        self.var1 *= 3\n",
    "        self.var2 *= 5\n",
    "        print('I\\'m being pickled with these values: {0}'.format(self.__dict__))\n",
    "        return self.__dict__\n",
    "    \n",
    "    def __setstate__(self, x):\n",
    "        print('I\\'m being unpickeld with these values: {0}'.format(x))\n",
    "        self.__dict__ = x\n",
    "        print('Check Bool: ', self.__dict__ == x)"
   ]
  },
  {
   "cell_type": "code",
   "execution_count": 64,
   "metadata": {},
   "outputs": [
    {
     "name": "stdout",
     "output_type": "stream",
     "text": [
      "I'm being pickled with these values: {'var1': 42, 'var2': 75}\n",
      "I'm being unpickeld with these values: {'var2': 75, 'var1': 42}\n",
      "Check Bool:  True\n"
     ]
    },
    {
     "data": {
      "text/plain": [
       "<__main__.Foo at 0x7f4cc754b710>"
      ]
     },
     "execution_count": 64,
     "metadata": {},
     "output_type": "execute_result"
    }
   ],
   "source": [
    "f = Foo()\n",
    "f_string = pck.dumps(f)\n",
    "pck.loads(f_string)"
   ]
  }
 ],
 "metadata": {
  "kernelspec": {
   "display_name": "Python 3",
   "language": "python",
   "name": "python3"
  },
  "language_info": {
   "codemirror_mode": {
    "name": "ipython",
    "version": 3
   },
   "file_extension": ".py",
   "mimetype": "text/x-python",
   "name": "python",
   "nbconvert_exporter": "python",
   "pygments_lexer": "ipython3",
   "version": "3.5.2"
  }
 },
 "nbformat": 4,
 "nbformat_minor": 2
}
