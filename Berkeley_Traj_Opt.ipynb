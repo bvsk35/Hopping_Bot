{
 "cells": [
  {
   "cell_type": "markdown",
   "metadata": {},
   "source": [
    "## Import required libraries"
   ]
  },
  {
   "cell_type": "code",
   "execution_count": 1,
   "metadata": {},
   "outputs": [],
   "source": [
    "import numpy as np\n",
    "import scipy as sp\n",
    "from numpy.linalg import LinAlgError\n",
    "from Test import ALG"
   ]
  },
  {
   "cell_type": "markdown",
   "metadata": {},
   "source": [
    "## Parameters Dictionary"
   ]
  },
  {
   "cell_type": "code",
   "execution_count": null,
   "metadata": {},
   "outputs": [],
   "source": [
    "class gen_param_dict(object):\n",
    "    '''\n",
    "    init: define the class constructor of with no arguments\n",
    "    '''\n",
    "    def __init__(self):\n",
    "        print('Generating all parameters')\n",
    "        \n",
    "    def gen_param_ALG(self): # add args\n",
    "        # Algorithm\n",
    "        ALG = {\n",
    "            'inner_iterations': 1,  # Number of iterations.\n",
    "            'min_eta': 1e-5,        # Minimum initial lagrange multiplier in DGD for trajectory optimization.\n",
    "            'kl_step':0.2,\n",
    "            'min_step_mult':0.01,\n",
    "            'max_step_mult':10.0,\n",
    "            'min_mult': 0.1,\n",
    "            'max_mult': 5.0,\n",
    "            # Trajectory settings.\n",
    "            'initial_state_var':1e-6,\n",
    "            'init_traj_distr': None, # A list of initial LinearGaussianPolicy objects for each condition.\n",
    "            # Trajectory optimization.\n",
    "            'traj_opt': None,\n",
    "            # Weight of maximum entropy term in trajectory optimization.\n",
    "            'max_ent_traj': 0.0,\n",
    "            # Dynamics hyperaparams.\n",
    "            'dynamics': None,\n",
    "            # Costs.\n",
    "            'cost': None,  # A list of Cost objects for each condition.\n",
    "            # Whether or not to sample with neural net policy (only for badmm/mdgps).\n",
    "            'sample_on_policy': False,\n",
    "            # Inidicates if the algorithm requires fitting of the dynamics.\n",
    "            'fit_dynamics': True,    \n",
    "        }\n",
    "        return ALG\n",
    "    \n",
    "    def gen_param_ALG_BADMM(self): # add args\n",
    "        # Algorithm BADMM\n",
    "        ALG_BADMM = {\n",
    "            'inner_iterations': 4,\n",
    "            'policy_dual_rate': 0.1,\n",
    "            'policy_dual_rate_covar': 0.0,\n",
    "            'fixed_lg_step': 0,\n",
    "            'lg_step_schedule': 10.0,\n",
    "            'ent_reg_schedule': 0.0,\n",
    "            'init_pol_wt': 0.01,\n",
    "            'policy_sample_mode': 'add',\n",
    "            'exp_step_increase': 2.0,\n",
    "            'exp_step_decrease': 0.5,\n",
    "            'exp_step_upper': 0.5,\n",
    "            'exp_step_lower': 1.0,\n",
    "        }\n",
    "        return ALG_BADMM\n",
    "\n"
   ]
  },
  {
   "cell_type": "markdown",
   "metadata": {},
   "source": [
    "## Required function class"
   ]
  },
  {
   "cell_type": "code",
   "execution_count": null,
   "metadata": {},
   "outputs": [],
   "source": [
    "class param_hold(object):\n",
    "    def __intit__(self, ALG_BADMM, ):\n",
    "        sas"
   ]
  },
  {
   "cell_type": "code",
   "execution_count": 3,
   "metadata": {},
   "outputs": [
    {
     "name": "stdout",
     "output_type": "stream",
     "text": [
      "2\n"
     ]
    }
   ],
   "source": [
    "a = {\n",
    "    'a': 1,\n",
    "    \n",
    "    'b': 2\n",
    "}\n",
    "print(a['b'])"
   ]
  },
  {
   "cell_type": "code",
   "execution_count": 2,
   "metadata": {},
   "outputs": [
    {
     "name": "stdout",
     "output_type": "stream",
     "text": [
      "{'inner_iterations': 1, 'min_eta': 1e-05, 'kl_step': 0.2, 'min_step_mult': 0.01, 'max_step_mult': 10.0, 'min_mult': 0.1, 'max_mult': 5.0, 'initial_state_var': 1e-06, 'init_traj_distr': None, 'traj_opt': None, 'max_ent_traj': 0.0, 'dynamics': None, 'cost': None, 'sample_on_policy': False, 'fit_dynamics': True}\n"
     ]
    }
   ],
   "source": [
    "# ALG['min_eta'] = 10\n",
    "print(ALG)"
   ]
  },
  {
   "cell_type": "code",
   "execution_count": 4,
   "metadata": {},
   "outputs": [
    {
     "ename": "ValueError",
     "evalue": "operands could not be broadcast together with shapes (2,3) (3,1) ",
     "output_type": "error",
     "traceback": [
      "\u001b[0;31m---------------------------------------------------------------------------\u001b[0m",
      "\u001b[0;31mValueError\u001b[0m                                Traceback (most recent call last)",
      "\u001b[0;32m<ipython-input-4-a8c59e100321>\u001b[0m in \u001b[0;36m<module>\u001b[0;34m\u001b[0m\n\u001b[1;32m      3\u001b[0m \u001b[0ma\u001b[0m \u001b[0;34m=\u001b[0m \u001b[0mnp\u001b[0m\u001b[0;34m.\u001b[0m\u001b[0marray\u001b[0m\u001b[0;34m(\u001b[0m\u001b[0;34m[\u001b[0m\u001b[0;34m[\u001b[0m\u001b[0;36m1\u001b[0m\u001b[0;34m,\u001b[0m \u001b[0;36m2\u001b[0m\u001b[0;34m,\u001b[0m \u001b[0;36m3\u001b[0m\u001b[0;34m]\u001b[0m\u001b[0;34m,\u001b[0m \u001b[0;34m[\u001b[0m\u001b[0;36m4\u001b[0m\u001b[0;34m,\u001b[0m \u001b[0;36m5\u001b[0m\u001b[0;34m,\u001b[0m \u001b[0;36m6\u001b[0m\u001b[0;34m]\u001b[0m\u001b[0;34m]\u001b[0m\u001b[0;34m)\u001b[0m\u001b[0;34m\u001b[0m\u001b[0;34m\u001b[0m\u001b[0m\n\u001b[1;32m      4\u001b[0m \u001b[0mb\u001b[0m \u001b[0;34m=\u001b[0m \u001b[0mnp\u001b[0m\u001b[0;34m.\u001b[0m\u001b[0marray\u001b[0m\u001b[0;34m(\u001b[0m\u001b[0;34m[\u001b[0m\u001b[0;34m[\u001b[0m\u001b[0;36m7\u001b[0m\u001b[0;34m]\u001b[0m\u001b[0;34m,\u001b[0m \u001b[0;34m[\u001b[0m\u001b[0;36m11\u001b[0m\u001b[0;34m]\u001b[0m\u001b[0;34m,\u001b[0m \u001b[0;34m[\u001b[0m\u001b[0;36m15\u001b[0m\u001b[0;34m]\u001b[0m\u001b[0;34m]\u001b[0m\u001b[0;34m)\u001b[0m\u001b[0;34m\u001b[0m\u001b[0;34m\u001b[0m\u001b[0m\n\u001b[0;32m----> 5\u001b[0;31m \u001b[0mc\u001b[0m \u001b[0;34m=\u001b[0m \u001b[0ma\u001b[0m \u001b[0;34m-\u001b[0m \u001b[0mb\u001b[0m\u001b[0;34m\u001b[0m\u001b[0;34m\u001b[0m\u001b[0m\n\u001b[0m\u001b[1;32m      6\u001b[0m \u001b[0mprint\u001b[0m\u001b[0;34m(\u001b[0m\u001b[0mc\u001b[0m\u001b[0;34m.\u001b[0m\u001b[0mshape\u001b[0m\u001b[0;34m)\u001b[0m\u001b[0;34m\u001b[0m\u001b[0;34m\u001b[0m\u001b[0m\n",
      "\u001b[0;31mValueError\u001b[0m: operands could not be broadcast together with shapes (2,3) (3,1) "
     ]
    }
   ],
   "source": [
    "# a x b = 2 x 3\n",
    "# b x c = 3 x 4\n",
    "a = np.array([[1, 2, 3], [4, 5, 6]])\n",
    "b = np.array([[7], [11], [15]])\n",
    "c = a - b\n",
    "print(c.shape)"
   ]
  },
  {
   "cell_type": "code",
   "execution_count": 11,
   "metadata": {},
   "outputs": [
    {
     "name": "stdout",
     "output_type": "stream",
     "text": [
      "[[1 2 3]\n",
      " [4 5 6]]\n",
      "[[-174]\n",
      " [-165]]\n",
      "[[175 176 177]\n",
      " [169 170 171]]\n"
     ]
    }
   ],
   "source": [
    "# a x b = 2 x 3\n",
    "# b x c = 1 x 3\n",
    "a = np.array([[1, 2, 3], [4, 5, 6]])\n",
    "b = np.array([[7, 81, 92]])\n",
    "c = a - b\n",
    "c = np.sum(c, axis=1, keepdims=True) # 2 x 1\n",
    "print(a)\n",
    "print(c)\n",
    "print(a - c)"
   ]
  },
  {
   "cell_type": "code",
   "execution_count": null,
   "metadata": {},
   "outputs": [],
   "source": []
  },
  {
   "cell_type": "code",
   "execution_count": null,
   "metadata": {},
   "outputs": [],
   "source": []
  },
  {
   "cell_type": "code",
   "execution_count": null,
   "metadata": {},
   "outputs": [],
   "source": []
  },
  {
   "cell_type": "code",
   "execution_count": null,
   "metadata": {},
   "outputs": [],
   "source": []
  }
 ],
 "metadata": {
  "kernelspec": {
   "display_name": "Python 3",
   "language": "python",
   "name": "python3"
  },
  "language_info": {
   "codemirror_mode": {
    "name": "ipython",
    "version": 3
   },
   "file_extension": ".py",
   "mimetype": "text/x-python",
   "name": "python",
   "nbconvert_exporter": "python",
   "pygments_lexer": "ipython3",
   "version": "3.6.7"
  }
 },
 "nbformat": 4,
 "nbformat_minor": 2
}
